{
 "cells": [
  {
   "cell_type": "markdown",
   "id": "619bb8c5-2c4a-4f67-aea8-24f9c6d833c5",
   "metadata": {
    "tags": []
   },
   "source": [
    "## Övningar lektion 2\n",
    "- list\n",
    "- tuple\n",
    "- set\n",
    "- dictionary\n",
    "- iterations (for & while)\n",
    "- funktioner\n",
    "- I/O\n",
    "\n",
    "### Länkar\n",
    "* w3schools info om ovanståend: https://www.w3schools.com/python/python_reference.asp\n",
    "* om fibonacci: https://sv.wikipedia.org/wiki/Fibonaccital"
   ]
  },
  {
   "cell_type": "markdown",
   "id": "24d5c623-aaf3-4a3b-883a-03dc6b8dbfc7",
   "metadata": {
    "tags": []
   },
   "source": [
    "### Iterationer"
   ]
  },
  {
   "cell_type": "markdown",
   "id": "9c054f66-0c93-4ff5-8634-56b067cde795",
   "metadata": {},
   "source": [
    "#### a)\n",
    "Skriv ut alla udda nummer mellan 0 och 26. Använd en for-loop och modulus oparatorn."
   ]
  },
  {
   "cell_type": "markdown",
   "id": "4ac5d362-e2ea-429d-b0f5-8dbcbc9d9e10",
   "metadata": {},
   "source": [
    "#### b)\n",
    "Skriv ett program som kollar om givet tal är ett **primtal** eller ej och ger feedback på detta. T.ex. \"9 är inte ett primtal.\" \n",
    "Tips: Primtal är tal som är delbara endast med 1 och sig själva. Använd dig av *if...else* och *for-loop*."
   ]
  },
  {
   "cell_type": "markdown",
   "id": "06760501",
   "metadata": {},
   "source": [
    "#### c)\n",
    "Modifiera ovanstående program för att även ge information på varför det inte är ett primtal. \n",
    "\n",
    "T.ex \"9 är inte ett primtal\" \n",
    "\n",
    "\"Produkten av 3 x 3 blir 9\"\n"
   ]
  },
  {
   "cell_type": "markdown",
   "id": "988baee8",
   "metadata": {},
   "source": [
    "##### Tips\n",
    "- Primtal är tal som är delbara endast med 1 och sig själva. \n",
    "- Använd dig av en flagga, if...else och/eller for-loop.\n",
    "- for-loopen kan även vara en for...else"
   ]
  },
  {
   "cell_type": "markdown",
   "id": "b8dc730d",
   "metadata": {},
   "source": [
    "#### d)\n",
    "Skriv en funktion som tar in ett tal som argument och skriver ut Fibonacci sekvensen i den längd som argumentet anger. T.ex. tal = 4 skulle ge [0, 1, 1, 2]\n",
    "\n",
    "Om fibonacci sekvensen: De första termerna är 0 och 1, följande får man genom att lägga ihop de två föregående siffrorna. Dvs. termen n är summan av termerna (n-1) och (n-2). "
   ]
  },
  {
   "cell_type": "markdown",
   "id": "9dd87c09-35f3-4e7d-8c4d-7e0c9f90ebb2",
   "metadata": {},
   "source": [
    "#### e)\n",
    "\n",
    "\n",
    "- Skapa en lista med frukter, minst 10 st. Skriv ut all frukter, använd dig av print() och for loop. Se till att det blir snyggt\n",
    "\n",
    "- Lägg till en eller flera frukter. Skriv ut alla frukter med print och for loop så att det skrivs ut som exemplet nedan (med siffrorna).\n",
    "\n",
    "1. Äpple\n",
    "2. Annanas\n",
    "3. Persika"
   ]
  },
  {
   "cell_type": "markdown",
   "id": "5e7375ba-1c58-4f5a-9e32-fecbd81f68b2",
   "metadata": {},
   "source": [
    "#### While\n",
    "\n",
    "Skriv om uppgifterna **a-e**  med en while loop istället. Går det, tycker du?"
   ]
  },
  {
   "cell_type": "markdown",
   "id": "cbeed6b8-29e0-4cbc-ad42-20581f1dbcac",
   "metadata": {
    "tags": []
   },
   "source": [
    "### Funktioner"
   ]
  },
  {
   "cell_type": "markdown",
   "id": "63f1b9c3-1c77-44be-baf3-3c81d5b04c69",
   "metadata": {
    "tags": []
   },
   "source": [
    "#### a) Miniräknare\n",
    "Skriv ett miniprogram som tar emot en siffra, en matematisk operation och en siffra till. Dubbelkolla att operatorn är giltig, skriv ett meddelande om den inte är det. Skriv ut meddelanden och resultatet på ett fint sätt. \n",
    "T.ex. \n",
    "- Enter a first number:\n",
    "- Enter a operation:\n",
    "- Enter a second number:\n",
    "- *num1* *operation* *num2* = *answer*\n",
    "\n",
    "Tips:\n",
    "* Skriv enskilda funktioner för varje operation\n",
    "* Använd nyckelordet **in** for att kolla om operatorn är giltig."
   ]
  },
  {
   "cell_type": "markdown",
   "id": "b3bc5bae-4dc3-4a62-aea4-70fd8807db7a",
   "metadata": {},
   "source": [
    "#### b)\n",
    "Modifiera Miniräknaren så att efter att resultatet visas frågar du om användaren vill räkna ut något annat och tillåter ett \"yes\", \"no\" svar som antingen fortsätter eller avslutar."
   ]
  },
  {
   "cell_type": "markdown",
   "id": "6d2a99cd-ed3c-4068-b8c8-6b1d1e3e45bd",
   "metadata": {},
   "source": [
    "#### c)\n",
    "Fundera på vilka delar (förutom operationerna) du kan flytta ut i enskilda funktioner och implementera det. Blev det bättre eller sämre?"
   ]
  },
  {
   "cell_type": "markdown",
   "id": "515e2613-648f-435c-ab82-992a883f874a",
   "metadata": {
    "jp-MarkdownHeadingCollapsed": true,
    "tags": []
   },
   "source": []
  },
  {
   "cell_type": "markdown",
   "id": "ee569b02-9ed1-402d-8fed-bd74ebfb01da",
   "metadata": {
    "tags": []
   },
   "source": [
    "### Collections"
   ]
  },
  {
   "cell_type": "markdown",
   "id": "53008018-e3fd-43fb-b4c4-0321519b18e1",
   "metadata": {
    "tags": []
   },
   "source": [
    "#### Dictionaries\n",
    "Skapa två dictionaries, en med frukter (str) och en med platser (str), bägge med siffror som nycklar (keys) som börjar med **1**."
   ]
  },
  {
   "cell_type": "markdown",
   "id": "182fc201-320d-4484-a738-e2a1bbf64dd4",
   "metadata": {},
   "source": [
    "##### a)\n",
    "Skapa en ny dictionary och lägg innehållet av dicts ovan däri. Skriv ut resultatet. Vad hände med nycklarna?"
   ]
  },
  {
   "cell_type": "markdown",
   "id": "ee653230-74c4-4da1-9dcf-2d6825c497fd",
   "metadata": {},
   "source": [
    "##### b) \n",
    "Ändra nycklarna i dict med platser och upprepa **a)**."
   ]
  },
  {
   "cell_type": "markdown",
   "id": "8297ddb8-91f1-454a-88b6-fdd04250f7ef",
   "metadata": {},
   "source": [
    "##### c) \n",
    "Kan du upprepa **a** men lägga samman dem på något annat sätt? Titta på de inbyggda metoderna i dictionary. "
   ]
  },
  {
   "cell_type": "markdown",
   "id": "6253bb62-a57b-437e-9b76-fb2e1a49a282",
   "metadata": {},
   "source": [
    "##### d) \n",
    "Skriv ut elementen (values) och nyklar (keys) för sig. \n",
    "\n",
    "T.ex. \n",
    "Element:\n",
    "Päron\n",
    "Plommon\n",
    "Physilys\n",
    "Philladelphia\n",
    "Paris\n",
    "Puerto Rico\n",
    "\n",
    "Nycklar:\n",
    "1\n",
    "2\n",
    "3\n",
    "4\n",
    "5\n",
    "5"
   ]
  },
  {
   "cell_type": "markdown",
   "id": "46dcb668-f4d2-47a9-8e53-0e3edc31e350",
   "metadata": {},
   "source": [
    "#### e)\n",
    "* Ändra ett element i en av de dict. du skapade tidigare.\n",
    "* Lägg till ett nytt key-value par."
   ]
  },
  {
   "cell_type": "markdown",
   "id": "59325cf5-7d26-48ba-87d3-f05416512142",
   "metadata": {
    "tags": []
   },
   "source": [
    "### Lists"
   ]
  },
  {
   "cell_type": "markdown",
   "id": "fb28c503-e86e-4d0e-9690-f13c58ce0e35",
   "metadata": {
    "tags": []
   },
   "source": [
    "#### a)\n",
    "Skapa en lista med minst 10 element. T.ex: 10 länder eller siffor. \n",
    "Skriv ut resultatet."
   ]
  },
  {
   "cell_type": "markdown",
   "id": "14561279-d5fd-4a9a-b8d2-881804fc2825",
   "metadata": {},
   "source": [
    "#### b)\n",
    "- Använd notationen med **:** (kolon) för att få fram de tre första elementen. \n",
    "- Använd samma notation som i **b** för att få fram det näst sista elementet."
   ]
  },
  {
   "cell_type": "markdown",
   "id": "9e4f3b56-4cba-4d9a-9bf8-1ce9b5b8267f",
   "metadata": {},
   "source": [
    "#### c)\n",
    "* Lägg till ett nytt element till listan. Skriv ut resultatet.\n",
    "* Skapa en ny lista med 3 nya element och lägg till den till den första listan. Skriv ut."
   ]
  },
  {
   "cell_type": "markdown",
   "id": "46e8b35e-863b-4104-b318-e40f499e05b2",
   "metadata": {},
   "source": [
    "#### d) \n",
    "Dela listan på mitten och lägg elementen i två nya listor. Använd dig av **len()** och en (eller flera) loopar. "
   ]
  },
  {
   "cell_type": "markdown",
   "id": "89b5d1c6-1530-40ae-922d-7954395cac7a",
   "metadata": {
    "tags": []
   },
   "source": [
    "#### e)\n",
    "Skapa en funktion som tar emot en lista av heltal som ett argument och sedan skriver ut innehållet med ett index:\n",
    "\n",
    "1. 343\n",
    "2. 8954\n",
    "3. 532\n",
    "4. 78953"
   ]
  },
  {
   "cell_type": "markdown",
   "id": "44944023-3210-4853-a81d-63e1521c5f63",
   "metadata": {},
   "source": [
    "#### f)\n",
    "* Upprepa **e** men ta emot en lista med en blanding av datatyper. \n",
    "* Upprepa **e** men ta emot ett heltal *x* och skapa sedan en lista med värden från 0 till *x* genom att använda dig av funktionen range().\n",
    "* Upprepa **e** men använd dig av *enumerate*. Observera att enumerate returnerar en tuple med position i listan och värdet. "
   ]
  },
  {
   "cell_type": "markdown",
   "id": "01e9d164-c900-41bf-ab58-c320d7642b52",
   "metadata": {},
   "source": [
    "#### g)\n",
    "saker = ['kudde', 'lampa', 'cykel', 'banan', 'vatten']\n",
    "\n",
    "Lägg till elementet 'karusell' mellan *cykel* och *banan*."
   ]
  },
  {
   "cell_type": "markdown",
   "id": "d5e68412-59cb-4938-99e2-9b1aab11acef",
   "metadata": {
    "tags": []
   },
   "source": [
    "### Tuple"
   ]
  },
  {
   "cell_type": "markdown",
   "id": "ab7686f0-b36d-4eaa-b11a-4837fa8bd586",
   "metadata": {},
   "source": [
    "#### a)\n",
    "Skapa en tuple från en lista, str och dictionary. Använd dig av konstruktorn tuple() och skriv ut varje typ av tuple. Fungerade de alla som du förväntade dig?"
   ]
  },
  {
   "cell_type": "markdown",
   "id": "2705f07b-ed6a-464b-80dc-33bf5b972686",
   "metadata": {},
   "source": [
    "#### b)\n",
    "* Skapa en tuple med vokaler och använd dig av den inbyggda tuple.index() funktionen för att se vilket indexvärde några utav bokstäverna har.\n",
    "* Kolla vad du får när du kollar indexvärdet för bokstaven 'k' (som inte finns med)."
   ]
  },
  {
   "cell_type": "markdown",
   "id": "d1f75810-2863-4665-b4eb-181bc438174c",
   "metadata": {},
   "source": [
    "#### c) \n",
    "Kolla på hur index funktionen fungerar genom *help(tuple)*. Lägg till några fler bokstäver och se till att några upprepar sig. Ta reda på indexvärdet på en bokstav som upprepar sig. Får du upp alla dess index?"
   ]
  },
  {
   "cell_type": "markdown",
   "id": "05d22227-303f-4199-8f1e-417ec89cdd2b",
   "metadata": {},
   "source": [
    "#### d) \n",
    "Använd dig av index() metodens fulla funktionalitet för att hitta index för bokstäverna som upprepas"
   ]
  },
  {
   "cell_type": "markdown",
   "id": "2d37b3f0-ec62-4fdb-82c6-0665f5f16fdc",
   "metadata": {},
   "source": [
    "#### e)\n",
    "Använd den inbyggda funktionen *count()* för att räkna hur många gånger varje bokstav upprepas. "
   ]
  },
  {
   "cell_type": "markdown",
   "id": "4608b8fc-4327-4309-8442-22a9323d9833",
   "metadata": {},
   "source": [
    "#### f)\n",
    "Titta på modulen **collections:namedtuple** (https://docs.python.org/3/library/collections.html#collections.namedtuple) och skapa en named tuple som har värdena *(Namn, ålder)* döp den till *Person*. Skapa en ny variabel av den här typen och fyll den med värdena 'Jonny' och 55. \n",
    "* "
   ]
  },
  {
   "cell_type": "markdown",
   "id": "aea30a82-b467-414d-9357-4dbdcc9bb96a",
   "metadata": {},
   "source": [
    "### Dictionaries"
   ]
  },
  {
   "cell_type": "markdown",
   "id": "ec518772-d137-4aaa-a357-b1d4053d182b",
   "metadata": {},
   "source": [
    "#### a) \n",
    "Skapa en lista med namn (minst fem). \n",
    "Skapa en dictionary och med hjälp av en loop, fyll den med elementen i listan. Nycklar kan vara siffror. Skriv ut resultatet genom att använda dig av *print(dictionary)*."
   ]
  },
  {
   "cell_type": "markdown",
   "id": "27ac56aa-3838-494f-ba32-784cf9b538b8",
   "metadata": {},
   "source": [
    "#### b)\n",
    "* Lägg till ett namn. \n",
    "* Ändra det tredje namnet till *Billybob*\n",
    "* Skriv endast ut namnen (*values*) och inte nycklarna (*keys*)"
   ]
  },
  {
   "cell_type": "markdown",
   "id": "f0e78be1-e688-4d85-a5c0-feb6ebc4d5ab",
   "metadata": {},
   "source": [
    "#### c)\n",
    "Skapa en dictionary med åldrar. Låt nycklarna vara siffror igen."
   ]
  },
  {
   "cell_type": "markdown",
   "id": "5e39e91c-8694-495e-91bc-e9b84e180a3e",
   "metadata": {},
   "source": [
    "#### d)\n",
    "Skapa en ny dictionary där du använder de andra två för att ha ett *key-value* par som är *'Namn'- ålder* (t.ex. {'Maria': 23, 'Bob':57}.  "
   ]
  },
  {
   "cell_type": "markdown",
   "id": "27d994ac-1213-464f-940f-8f681e315aac",
   "metadata": {},
   "source": [
    "#### e) \n",
    "Radera ett namn från dictionaryn."
   ]
  },
  {
   "cell_type": "markdown",
   "id": "c26b4b6b-9e3f-4a5d-8f2f-172aa2038cee",
   "metadata": {},
   "source": [
    "### Sets"
   ]
  },
  {
   "cell_type": "markdown",
   "id": "2e7887e0-fbad-44ba-a8d9-4260689b1952",
   "metadata": {},
   "source": [
    "### Input/ Output"
   ]
  }
 ],
 "metadata": {
  "kernelspec": {
   "display_name": "Python 3 (ipykernel)",
   "language": "python",
   "name": "python3"
  },
  "language_info": {
   "codemirror_mode": {
    "name": "ipython",
    "version": 3
   },
   "file_extension": ".py",
   "mimetype": "text/x-python",
   "name": "python",
   "nbconvert_exporter": "python",
   "pygments_lexer": "ipython3",
   "version": "3.9.12"
  }
 },
 "nbformat": 4,
 "nbformat_minor": 5
}
