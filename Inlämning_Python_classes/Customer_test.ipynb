{
 "cells": [
  {
   "cell_type": "code",
   "execution_count": 1,
   "id": "e4d4b2c0-4279-4b32-b8e5-4917d14ceb76",
   "metadata": {},
   "outputs": [],
   "source": [
    "from Customer import Customer as cu"
   ]
  },
  {
   "cell_type": "code",
   "execution_count": 2,
   "id": "30f95555-5747-41f7-b72a-d04bf7f2650b",
   "metadata": {},
   "outputs": [],
   "source": [
    "sam = cu(11111, \"Sam\", 19870606)"
   ]
  },
  {
   "cell_type": "code",
   "execution_count": 3,
   "id": "0d5f2776-e0a6-47ff-bda7-f2ae6faf31ac",
   "metadata": {},
   "outputs": [],
   "source": [
    "sam.change_name(\"Sam Jbbar\")"
   ]
  },
  {
   "cell_type": "code",
   "execution_count": 4,
   "id": "cf02ea07-940b-44a1-96a2-6df10bdf7bec",
   "metadata": {},
   "outputs": [
    {
     "name": "stdout",
     "output_type": "stream",
     "text": [
      "Customer name:  Sam Jbbar\n",
      " \n",
      "Customer_id:  11111\n",
      " \n",
      "Customer_pnr:  19870606\n"
     ]
    }
   ],
   "source": [
    "sam.show_customer_info(19870606)"
   ]
  },
  {
   "cell_type": "code",
   "execution_count": 5,
   "id": "3fedc3e9-db6b-473d-b0c2-e2f7aabce43c",
   "metadata": {},
   "outputs": [
    {
     "data": {
      "text/plain": [
       "'11111:Sam Jbbar:19870606:'"
      ]
     },
     "execution_count": 5,
     "metadata": {},
     "output_type": "execute_result"
    }
   ],
   "source": [
    "sam.get_customer()"
   ]
  },
  {
   "cell_type": "code",
   "execution_count": 7,
   "id": "176483b0-9722-4fa2-853c-066ccf6ea577",
   "metadata": {},
   "outputs": [],
   "source": [
    "rina = cu(11112, \"Rina\", 19910415)"
   ]
  },
  {
   "cell_type": "code",
   "execution_count": 8,
   "id": "878201ac-43f0-4f64-b69a-595d153c633f",
   "metadata": {},
   "outputs": [
    {
     "name": "stdout",
     "output_type": "stream",
     "text": [
      "Customer name:  Rina\n",
      " \n",
      "Customer_id:  11112\n",
      " \n",
      "Customer_pnr:  19910415\n"
     ]
    }
   ],
   "source": [
    "rina.show_customer_info(19910415)"
   ]
  },
  {
   "cell_type": "code",
   "execution_count": 9,
   "id": "1765722e-bc6d-4426-9e8f-7064617449e1",
   "metadata": {},
   "outputs": [
    {
     "data": {
      "text/plain": [
       "'11112:Rina:19910415:'"
      ]
     },
     "execution_count": 9,
     "metadata": {},
     "output_type": "execute_result"
    }
   ],
   "source": [
    "rina.get_customer()"
   ]
  },
  {
   "cell_type": "code",
   "execution_count": null,
   "id": "e088d935-775b-4de7-90e7-0211da3e6049",
   "metadata": {},
   "outputs": [],
   "source": []
  }
 ],
 "metadata": {
  "kernelspec": {
   "display_name": "Python 3 (ipykernel)",
   "language": "python",
   "name": "python3"
  },
  "language_info": {
   "codemirror_mode": {
    "name": "ipython",
    "version": 3
   },
   "file_extension": ".py",
   "mimetype": "text/x-python",
   "name": "python",
   "nbconvert_exporter": "python",
   "pygments_lexer": "ipython3",
   "version": "3.9.12"
  }
 },
 "nbformat": 4,
 "nbformat_minor": 5
}
