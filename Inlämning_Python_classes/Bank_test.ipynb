{
 "cells": [
  {
   "cell_type": "code",
   "execution_count": 11,
   "id": "ab907606-ea78-40f7-81df-bb3c54af9f7b",
   "metadata": {},
   "outputs": [],
   "source": [
    "from Bank import Bank as ba"
   ]
  },
  {
   "cell_type": "code",
   "execution_count": 12,
   "id": "bd8788fb-1f17-4140-be38-68582e184cb2",
   "metadata": {},
   "outputs": [],
   "source": [
    "bank = ba()"
   ]
  },
  {
   "cell_type": "code",
   "execution_count": 13,
   "id": "c879eb46-2794-4b73-b59e-bc521015dd94",
   "metadata": {},
   "outputs": [
    {
     "name": "stdout",
     "output_type": "stream",
     "text": [
      "Sam 19911111\n",
      "NeLEe 19860107\n",
      "Manuel 19911216\n",
      "SOSO 19911131\n",
      "Haron 19808080\n"
     ]
    }
   ],
   "source": [
    "ba().get_customers()"
   ]
  },
  {
   "cell_type": "code",
   "execution_count": 14,
   "id": "481153dc-32b2-46c6-a8b6-846c1303f4fc",
   "metadata": {},
   "outputs": [
    {
     "name": "stdout",
     "output_type": "stream",
     "text": [
      "Manuel : 19911216 :['1003:debit account:200.0#']\n"
     ]
    }
   ],
   "source": [
    "ba().get_customer(19911216)"
   ]
  },
  {
   "cell_type": "code",
   "execution_count": 15,
   "id": "6cb3f85b-b0b0-42be-a3f1-ed80ba17daac",
   "metadata": {},
   "outputs": [
    {
     "data": {
      "text/plain": [
       "'Manuel:19911216:1003:debit account:200.0#'"
      ]
     },
     "execution_count": 15,
     "metadata": {},
     "output_type": "execute_result"
    }
   ],
   "source": [
    "ba().get_account(19911216,1003)"
   ]
  },
  {
   "cell_type": "code",
   "execution_count": 16,
   "id": "fb8ef96a-1299-411e-ab71-d904507865ed",
   "metadata": {},
   "outputs": [
    {
     "name": "stdout",
     "output_type": "stream",
     "text": [
      "replace_text 111112:NeLEe:19860107:1002:debit account:0.0#\n",
      "search_text 111112:NeLEe:19860107:1002:debit account:0.0#\n"
     ]
    },
    {
     "data": {
      "text/plain": [
       "False"
      ]
     },
     "execution_count": 16,
     "metadata": {},
     "output_type": "execute_result"
    }
   ],
   "source": [
    "ba().change_customer_name(\"NeLEe\",19860107)"
   ]
  },
  {
   "cell_type": "code",
   "execution_count": 17,
   "id": "ef80a3cc-d33a-489d-8bc7-4a6f89b1d757",
   "metadata": {},
   "outputs": [
    {
     "name": "stdout",
     "output_type": "stream",
     "text": [
      "Customer_id: 111115 is new customer_id!\n",
      "111115:Haron:19808080:\n"
     ]
    },
    {
     "data": {
      "text/plain": [
       "True"
      ]
     },
     "execution_count": 17,
     "metadata": {},
     "output_type": "execute_result"
    }
   ],
   "source": [
    "ba().add_customer(111115,\"Haron\", 19808080)"
   ]
  },
  {
   "cell_type": "code",
   "execution_count": 18,
   "id": "a7b20dac-1f69-4828-aec2-2ee32190d661",
   "metadata": {},
   "outputs": [
    {
     "name": "stdout",
     "output_type": "stream",
     "text": [
      "NeLEe : 19860107 :['1002:debit account:0.0#']\n"
     ]
    }
   ],
   "source": [
    "ba().get_customer(19860107)"
   ]
  },
  {
   "cell_type": "code",
   "execution_count": 19,
   "id": "810dd534-2404-4b82-b751-c4aa4e686db3",
   "metadata": {},
   "outputs": [
    {
     "name": "stdout",
     "output_type": "stream",
     "text": [
      "new account to  111115 is added\n",
      "111115 1022 200\n"
     ]
    },
    {
     "data": {
      "text/plain": [
       "True"
      ]
     },
     "execution_count": 19,
     "metadata": {},
     "output_type": "execute_result"
    }
   ],
   "source": [
    "ba().add_account(19808080,1022,200)"
   ]
  },
  {
   "cell_type": "code",
   "execution_count": 20,
   "id": "42e5b011-596a-4571-bd94-45a7f1970c3e",
   "metadata": {},
   "outputs": [
    {
     "ename": "AttributeError",
     "evalue": "'Bank' object has no attribute 'deposit'",
     "output_type": "error",
     "traceback": [
      "\u001b[1;31m---------------------------------------------------------------------------\u001b[0m",
      "\u001b[1;31mAttributeError\u001b[0m                            Traceback (most recent call last)",
      "Input \u001b[1;32mIn [20]\u001b[0m, in \u001b[0;36m<cell line: 1>\u001b[1;34m()\u001b[0m\n\u001b[1;32m----> 1\u001b[0m \u001b[43mba\u001b[49m\u001b[43m(\u001b[49m\u001b[43m)\u001b[49m\u001b[38;5;241;43m.\u001b[39;49m\u001b[43mdeposit\u001b[49m(\u001b[38;5;241m12312345\u001b[39m,\u001b[38;5;241m1011\u001b[39m, \u001b[38;5;241m80000\u001b[39m)\n",
      "\u001b[1;31mAttributeError\u001b[0m: 'Bank' object has no attribute 'deposit'"
     ]
    }
   ],
   "source": [
    "ba().deposit(12312345,1011, 80000)"
   ]
  },
  {
   "cell_type": "code",
   "execution_count": null,
   "id": "e9412020-2b3a-49d4-8027-3f3357f23308",
   "metadata": {},
   "outputs": [],
   "source": []
  }
 ],
 "metadata": {
  "kernelspec": {
   "display_name": "Python 3 (ipykernel)",
   "language": "python",
   "name": "python3"
  },
  "language_info": {
   "codemirror_mode": {
    "name": "ipython",
    "version": 3
   },
   "file_extension": ".py",
   "mimetype": "text/x-python",
   "name": "python",
   "nbconvert_exporter": "python",
   "pygments_lexer": "ipython3",
   "version": "3.9.12"
  }
 },
 "nbformat": 4,
 "nbformat_minor": 5
}
