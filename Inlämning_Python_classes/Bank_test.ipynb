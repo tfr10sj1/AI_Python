{
 "cells": [
  {
   "cell_type": "code",
   "execution_count": 1,
   "id": "ab907606-ea78-40f7-81df-bb3c54af9f7b",
   "metadata": {},
   "outputs": [],
   "source": [
    "from Bank import Bank as ba"
   ]
  },
  {
   "cell_type": "code",
   "execution_count": 2,
   "id": "bd8788fb-1f17-4140-be38-68582e184cb2",
   "metadata": {},
   "outputs": [],
   "source": [
    "bank = ba()"
   ]
  },
  {
   "cell_type": "code",
   "execution_count": 3,
   "id": "3358b6eb-60b0-4e4a-85e4-b39ea43d5179",
   "metadata": {},
   "outputs": [
    {
     "data": {
      "text/plain": [
       "['111111:Sam:19911111:1001:debit account:5000.0#',\n",
       " '111112:NeLEe:19860107:1002:debit account:0.0#',\n",
       " '111113:Manuel:19911216:1003:debit account:200.0#',\n",
       " '111114:SOSO:19911131:1004:debit account:0#']"
      ]
     },
     "execution_count": 3,
     "metadata": {},
     "output_type": "execute_result"
    }
   ],
   "source": [
    "ba()._load()"
   ]
  },
  {
   "cell_type": "code",
   "execution_count": 4,
   "id": "c879eb46-2794-4b73-b59e-bc521015dd94",
   "metadata": {},
   "outputs": [
    {
     "name": "stdout",
     "output_type": "stream",
     "text": [
      "111111 Sam\n",
      "111112 NeLEe\n",
      "111113 Manuel\n",
      "111114 SOSO\n"
     ]
    }
   ],
   "source": [
    "ba().get_customers()"
   ]
  },
  {
   "cell_type": "code",
   "execution_count": 7,
   "id": "f1f852d7-a395-4337-8b0f-1dd651eb608a",
   "metadata": {},
   "outputs": [
    {
     "name": "stdout",
     "output_type": "stream",
     "text": [
      "You are already a customer!\n"
     ]
    },
    {
     "data": {
      "text/plain": [
       "False"
      ]
     },
     "execution_count": 7,
     "metadata": {},
     "output_type": "execute_result"
    }
   ],
   "source": [
    "bank.add_customer(11115, \"Diana\", 20161109)"
   ]
  },
  {
   "cell_type": "code",
   "execution_count": 8,
   "id": "d8af7ea0-30f2-4e63-a28d-4db5c27d2f77",
   "metadata": {},
   "outputs": [
    {
     "name": "stdout",
     "output_type": "stream",
     "text": [
      "Diana 20161109 11115 \n"
     ]
    }
   ],
   "source": [
    "ba().get_customer(20161109)"
   ]
  },
  {
   "cell_type": "code",
   "execution_count": null,
   "id": "8c3d306c-7ed5-435d-8667-5f17bf7b96c4",
   "metadata": {},
   "outputs": [],
   "source": []
  },
  {
   "cell_type": "code",
   "execution_count": null,
   "id": "7c6ab69b-66c2-4417-a5d8-73aa1a1c2286",
   "metadata": {},
   "outputs": [],
   "source": []
  },
  {
   "cell_type": "code",
   "execution_count": null,
   "id": "75d6810d-ebf4-4bb7-a671-cc67a370128f",
   "metadata": {},
   "outputs": [],
   "source": []
  }
 ],
 "metadata": {
  "kernelspec": {
   "display_name": "Python 3 (ipykernel)",
   "language": "python",
   "name": "python3"
  },
  "language_info": {
   "codemirror_mode": {
    "name": "ipython",
    "version": 3
   },
   "file_extension": ".py",
   "mimetype": "text/x-python",
   "name": "python",
   "nbconvert_exporter": "python",
   "pygments_lexer": "ipython3",
   "version": "3.9.12"
  }
 },
 "nbformat": 4,
 "nbformat_minor": 5
}
