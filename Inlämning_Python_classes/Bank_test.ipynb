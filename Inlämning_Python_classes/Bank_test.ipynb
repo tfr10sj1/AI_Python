{
 "cells": [
  {
   "cell_type": "code",
   "execution_count": 1,
   "id": "ab907606-ea78-40f7-81df-bb3c54af9f7b",
   "metadata": {},
   "outputs": [
    {
     "ename": "IndentationError",
     "evalue": "unindent does not match any outer indentation level (Account.py, line 12)",
     "output_type": "error",
     "traceback": [
      "Traceback \u001b[1;36m(most recent call last)\u001b[0m:\n",
      "  File \u001b[0;32mC:\\ProgramData\\Anaconda3\\lib\\site-packages\\IPython\\core\\interactiveshell.py:3369\u001b[0m in \u001b[0;35mrun_code\u001b[0m\n    exec(code_obj, self.user_global_ns, self.user_ns)\n",
      "  Input \u001b[0;32mIn [1]\u001b[0m in \u001b[0;35m<cell line: 1>\u001b[0m\n    from Bank import Bank as ba\n",
      "\u001b[1;36m  File \u001b[1;32m~\\Documents\\Python_AI_kurs\\övningar\\Inlämning_Python_classes\\Bank.py:2\u001b[1;36m in \u001b[1;35m<module>\u001b[1;36m\u001b[0m\n\u001b[1;33m    from Account import Account as ac\u001b[0m\n",
      "\u001b[1;36m  File \u001b[1;32m~\\Documents\\Python_AI_kurs\\övningar\\Inlämning_Python_classes\\Account.py:12\u001b[1;36m\u001b[0m\n\u001b[1;33m    else:\u001b[0m\n\u001b[1;37m         ^\u001b[0m\n\u001b[1;31mIndentationError\u001b[0m\u001b[1;31m:\u001b[0m unindent does not match any outer indentation level\n"
     ]
    }
   ],
   "source": [
    "from Bank import Bank as ba"
   ]
  },
  {
   "cell_type": "code",
   "execution_count": null,
   "id": "8d8ffffe-6505-48fc-8892-7815b55783d5",
   "metadata": {},
   "outputs": [],
   "source": [
    "from Customer import Customer as ca"
   ]
  },
  {
   "cell_type": "code",
   "execution_count": null,
   "id": "3dc29e9d-1505-4c7a-aa5e-3bcb64b896ca",
   "metadata": {},
   "outputs": [],
   "source": [
    "from Account import Account as ac"
   ]
  },
  {
   "cell_type": "code",
   "execution_count": null,
   "id": "bd8788fb-1f17-4140-be38-68582e184cb2",
   "metadata": {},
   "outputs": [],
   "source": [
    "bank = ba()"
   ]
  },
  {
   "cell_type": "code",
   "execution_count": null,
   "id": "3358b6eb-60b0-4e4a-85e4-b39ea43d5179",
   "metadata": {},
   "outputs": [],
   "source": [
    "ba()._load()"
   ]
  },
  {
   "cell_type": "code",
   "execution_count": null,
   "id": "c879eb46-2794-4b73-b59e-bc521015dd94",
   "metadata": {},
   "outputs": [],
   "source": [
    "ba().get_customers()"
   ]
  },
  {
   "cell_type": "code",
   "execution_count": null,
   "id": "f1f852d7-a395-4337-8b0f-1dd651eb608a",
   "metadata": {},
   "outputs": [],
   "source": [
    "bank.add_customer(11115, \"Diana\", 20161109)"
   ]
  },
  {
   "cell_type": "code",
   "execution_count": null,
   "id": "acf4d756-5cab-4214-9688-6a67f686b84b",
   "metadata": {},
   "outputs": [],
   "source": [
    "ba().get_customers()"
   ]
  },
  {
   "cell_type": "code",
   "execution_count": null,
   "id": "d8af7ea0-30f2-4e63-a28d-4db5c27d2f77",
   "metadata": {},
   "outputs": [],
   "source": [
    "ba().get_customer(19911111)"
   ]
  },
  {
   "cell_type": "code",
   "execution_count": null,
   "id": "8c3d306c-7ed5-435d-8667-5f17bf7b96c4",
   "metadata": {},
   "outputs": [],
   "source": [
    "ba().add_account(19911111,7575,1500 )"
   ]
  },
  {
   "cell_type": "code",
   "execution_count": null,
   "id": "7c6ab69b-66c2-4417-a5d8-73aa1a1c2286",
   "metadata": {},
   "outputs": [],
   "source": [
    "ba().change_customer_name(\"Diana Jabbar\", 20161109)"
   ]
  },
  {
   "cell_type": "code",
   "execution_count": null,
   "id": "75d6810d-ebf4-4bb7-a671-cc67a370128f",
   "metadata": {},
   "outputs": [],
   "source": [
    "ba().get_customer(19911111)"
   ]
  },
  {
   "cell_type": "code",
   "execution_count": null,
   "id": "f3a00b41-ff56-4025-a090-e8d2aa2ccbf7",
   "metadata": {},
   "outputs": [],
   "source": [
    "ba().deposit(19911111, 1001, 10000)"
   ]
  },
  {
   "cell_type": "code",
   "execution_count": null,
   "id": "96377092-be07-4c9a-ac98-732b8104ea46",
   "metadata": {},
   "outputs": [],
   "source": [
    "#ba().remove_customer(19911111)"
   ]
  },
  {
   "cell_type": "code",
   "execution_count": null,
   "id": "89199cd5-2fc8-480a-b2ed-a13f2afed329",
   "metadata": {},
   "outputs": [],
   "source": [
    "ba().get_account(19911111, 1001)"
   ]
  },
  {
   "cell_type": "code",
   "execution_count": null,
   "id": "549d898d-25f6-4646-b3c0-3445d73ae101",
   "metadata": {},
   "outputs": [],
   "source": []
  },
  {
   "cell_type": "code",
   "execution_count": null,
   "id": "1da2904b-aab2-42d8-852d-fcb566860495",
   "metadata": {},
   "outputs": [],
   "source": []
  }
 ],
 "metadata": {
  "kernelspec": {
   "display_name": "Python 3 (ipykernel)",
   "language": "python",
   "name": "python3"
  },
  "language_info": {
   "codemirror_mode": {
    "name": "ipython",
    "version": 3
   },
   "file_extension": ".py",
   "mimetype": "text/x-python",
   "name": "python",
   "nbconvert_exporter": "python",
   "pygments_lexer": "ipython3",
   "version": "3.9.12"
  }
 },
 "nbformat": 4,
 "nbformat_minor": 5
}
