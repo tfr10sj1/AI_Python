{
 "cells": [
  {
   "cell_type": "code",
   "execution_count": 1,
   "id": "ab907606-ea78-40f7-81df-bb3c54af9f7b",
   "metadata": {},
   "outputs": [],
   "source": [
    "from Bank import Bank as ba"
   ]
  },
  {
   "cell_type": "code",
   "execution_count": 2,
   "id": "bd8788fb-1f17-4140-be38-68582e184cb2",
   "metadata": {},
   "outputs": [],
   "source": [
    "bank = ba()"
   ]
  },
  {
   "cell_type": "code",
   "execution_count": 3,
   "id": "3358b6eb-60b0-4e4a-85e4-b39ea43d5179",
   "metadata": {},
   "outputs": [
    {
     "data": {
      "text/plain": [
       "['111111:Sam:19911111:1001:debit account:5000.0#',\n",
       " '111112:NeLEe:19860107:1002:debit account:0.0#',\n",
       " '111113:Manuel:19911216:1003:debit account:200.0#',\n",
       " '111114:SOSO:19911131:1004:debit account:0#']"
      ]
     },
     "execution_count": 3,
     "metadata": {},
     "output_type": "execute_result"
    }
   ],
   "source": [
    "ba()._load()"
   ]
  },
  {
   "cell_type": "code",
   "execution_count": 4,
   "id": "c879eb46-2794-4b73-b59e-bc521015dd94",
   "metadata": {},
   "outputs": [
    {
     "name": "stdout",
     "output_type": "stream",
     "text": [
      "111111 Sam\n",
      "111112 NeLEe\n",
      "111113 Manuel\n",
      "111114 SOSO\n"
     ]
    }
   ],
   "source": [
    "ba().get_customers()"
   ]
  },
  {
   "cell_type": "code",
   "execution_count": 5,
   "id": "f1f852d7-a395-4337-8b0f-1dd651eb608a",
   "metadata": {},
   "outputs": [
    {
     "name": "stdout",
     "output_type": "stream",
     "text": [
      "['111111:Sam:19911111:1001:debit account:5000.0#', '111112:NeLEe:19860107:1002:debit account:0.0#', '111113:Manuel:19911216:1003:debit account:200.0#', '111114:SOSO:19911131:1004:debit account:0#', '11115:Diana:20161109:']\n"
     ]
    },
    {
     "data": {
      "text/plain": [
       "True"
      ]
     },
     "execution_count": 5,
     "metadata": {},
     "output_type": "execute_result"
    }
   ],
   "source": [
    "bank.add_customer(11115, \"Diana\", 20161109)"
   ]
  },
  {
   "cell_type": "code",
   "execution_count": 6,
   "id": "acf4d756-5cab-4214-9688-6a67f686b84b",
   "metadata": {},
   "outputs": [
    {
     "name": "stdout",
     "output_type": "stream",
     "text": [
      "111111 Sam\n",
      "111112 NeLEe\n",
      "111113 Manuel\n",
      "111114 SOSO\n",
      "11115 Diana\n"
     ]
    }
   ],
   "source": [
    "ba().get_customers()"
   ]
  },
  {
   "cell_type": "code",
   "execution_count": 10,
   "id": "d8af7ea0-30f2-4e63-a28d-4db5c27d2f77",
   "metadata": {},
   "outputs": [
    {
     "data": {
      "text/plain": [
       "\"Diana:20161109:11115:['1005', 'debit account', '1500#']\""
      ]
     },
     "execution_count": 10,
     "metadata": {},
     "output_type": "execute_result"
    }
   ],
   "source": [
    "ba().get_customer(20161109)"
   ]
  },
  {
   "cell_type": "code",
   "execution_count": 8,
   "id": "8c3d306c-7ed5-435d-8667-5f17bf7b96c4",
   "metadata": {},
   "outputs": [
    {
     "name": "stdout",
     "output_type": "stream",
     "text": [
      "['111111:Sam:19911111:1001:debit account:5000.0#', '111112:NeLEe:19860107:1002:debit account:0.0#', '111113:Manuel:19911216:1003:debit account:200.0#', '111114:SOSO:19911131:1004:debit account:0#', '11115:Diana:20161109:1005:debit account:1500#']\n"
     ]
    }
   ],
   "source": [
    "ba().add_account(20161109,1005,1500 )"
   ]
  },
  {
   "cell_type": "code",
   "execution_count": 9,
   "id": "7c6ab69b-66c2-4417-a5d8-73aa1a1c2286",
   "metadata": {},
   "outputs": [
    {
     "name": "stdout",
     "output_type": "stream",
     "text": [
      "[]\n"
     ]
    }
   ],
   "source": [
    "ba().change_customer_name(\"Diana Jabbar\", 20161109)"
   ]
  },
  {
   "cell_type": "code",
   "execution_count": null,
   "id": "75d6810d-ebf4-4bb7-a671-cc67a370128f",
   "metadata": {},
   "outputs": [],
   "source": []
  },
  {
   "cell_type": "code",
   "execution_count": null,
   "id": "96377092-be07-4c9a-ac98-732b8104ea46",
   "metadata": {},
   "outputs": [],
   "source": []
  }
 ],
 "metadata": {
  "kernelspec": {
   "display_name": "Python 3 (ipykernel)",
   "language": "python",
   "name": "python3"
  },
  "language_info": {
   "codemirror_mode": {
    "name": "ipython",
    "version": 3
   },
   "file_extension": ".py",
   "mimetype": "text/x-python",
   "name": "python",
   "nbconvert_exporter": "python",
   "pygments_lexer": "ipython3",
   "version": "3.9.12"
  }
 },
 "nbformat": 4,
 "nbformat_minor": 5
}
