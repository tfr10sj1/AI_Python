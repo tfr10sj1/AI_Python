{
 "cells": [
  {
   "cell_type": "code",
   "execution_count": 1,
   "id": "ab907606-ea78-40f7-81df-bb3c54af9f7b",
   "metadata": {},
   "outputs": [],
   "source": [
    "from Bank import Bank as ba"
   ]
  },
  {
   "cell_type": "code",
   "execution_count": 2,
   "id": "bd8788fb-1f17-4140-be38-68582e184cb2",
   "metadata": {},
   "outputs": [],
   "source": [
    "bank = ba()"
   ]
  },
  {
   "cell_type": "code",
   "execution_count": 3,
   "id": "c879eb46-2794-4b73-b59e-bc521015dd94",
   "metadata": {},
   "outputs": [
    {
     "name": "stdout",
     "output_type": "stream",
     "text": [
      "Sam Jabbar 19911111\n",
      "Linnea 19860107\n",
      "Manuel 19911216\n"
     ]
    }
   ],
   "source": [
    "ba().get_customers()"
   ]
  },
  {
   "cell_type": "code",
   "execution_count": 3,
   "id": "481153dc-32b2-46c6-a8b6-846c1303f4fc",
   "metadata": {},
   "outputs": [
    {
     "name": "stdout",
     "output_type": "stream",
     "text": [
      "Sam Jabbar 19911111 111111 :1001:debit account:5000.0:1007:debit account:0#\n"
     ]
    }
   ],
   "source": [
    "ba().get_customer(19911111)"
   ]
  },
  {
   "cell_type": "code",
   "execution_count": 3,
   "id": "6cb3f85b-b0b0-42be-a3f1-ed80ba17daac",
   "metadata": {},
   "outputs": [
    {
     "name": "stdout",
     "output_type": "stream",
     "text": [
      "Sam Jabbar 19911111 111111 :1001:debit account:5000.0#\n"
     ]
    },
    {
     "data": {
      "text/plain": [
       "'Sam Jabbar:19911111:1001:debit account:5000.0#'"
      ]
     },
     "execution_count": 3,
     "metadata": {},
     "output_type": "execute_result"
    }
   ],
   "source": [
    "ba().get_account(19911111,1001)"
   ]
  },
  {
   "cell_type": "code",
   "execution_count": 12,
   "id": "fb8ef96a-1299-411e-ab71-d904507865ed",
   "metadata": {},
   "outputs": [
    {
     "name": "stdout",
     "output_type": "stream",
     "text": [
      "search_text 111111:Sam Jabbar:19911111:1001:debit account:5000.0#\n",
      "replace_text 111111:Sam Jabbar:19911111:1001:debit account:5000.0#\n",
      "Name is Changed\n"
     ]
    },
    {
     "data": {
      "text/plain": [
       "True"
      ]
     },
     "execution_count": 12,
     "metadata": {},
     "output_type": "execute_result"
    }
   ],
   "source": [
    "ba().change_customer_name(\"Sam Jabbar\", 19911111 )"
   ]
  },
  {
   "cell_type": "code",
   "execution_count": 3,
   "id": "a7b20dac-1f69-4828-aec2-2ee32190d661",
   "metadata": {},
   "outputs": [
    {
     "name": "stdout",
     "output_type": "stream",
     "text": [
      "Sam Jabbar 19911111 111111 :1001:debit account:5000.0#\n"
     ]
    }
   ],
   "source": [
    " ba().get_customer(19911111)"
   ]
  },
  {
   "cell_type": "code",
   "execution_count": 7,
   "id": "810dd534-2404-4b82-b751-c4aa4e686db3",
   "metadata": {},
   "outputs": [
    {
     "name": "stdout",
     "output_type": "stream",
     "text": [
      "{1021: 'debit account:0#', 1007: 'debit account:0#'}\n",
      "{1021: 'debit account:0#', 1007: 'debit account:0#'}\n",
      "New account is added\n"
     ]
    }
   ],
   "source": [
    "ba().add_account(19860107)"
   ]
  },
  {
   "cell_type": "code",
   "execution_count": 4,
   "id": "b9e54195-0cb8-4ea9-8b5e-6b87db8fbe78",
   "metadata": {},
   "outputs": [
    {
     "name": "stdout",
     "output_type": "stream",
     "text": [
      "Linnea 19860107 111112 :1003:debit account:0.0#1004:debit account:500.0#:1009:debit account:0#:1011:debit account:0#:1009:debit account:0#:1011:debit account:0#:1015:debit account:0#1021:debit account:0#\n"
     ]
    }
   ],
   "source": [
    "ba().get_customer(19860107)"
   ]
  },
  {
   "cell_type": "code",
   "execution_count": 3,
   "id": "42e5b011-596a-4571-bd94-45a7f1970c3e",
   "metadata": {},
   "outputs": [
    {
     "name": "stdout",
     "output_type": "stream",
     "text": [
      "Sam Jabbar 19911111 111111 :1001:debit account:5000.0#\n",
      "Sam Jabbar:19911111:1001:debit account:5000.0#\n"
     ]
    },
    {
     "ename": "NameError",
     "evalue": "name 'l' is not defined",
     "output_type": "error",
     "traceback": [
      "\u001b[1;31m---------------------------------------------------------------------------\u001b[0m",
      "\u001b[1;31mNameError\u001b[0m                                 Traceback (most recent call last)",
      "Input \u001b[1;32mIn [3]\u001b[0m, in \u001b[0;36m<cell line: 1>\u001b[1;34m()\u001b[0m\n\u001b[1;32m----> 1\u001b[0m \u001b[43mba\u001b[49m\u001b[43m(\u001b[49m\u001b[43m)\u001b[49m\u001b[38;5;241;43m.\u001b[39;49m\u001b[43mdeposit\u001b[49m\u001b[43m(\u001b[49m\u001b[38;5;241;43m19911111\u001b[39;49m\u001b[43m,\u001b[49m\u001b[38;5;241;43m1001\u001b[39;49m\u001b[43m,\u001b[49m\u001b[43m \u001b[49m\u001b[38;5;241;43m10000\u001b[39;49m\u001b[43m)\u001b[49m\n",
      "File \u001b[1;32m~\\Documents\\Python_AI_kurs\\övningar\\Inlämning_Python_classes\\Bank.py:152\u001b[0m, in \u001b[0;36mBank.deposit\u001b[1;34m(self, newpnr, newaccount_id, newamount)\u001b[0m\n\u001b[0;32m    150\u001b[0m line \u001b[38;5;241m=\u001b[39m ba()\u001b[38;5;241m.\u001b[39mget_account(\u001b[38;5;28mself\u001b[39m\u001b[38;5;241m.\u001b[39mnewpnr, \u001b[38;5;28mself\u001b[39m\u001b[38;5;241m.\u001b[39mnewaccount_id)\n\u001b[0;32m    151\u001b[0m \u001b[38;5;28mprint\u001b[39m(line)\n\u001b[1;32m--> 152\u001b[0m customer_id, name, pnr,  \u001b[38;5;241m*\u001b[39maccounts \u001b[38;5;241m=\u001b[39m \u001b[43ml\u001b[49m\u001b[38;5;241m.\u001b[39msplit(\u001b[38;5;124m\"\u001b[39m\u001b[38;5;124m:\u001b[39m\u001b[38;5;124m\"\u001b[39m)\n\u001b[0;32m    153\u001b[0m replace_text \u001b[38;5;241m=\u001b[39m customer_id \u001b[38;5;241m+\u001b[39m \u001b[38;5;124m\"\u001b[39m\u001b[38;5;124m:\u001b[39m\u001b[38;5;124m\"\u001b[39m \u001b[38;5;241m+\u001b[39m name \u001b[38;5;241m+\u001b[39m \u001b[38;5;124m\"\u001b[39m\u001b[38;5;124m:\u001b[39m\u001b[38;5;124m\"\u001b[39m \u001b[38;5;241m+\u001b[39m pnr \n\u001b[0;32m    155\u001b[0m \u001b[38;5;28;01mfor\u001b[39;00m item \u001b[38;5;129;01min\u001b[39;00m accounts:\n",
      "\u001b[1;31mNameError\u001b[0m: name 'l' is not defined"
     ]
    }
   ],
   "source": [
    "ba().deposit(19911111,1001, 10000)"
   ]
  },
  {
   "cell_type": "code",
   "execution_count": 4,
   "id": "672314f7-7765-420f-8561-b2d83a0f6e46",
   "metadata": {},
   "outputs": [
    {
     "name": "stdout",
     "output_type": "stream",
     "text": [
      "Linnea 19860107 111112 :1003:debit account:0.0#1021:debit account:0#1007:debit account:0#1011:debit account:0#1011:debit account:0#1013:debit account:0#1017:debit account:0#\n"
     ]
    }
   ],
   "source": [
    "ba().get_customer(19911111)"
   ]
  },
  {
   "cell_type": "code",
   "execution_count": null,
   "id": "2ec6d5c0-b9f0-45b5-8bae-a5f330deff48",
   "metadata": {},
   "outputs": [],
   "source": []
  }
 ],
 "metadata": {
  "kernelspec": {
   "display_name": "Python 3 (ipykernel)",
   "language": "python",
   "name": "python3"
  },
  "language_info": {
   "codemirror_mode": {
    "name": "ipython",
    "version": 3
   },
   "file_extension": ".py",
   "mimetype": "text/x-python",
   "name": "python",
   "nbconvert_exporter": "python",
   "pygments_lexer": "ipython3",
   "version": "3.9.12"
  }
 },
 "nbformat": 4,
 "nbformat_minor": 5
}
