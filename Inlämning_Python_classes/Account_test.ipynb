{
 "cells": [
  {
   "cell_type": "code",
   "execution_count": 1,
   "id": "73a120c4-acf7-4a6b-b453-7ce155be5838",
   "metadata": {},
   "outputs": [],
   "source": [
    "from Account import Account as ac"
   ]
  },
  {
   "cell_type": "code",
   "execution_count": 2,
   "id": "60581378-d24d-4c19-942a-e1cce93b065e",
   "metadata": {},
   "outputs": [],
   "source": [
    "Sam = ac(\"1001\", 500)"
   ]
  },
  {
   "cell_type": "code",
   "execution_count": 3,
   "id": "4140f1fc-4bf5-408f-9cfc-4a929498d94f",
   "metadata": {},
   "outputs": [
    {
     "name": "stdout",
     "output_type": "stream",
     "text": [
      "Account number is:  1001\n",
      " \n",
      "Account type is:  debit account\n",
      " \n",
      "Balance is:  500\n"
     ]
    }
   ],
   "source": [
    "Sam.show_account_info()"
   ]
  },
  {
   "cell_type": "code",
   "execution_count": 4,
   "id": "e5e20c60-7a05-493d-ab59-b0b25971fdaa",
   "metadata": {},
   "outputs": [
    {
     "name": "stdout",
     "output_type": "stream",
     "text": [
      "your balance is updated to:  8500\n"
     ]
    }
   ],
   "source": [
    "Sam.deposit(8000)"
   ]
  },
  {
   "cell_type": "code",
   "execution_count": 5,
   "id": "779a045a-a7cb-4af3-b9ad-9ce18943718d",
   "metadata": {},
   "outputs": [
    {
     "name": "stdout",
     "output_type": "stream",
     "text": [
      "your balance is updated to:  4500\n"
     ]
    }
   ],
   "source": [
    "Sam.withdraw(4000)"
   ]
  },
  {
   "cell_type": "code",
   "execution_count": 6,
   "id": "5c2d1086-decf-4b54-909a-fb184d9dc56c",
   "metadata": {},
   "outputs": [
    {
     "name": "stdout",
     "output_type": "stream",
     "text": [
      "Account number is:  1001\n",
      " \n",
      "Account type is:  debit account\n",
      " \n",
      "Balance is:  4500\n"
     ]
    }
   ],
   "source": [
    "Sam.show_account_info()"
   ]
  },
  {
   "cell_type": "code",
   "execution_count": 7,
   "id": "d1fc78ee-bdaa-4489-b41a-a3aa142e2905",
   "metadata": {},
   "outputs": [],
   "source": [
    "Rina = ac(\"1002\", 800)"
   ]
  },
  {
   "cell_type": "code",
   "execution_count": 8,
   "id": "aa51264f-bf5e-42a9-b334-ac177861faaf",
   "metadata": {},
   "outputs": [
    {
     "name": "stdout",
     "output_type": "stream",
     "text": [
      "your balance is updated to:  7800\n"
     ]
    }
   ],
   "source": [
    "Rina.deposit(7000)"
   ]
  },
  {
   "cell_type": "code",
   "execution_count": 9,
   "id": "8e618ebe-ba65-44f3-bb9c-4969d7c7ac08",
   "metadata": {},
   "outputs": [
    {
     "name": "stdout",
     "output_type": "stream",
     "text": [
      "Account number is:  1001\n",
      " \n",
      "Account type is:  debit account\n",
      " \n",
      "Balance is:  4500\n"
     ]
    }
   ],
   "source": [
    "Sam.show_account_info()"
   ]
  },
  {
   "cell_type": "code",
   "execution_count": null,
   "id": "15ebaa11-cee4-430e-b550-fc8eb85279fe",
   "metadata": {},
   "outputs": [],
   "source": []
  },
  {
   "cell_type": "code",
   "execution_count": null,
   "id": "266f0344-173d-4d50-aee3-7c590675cabe",
   "metadata": {},
   "outputs": [],
   "source": []
  }
 ],
 "metadata": {
  "kernelspec": {
   "display_name": "Python 3 (ipykernel)",
   "language": "python",
   "name": "python3"
  },
  "language_info": {
   "codemirror_mode": {
    "name": "ipython",
    "version": 3
   },
   "file_extension": ".py",
   "mimetype": "text/x-python",
   "name": "python",
   "nbconvert_exporter": "python",
   "pygments_lexer": "ipython3",
   "version": "3.9.12"
  }
 },
 "nbformat": 4,
 "nbformat_minor": 5
}
