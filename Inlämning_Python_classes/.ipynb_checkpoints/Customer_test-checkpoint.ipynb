{
 "cells": [
  {
   "cell_type": "code",
   "execution_count": 1,
   "id": "e4d4b2c0-4279-4b32-b8e5-4917d14ceb76",
   "metadata": {},
   "outputs": [],
   "source": [
    "from Customer import Customer as cu"
   ]
  },
  {
   "cell_type": "code",
   "execution_count": 2,
   "id": "d76ab690-8222-47bf-98b7-a7330de58bfe",
   "metadata": {},
   "outputs": [],
   "source": [
    "sam = cu()"
   ]
  },
  {
   "cell_type": "code",
   "execution_count": 3,
   "id": "0d5f2776-e0a6-47ff-bda7-f2ae6faf31ac",
   "metadata": {},
   "outputs": [
    {
     "data": {
      "text/plain": [
       "True"
      ]
     },
     "execution_count": 3,
     "metadata": {},
     "output_type": "execute_result"
    }
   ],
   "source": [
    "sam.add_new_customer(\"Sam Jabbar\", 19870606)"
   ]
  },
  {
   "cell_type": "code",
   "execution_count": 4,
   "id": "d6b550c9-ef12-48bc-9665-f30a9b45a669",
   "metadata": {},
   "outputs": [
    {
     "name": "stdout",
     "output_type": "stream",
     "text": [
      "Customer data: \n",
      " \n",
      "Pnr:  19870606\n",
      "Full name:  Sam Jabbar\n",
      "All_Customers {111111: 'Sam Jabbar:19870606:'}\n"
     ]
    }
   ],
   "source": [
    "sam.get_customer_info()"
   ]
  },
  {
   "cell_type": "code",
   "execution_count": 5,
   "id": "eef12968-f489-4fc4-9e2a-afc67cc8b4f4",
   "metadata": {},
   "outputs": [
    {
     "data": {
      "text/plain": [
       "'Sam Jari:19870606:'"
      ]
     },
     "execution_count": 5,
     "metadata": {},
     "output_type": "execute_result"
    }
   ],
   "source": [
    "sam.change_name(\"Sam Jari\")"
   ]
  },
  {
   "cell_type": "code",
   "execution_count": 6,
   "id": "d4c5908d-bca6-4c41-85bd-44ee9e648875",
   "metadata": {},
   "outputs": [
    {
     "name": "stdout",
     "output_type": "stream",
     "text": [
      "Customer data: \n",
      " \n",
      "Pnr:  19870606\n",
      "Full name:  Sam Jari\n",
      "All_Customers {111111: 'Sam Jari:19870606:'}\n"
     ]
    }
   ],
   "source": [
    "sam.get_customer_info()"
   ]
  },
  {
   "cell_type": "code",
   "execution_count": 9,
   "id": "bd02c8bb-f4d3-42e8-ba20-7280afe4222f",
   "metadata": {},
   "outputs": [],
   "source": [
    "sam = cu()"
   ]
  },
  {
   "cell_type": "code",
   "execution_count": 12,
   "id": "eba7cfde-fb81-499c-af0f-c5b8f34a0c4d",
   "metadata": {},
   "outputs": [
    {
     "name": "stdout",
     "output_type": "stream",
     "text": [
      "You are already a customer!\n"
     ]
    },
    {
     "data": {
      "text/plain": [
       "False"
      ]
     },
     "execution_count": 12,
     "metadata": {},
     "output_type": "execute_result"
    }
   ],
   "source": [
    "sam.add_new_customer(\"Sam Jabbar\", 19870606)"
   ]
  },
  {
   "cell_type": "code",
   "execution_count": 13,
   "id": "13894457-27be-4e4b-94e0-f2014a09e1ef",
   "metadata": {},
   "outputs": [
    {
     "name": "stdout",
     "output_type": "stream",
     "text": [
      "Customer data: \n",
      " \n",
      "Pnr:  19870606\n",
      "Full name:  Sam Jabbar\n",
      "All_Customers {111111: 'Sam Jari:19870606:'}\n"
     ]
    }
   ],
   "source": [
    "sam.get_customer_info()"
   ]
  },
  {
   "cell_type": "code",
   "execution_count": 15,
   "id": "597abe0c-feb5-49ba-9e27-98ff46749a23",
   "metadata": {},
   "outputs": [],
   "source": [
    "rina = cu()"
   ]
  },
  {
   "cell_type": "code",
   "execution_count": 16,
   "id": "f5bdf764-ff69-4f75-a1d4-242bac6cdd30",
   "metadata": {},
   "outputs": [
    {
     "data": {
      "text/plain": [
       "True"
      ]
     },
     "execution_count": 16,
     "metadata": {},
     "output_type": "execute_result"
    }
   ],
   "source": [
    "rina.add_new_customer(\"Rina Alkhamisi\", 19910415)"
   ]
  },
  {
   "cell_type": "code",
   "execution_count": 17,
   "id": "d224343f-32c6-48b4-a555-778138c11b04",
   "metadata": {},
   "outputs": [
    {
     "name": "stdout",
     "output_type": "stream",
     "text": [
      "Customer data: \n",
      " \n",
      "Pnr:  19910415\n",
      "Full name:  Rina Alkhamisi\n",
      "All_Customers {111111: 'Sam Jari:19870606:', 111112: 'Rina Alkhamisi:19910415:'}\n"
     ]
    }
   ],
   "source": [
    "customer.get_customer_info()"
   ]
  },
  {
   "cell_type": "code",
   "execution_count": null,
   "id": "4d30e19a-220c-47fa-8a3e-5c35bc042a1d",
   "metadata": {},
   "outputs": [],
   "source": []
  },
  {
   "cell_type": "code",
   "execution_count": null,
   "id": "22386063-9fb7-4825-8ea9-98365142255b",
   "metadata": {},
   "outputs": [],
   "source": []
  }
 ],
 "metadata": {
  "kernelspec": {
   "display_name": "Python 3 (ipykernel)",
   "language": "python",
   "name": "python3"
  },
  "language_info": {
   "codemirror_mode": {
    "name": "ipython",
    "version": 3
   },
   "file_extension": ".py",
   "mimetype": "text/x-python",
   "name": "python",
   "nbconvert_exporter": "python",
   "pygments_lexer": "ipython3",
   "version": "3.9.12"
  }
 },
 "nbformat": 4,
 "nbformat_minor": 5
}
