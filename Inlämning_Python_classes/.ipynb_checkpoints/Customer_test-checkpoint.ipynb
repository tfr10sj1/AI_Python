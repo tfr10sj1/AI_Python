{
 "cells": [
  {
   "cell_type": "code",
   "execution_count": 1,
   "id": "e4d4b2c0-4279-4b32-b8e5-4917d14ceb76",
   "metadata": {},
   "outputs": [],
   "source": [
    "from Customer import Customer as cu"
   ]
  },
  {
   "cell_type": "code",
   "execution_count": 2,
   "id": "d76ab690-8222-47bf-98b7-a7330de58bfe",
   "metadata": {},
   "outputs": [
    {
     "name": "stdout",
     "output_type": "stream",
     "text": [
      "Customer_id: 11111 is new customer_id!\n"
     ]
    }
   ],
   "source": [
    "sam = cu(11111, \"Sam\", 19870606)"
   ]
  },
  {
   "cell_type": "code",
   "execution_count": 3,
   "id": "0d5f2776-e0a6-47ff-bda7-f2ae6faf31ac",
   "metadata": {},
   "outputs": [
    {
     "name": "stdout",
     "output_type": "stream",
     "text": [
      "Customer name is changed to Sam Jabbar\n"
     ]
    }
   ],
   "source": [
    "sam.change_name(\"Sam Jabbar\")"
   ]
  },
  {
   "cell_type": "code",
   "execution_count": 4,
   "id": "5729b72e-bf5d-4c59-9c4b-33b197b02150",
   "metadata": {},
   "outputs": [
    {
     "name": "stdout",
     "output_type": "stream",
     "text": [
      "{} 1007\n",
      "1007 is new one!\n",
      "Account and balans are added!\n"
     ]
    },
    {
     "data": {
      "text/plain": [
       "True"
      ]
     },
     "execution_count": 4,
     "metadata": {},
     "output_type": "execute_result"
    }
   ],
   "source": [
    "sam.add_account(11111,1005, 0)"
   ]
  },
  {
   "cell_type": "code",
   "execution_count": 5,
   "id": "cf02ea07-940b-44a1-96a2-6df10bdf7bec",
   "metadata": {},
   "outputs": [
    {
     "name": "stdout",
     "output_type": "stream",
     "text": [
      "11111:Sam Jabbar:19870606:1007:debit account:0#\n"
     ]
    }
   ],
   "source": [
    "sam.show_customer_info(11111)"
   ]
  },
  {
   "cell_type": "code",
   "execution_count": null,
   "id": "3fedc3e9-db6b-473d-b0c2-e2f7aabce43c",
   "metadata": {},
   "outputs": [],
   "source": []
  },
  {
   "cell_type": "code",
   "execution_count": null,
   "id": "176483b0-9722-4fa2-853c-066ccf6ea577",
   "metadata": {},
   "outputs": [],
   "source": []
  }
 ],
 "metadata": {
  "kernelspec": {
   "display_name": "Python 3 (ipykernel)",
   "language": "python",
   "name": "python3"
  },
  "language_info": {
   "codemirror_mode": {
    "name": "ipython",
    "version": 3
   },
   "file_extension": ".py",
   "mimetype": "text/x-python",
   "name": "python",
   "nbconvert_exporter": "python",
   "pygments_lexer": "ipython3",
   "version": "3.9.12"
  }
 },
 "nbformat": 4,
 "nbformat_minor": 5
}
