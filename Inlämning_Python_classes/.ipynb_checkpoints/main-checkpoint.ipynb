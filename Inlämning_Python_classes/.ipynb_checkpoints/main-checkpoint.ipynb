{
 "cells": [
  {
   "cell_type": "code",
   "execution_count": 1,
   "id": "ab907606-ea78-40f7-81df-bb3c54af9f7b",
   "metadata": {},
   "outputs": [],
   "source": [
    "from Bank import Bank as ba"
   ]
  },
  {
   "cell_type": "code",
   "execution_count": 2,
   "id": "8d8ffffe-6505-48fc-8892-7815b55783d5",
   "metadata": {},
   "outputs": [],
   "source": [
    "from Customer import Customer as ca"
   ]
  },
  {
   "cell_type": "code",
   "execution_count": 3,
   "id": "3dc29e9d-1505-4c7a-aa5e-3bcb64b896ca",
   "metadata": {},
   "outputs": [],
   "source": [
    "from Account import Account as ac"
   ]
  },
  {
   "cell_type": "code",
   "execution_count": 4,
   "id": "3358b6eb-60b0-4e4a-85e4-b39ea43d5179",
   "metadata": {},
   "outputs": [
    {
     "data": {
      "text/plain": [
       "['111111:Sam:19911111:1001:debit account:5000.0#1005:debit account:50.0#',\n",
       " '111112:NeLEe:19860107:1002:debit account:0.0#',\n",
       " '111113:Manuel:19911216:1003:debit account:200.0#',\n",
       " '111114:SOSO:19911131:1004:debit account:0#']"
      ]
     },
     "execution_count": 4,
     "metadata": {},
     "output_type": "execute_result"
    }
   ],
   "source": [
    "ba()._load()"
   ]
  },
  {
   "cell_type": "code",
   "execution_count": 5,
   "id": "c879eb46-2794-4b73-b59e-bc521015dd94",
   "metadata": {},
   "outputs": [
    {
     "name": "stdout",
     "output_type": "stream",
     "text": [
      "111111 Sam\n",
      "111112 NeLEe\n",
      "111113 Manuel\n",
      "111114 SOSO\n"
     ]
    }
   ],
   "source": [
    "ba().get_customers()"
   ]
  },
  {
   "cell_type": "code",
   "execution_count": 6,
   "id": "f1f852d7-a395-4337-8b0f-1dd651eb608a",
   "metadata": {},
   "outputs": [
    {
     "data": {
      "text/plain": [
       "'11115:Diana Jabbar:20161109:'"
      ]
     },
     "execution_count": 6,
     "metadata": {},
     "output_type": "execute_result"
    }
   ],
   "source": [
    "ba().add_customer(11115, \"Diana Jabbar\", 20161109)"
   ]
  },
  {
   "cell_type": "code",
   "execution_count": 7,
   "id": "c21d3250-d8f5-4323-a6e4-44861e04a1c4",
   "metadata": {},
   "outputs": [
    {
     "data": {
      "text/plain": [
       "'11115:Diana Jabbar:20161109:1010:debit account:500#'"
      ]
     },
     "execution_count": 7,
     "metadata": {},
     "output_type": "execute_result"
    }
   ],
   "source": [
    "ba().add_account(20161109,1010,500)"
   ]
  },
  {
   "cell_type": "code",
   "execution_count": 8,
   "id": "d8af7ea0-30f2-4e63-a28d-4db5c27d2f77",
   "metadata": {},
   "outputs": [
    {
     "data": {
      "text/plain": [
       "'Diana Jabbar:20161109:1010:debit account:500#'"
      ]
     },
     "execution_count": 8,
     "metadata": {},
     "output_type": "execute_result"
    }
   ],
   "source": [
    "ba().get_customer(20161109)"
   ]
  },
  {
   "cell_type": "code",
   "execution_count": 9,
   "id": "7c6ab69b-66c2-4417-a5d8-73aa1a1c2286",
   "metadata": {},
   "outputs": [
    {
     "data": {
      "text/plain": [
       "'11115:Diana Jabar:20161109:1010:debit account:500#'"
      ]
     },
     "execution_count": 9,
     "metadata": {},
     "output_type": "execute_result"
    }
   ],
   "source": [
    "ba().change_customer_name(\"Diana Jabar\", 20161109)"
   ]
  },
  {
   "cell_type": "code",
   "execution_count": 10,
   "id": "75d6810d-ebf4-4bb7-a671-cc67a370128f",
   "metadata": {},
   "outputs": [
    {
     "data": {
      "text/plain": [
       "'Diana Jabar:20161109:1010:debit account:500#'"
      ]
     },
     "execution_count": 10,
     "metadata": {},
     "output_type": "execute_result"
    }
   ],
   "source": [
    "ba().get_customer(20161109)"
   ]
  },
  {
   "cell_type": "code",
   "execution_count": 11,
   "id": "f3a00b41-ff56-4025-a090-e8d2aa2ccbf7",
   "metadata": {},
   "outputs": [
    {
     "name": "stdout",
     "output_type": "stream",
     "text": [
      "your balance is updated to:  10500\n"
     ]
    },
    {
     "data": {
      "text/plain": [
       "'11115:Diana Jabar:20161109:1010:debit account:10500#'"
      ]
     },
     "execution_count": 11,
     "metadata": {},
     "output_type": "execute_result"
    }
   ],
   "source": [
    "ba().deposit(20161109, 1010, 10000)"
   ]
  },
  {
   "cell_type": "code",
   "execution_count": 12,
   "id": "ee8f023e-e6ff-4252-8cf8-9787e14657d9",
   "metadata": {},
   "outputs": [
    {
     "name": "stdout",
     "output_type": "stream",
     "text": [
      "your balance is updated to:  500\n"
     ]
    },
    {
     "data": {
      "text/plain": [
       "'11115:Diana Jabar:20161109:1010:debit account:500#'"
      ]
     },
     "execution_count": 12,
     "metadata": {},
     "output_type": "execute_result"
    }
   ],
   "source": [
    "ba().withdraw(20161109, 1010, 10000)"
   ]
  },
  {
   "cell_type": "code",
   "execution_count": 13,
   "id": "836f8e4f-b41a-4347-bfff-f4a5a319ea3a",
   "metadata": {},
   "outputs": [
    {
     "name": "stdout",
     "output_type": "stream",
     "text": [
      "Account_nbr: 1010 is closed. You will get back: 500\n"
     ]
    },
    {
     "data": {
      "text/plain": [
       "'11115:Diana Jabar:20161109:'"
      ]
     },
     "execution_count": 13,
     "metadata": {},
     "output_type": "execute_result"
    }
   ],
   "source": [
    "ba().close_account(20161109,1010)"
   ]
  },
  {
   "cell_type": "code",
   "execution_count": 14,
   "id": "29f4985b-a3b2-42cf-91b0-c0e1f750faf8",
   "metadata": {},
   "outputs": [
    {
     "name": "stdout",
     "output_type": "stream",
     "text": [
      "5000, 50\n"
     ]
    },
    {
     "data": {
      "text/plain": [
       "'111111:Sam:19911111:1001:debit account:5000.0#1005:debit account:50.0#'"
      ]
     },
     "execution_count": 14,
     "metadata": {},
     "output_type": "execute_result"
    }
   ],
   "source": [
    "ba().remove_customer(19911111)"
   ]
  },
  {
   "cell_type": "code",
   "execution_count": 15,
   "id": "4c27b4c6-a77e-46a2-9eca-6a44cdef1495",
   "metadata": {},
   "outputs": [],
   "source": [
    "#bank1.add_customer(11117, \"Diana Jabbar\", 12345) \n",
    "#bank2.add_customer(11119, \"Sam  Jabbar\", 65432)\n",
    "#lista = [bank1, bank2]"
   ]
  },
  {
   "cell_type": "code",
   "execution_count": 16,
   "id": "1f00ffb3-8457-4d99-8b1b-652dd42caf04",
   "metadata": {},
   "outputs": [],
   "source": [
    "#print(lista[0].get_customer(12345))\n",
    "#print(lista[1].get_customer(65432))"
   ]
  },
  {
   "cell_type": "code",
   "execution_count": null,
   "id": "2631dabe-0a10-45a8-9e44-983b32d9c30d",
   "metadata": {},
   "outputs": [],
   "source": []
  }
 ],
 "metadata": {
  "kernelspec": {
   "display_name": "Python 3 (ipykernel)",
   "language": "python",
   "name": "python3"
  },
  "language_info": {
   "codemirror_mode": {
    "name": "ipython",
    "version": 3
   },
   "file_extension": ".py",
   "mimetype": "text/x-python",
   "name": "python",
   "nbconvert_exporter": "python",
   "pygments_lexer": "ipython3",
   "version": "3.9.12"
  }
 },
 "nbformat": 4,
 "nbformat_minor": 5
}
