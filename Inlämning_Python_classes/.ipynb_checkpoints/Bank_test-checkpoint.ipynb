{
 "cells": [
  {
   "cell_type": "code",
   "execution_count": 1,
   "id": "ab907606-ea78-40f7-81df-bb3c54af9f7b",
   "metadata": {},
   "outputs": [],
   "source": [
    "from Bank import Bank as ba"
   ]
  },
  {
   "cell_type": "code",
   "execution_count": 2,
   "id": "bd8788fb-1f17-4140-be38-68582e184cb2",
   "metadata": {},
   "outputs": [],
   "source": [
    "bank = ba()"
   ]
  },
  {
   "cell_type": "code",
   "execution_count": 3,
   "id": "c879eb46-2794-4b73-b59e-bc521015dd94",
   "metadata": {},
   "outputs": [
    {
     "name": "stdout",
     "output_type": "stream",
     "text": [
      "Sam 19911111\n",
      "Leen 19860107\n",
      "Manuel 19911216\n",
      "SOSO 19911131\n"
     ]
    }
   ],
   "source": [
    "ba().get_customers()"
   ]
  },
  {
   "cell_type": "code",
   "execution_count": 4,
   "id": "481153dc-32b2-46c6-a8b6-846c1303f4fc",
   "metadata": {},
   "outputs": [
    {
     "name": "stdout",
     "output_type": "stream",
     "text": [
      "Sam 19911111 111111 :1001:debit account:5000.0#\n"
     ]
    }
   ],
   "source": [
    "ba().get_customer(19911111)"
   ]
  },
  {
   "cell_type": "code",
   "execution_count": 5,
   "id": "6cb3f85b-b0b0-42be-a3f1-ed80ba17daac",
   "metadata": {},
   "outputs": [
    {
     "name": "stdout",
     "output_type": "stream",
     "text": [
      "Sam 19911111 111111 :1001:debit account:5000.0#\n"
     ]
    },
    {
     "data": {
      "text/plain": [
       "'Sam:19911111:1001:debit account:5000.0#'"
      ]
     },
     "execution_count": 5,
     "metadata": {},
     "output_type": "execute_result"
    }
   ],
   "source": [
    "ba().get_account(19911111,1001)"
   ]
  },
  {
   "cell_type": "code",
   "execution_count": 6,
   "id": "fb8ef96a-1299-411e-ab71-d904507865ed",
   "metadata": {},
   "outputs": [
    {
     "ename": "TypeError",
     "evalue": "change_name() takes 2 positional arguments but 3 were given",
     "output_type": "error",
     "traceback": [
      "\u001b[1;31m---------------------------------------------------------------------------\u001b[0m",
      "\u001b[1;31mTypeError\u001b[0m                                 Traceback (most recent call last)",
      "Input \u001b[1;32mIn [6]\u001b[0m, in \u001b[0;36m<cell line: 1>\u001b[1;34m()\u001b[0m\n\u001b[1;32m----> 1\u001b[0m \u001b[43mba\u001b[49m\u001b[43m(\u001b[49m\u001b[43m)\u001b[49m\u001b[38;5;241;43m.\u001b[39;49m\u001b[43mchange_customer_name\u001b[49m\u001b[43m(\u001b[49m\u001b[38;5;124;43m\"\u001b[39;49m\u001b[38;5;124;43mLeen\u001b[39;49m\u001b[38;5;124;43m\"\u001b[39;49m\u001b[43m,\u001b[49m\u001b[38;5;241;43m19860107\u001b[39;49m\u001b[43m \u001b[49m\u001b[43m)\u001b[49m\n",
      "File \u001b[1;32m~\\Documents\\Python_AI_kurs\\övningar\\Inlämning_Python_classes\\Bank.py:58\u001b[0m, in \u001b[0;36mBank.change_customer_name\u001b[1;34m(self, newname, newpnr)\u001b[0m\n\u001b[0;32m     56\u001b[0m \u001b[38;5;28;01mfor\u001b[39;00m line \u001b[38;5;129;01min\u001b[39;00m data: \n\u001b[0;32m     57\u001b[0m     \u001b[38;5;28;01mif\u001b[39;00m \u001b[38;5;28mstr\u001b[39m(newpnr) \u001b[38;5;129;01min\u001b[39;00m data[line]:\n\u001b[1;32m---> 58\u001b[0m         \u001b[43mcu\u001b[49m\u001b[43m(\u001b[49m\u001b[43m)\u001b[49m\u001b[38;5;241;43m.\u001b[39;49m\u001b[43mchange_name\u001b[49m\u001b[43m(\u001b[49m\u001b[43mnewname\u001b[49m\u001b[43m,\u001b[49m\u001b[43m \u001b[49m\u001b[43mdata\u001b[49m\u001b[43m[\u001b[49m\u001b[43mline\u001b[49m\u001b[43m]\u001b[49m\u001b[43m)\u001b[49m\n\u001b[0;32m     59\u001b[0m         \u001b[38;5;28;01mreturn\u001b[39;00m \u001b[38;5;28;01mTrue\u001b[39;00m\n\u001b[0;32m     60\u001b[0m \u001b[38;5;28;01melse\u001b[39;00m:\n",
      "\u001b[1;31mTypeError\u001b[0m: change_name() takes 2 positional arguments but 3 were given"
     ]
    }
   ],
   "source": [
    "ba().change_customer_name(\"Leen\",19860107 )"
   ]
  },
  {
   "cell_type": "code",
   "execution_count": 7,
   "id": "ef80a3cc-d33a-489d-8bc7-4a6f89b1d757",
   "metadata": {},
   "outputs": [
    {
     "name": "stdout",
     "output_type": "stream",
     "text": [
      "dict_values(['Sam:19911111:1001:debit account:5000.0#', 'Linnea:19860107:1003:debit account:0.0#', 'Manuel:19911216:1005:debit account:200.0#', 'SOSO:19911131:'])\n",
      "You are already a customer!\n"
     ]
    },
    {
     "data": {
      "text/plain": [
       "False"
      ]
     },
     "execution_count": 7,
     "metadata": {},
     "output_type": "execute_result"
    }
   ],
   "source": [
    "ba().add_customer(\"SOSO\", 19911131)"
   ]
  },
  {
   "cell_type": "code",
   "execution_count": 8,
   "id": "a7b20dac-1f69-4828-aec2-2ee32190d661",
   "metadata": {},
   "outputs": [
    {
     "name": "stdout",
     "output_type": "stream",
     "text": [
      "Manuel 19911216 111113 :1005:debit account:200.0#0:SOSO:19898009:\n"
     ]
    }
   ],
   "source": [
    "ba().get_customer(19898009)"
   ]
  },
  {
   "cell_type": "code",
   "execution_count": 3,
   "id": "810dd534-2404-4b82-b751-c4aa4e686db3",
   "metadata": {},
   "outputs": [
    {
     "name": "stdout",
     "output_type": "stream",
     "text": [
      "{1009: 'debit account:0#'}\n",
      "New account is added\n"
     ]
    }
   ],
   "source": [
    "ba().add_account(19860107)"
   ]
  },
  {
   "cell_type": "code",
   "execution_count": 4,
   "id": "b9e54195-0cb8-4ea9-8b5e-6b87db8fbe78",
   "metadata": {},
   "outputs": [
    {
     "name": "stdout",
     "output_type": "stream",
     "text": [
      "Linnea 19860107 111112 :1003:debit account:0.0#1007:debit account:2000#1009:debit account:0#\n"
     ]
    }
   ],
   "source": [
    "ba().get_customer(19860107)"
   ]
  },
  {
   "cell_type": "code",
   "execution_count": 5,
   "id": "42e5b011-596a-4571-bd94-45a7f1970c3e",
   "metadata": {},
   "outputs": [
    {
     "name": "stdout",
     "output_type": "stream",
     "text": [
      "Linnea 19860107 111112 :1003:debit account:0.0#1007:debit account:2000#\n",
      "3\n",
      "2000#\n",
      "12000\n"
     ]
    }
   ],
   "source": [
    "ba().deposit(19860107,1007, 10000)"
   ]
  },
  {
   "cell_type": "code",
   "execution_count": 5,
   "id": "672314f7-7765-420f-8561-b2d83a0f6e46",
   "metadata": {},
   "outputs": [
    {
     "name": "stdout",
     "output_type": "stream",
     "text": [
      "Sam Jabbar 19911111 111111 :1001:debit account:5000.0#\n"
     ]
    }
   ],
   "source": [
    "ba().get_customer(19911111)"
   ]
  },
  {
   "cell_type": "code",
   "execution_count": null,
   "id": "2ec6d5c0-b9f0-45b5-8bae-a5f330deff48",
   "metadata": {},
   "outputs": [],
   "source": []
  },
  {
   "cell_type": "code",
   "execution_count": null,
   "id": "19a876a0-6f73-4b96-86d8-89d1996e3298",
   "metadata": {},
   "outputs": [],
   "source": []
  }
 ],
 "metadata": {
  "kernelspec": {
   "display_name": "Python 3 (ipykernel)",
   "language": "python",
   "name": "python3"
  },
  "language_info": {
   "codemirror_mode": {
    "name": "ipython",
    "version": 3
   },
   "file_extension": ".py",
   "mimetype": "text/x-python",
   "name": "python",
   "nbconvert_exporter": "python",
   "pygments_lexer": "ipython3",
   "version": "3.9.12"
  }
 },
 "nbformat": 4,
 "nbformat_minor": 5
}
