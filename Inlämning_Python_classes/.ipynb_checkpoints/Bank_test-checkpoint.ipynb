{
 "cells": [
  {
   "cell_type": "code",
   "execution_count": 1,
   "id": "ab907606-ea78-40f7-81df-bb3c54af9f7b",
   "metadata": {},
   "outputs": [],
   "source": [
    "from Bank import Bank as ba"
   ]
  },
  {
   "cell_type": "code",
   "execution_count": 2,
   "id": "bd8788fb-1f17-4140-be38-68582e184cb2",
   "metadata": {},
   "outputs": [],
   "source": [
    "bank = ba()"
   ]
  },
  {
   "cell_type": "code",
   "execution_count": 3,
   "id": "c879eb46-2794-4b73-b59e-bc521015dd94",
   "metadata": {},
   "outputs": [
    {
     "name": "stdout",
     "output_type": "stream",
     "text": [
      "Rafael 19911111\n",
      "Linnea 19860107\n",
      "Manuel 19911216\n"
     ]
    }
   ],
   "source": [
    "ba().get_customers()"
   ]
  },
  {
   "cell_type": "code",
   "execution_count": 4,
   "id": "481153dc-32b2-46c6-a8b6-846c1303f4fc",
   "metadata": {},
   "outputs": [
    {
     "name": "stdout",
     "output_type": "stream",
     "text": [
      "Rafael 19911111 111111 :1001:debit account:5000.0#1002:debit account:1000.0\n"
     ]
    }
   ],
   "source": [
    "ba().get_customer(19911111)"
   ]
  },
  {
   "cell_type": "code",
   "execution_count": 5,
   "id": "6cb3f85b-b0b0-42be-a3f1-ed80ba17daac",
   "metadata": {},
   "outputs": [
    {
     "name": "stdout",
     "output_type": "stream",
     "text": [
      "Rafael 19911111 111111 :1001:debit account:5000.0#1002:debit account:1000.0\n"
     ]
    }
   ],
   "source": [
    "ba().get_account(19911111,1001)"
   ]
  },
  {
   "cell_type": "code",
   "execution_count": 6,
   "id": "fb8ef96a-1299-411e-ab71-d904507865ed",
   "metadata": {},
   "outputs": [
    {
     "name": "stdout",
     "output_type": "stream",
     "text": [
      "search_text 111111:Rafael:19911111:1001:debit account:5000.0#1002:debit account:1000.0\n",
      "replace_text 111111:Sam Jabbar:19911111:1001:debit account:5000.0#1002:debit account:1000.0\n",
      "Name is Changed\n"
     ]
    }
   ],
   "source": [
    "ba().change_customer_name(\"Sam Jabbar\", 19911111 )"
   ]
  },
  {
   "cell_type": "code",
   "execution_count": 7,
   "id": "a7b20dac-1f69-4828-aec2-2ee32190d661",
   "metadata": {},
   "outputs": [
    {
     "name": "stdout",
     "output_type": "stream",
     "text": [
      "Sam Jabbar 19911111 111111 :1001:debit account:5000.0#1002:debit account:1000.0\n"
     ]
    }
   ],
   "source": [
    " ba().get_customer(19911111)"
   ]
  },
  {
   "cell_type": "code",
   "execution_count": 8,
   "id": "3e4abf60-a081-4ffc-9f89-b21fff4549fb",
   "metadata": {},
   "outputs": [
    {
     "name": "stdout",
     "output_type": "stream",
     "text": [
      "search_text 111111:Sam Jabbar:19911111:1001:debit account:5000.0#1002:debit account:1000.0\n",
      "replace_text \n",
      "Customer is removed\n"
     ]
    }
   ],
   "source": [
    "ba().remove_customer(19911111)"
   ]
  },
  {
   "cell_type": "code",
   "execution_count": null,
   "id": "810dd534-2404-4b82-b751-c4aa4e686db3",
   "metadata": {},
   "outputs": [],
   "source": []
  }
 ],
 "metadata": {
  "kernelspec": {
   "display_name": "Python 3 (ipykernel)",
   "language": "python",
   "name": "python3"
  },
  "language_info": {
   "codemirror_mode": {
    "name": "ipython",
    "version": 3
   },
   "file_extension": ".py",
   "mimetype": "text/x-python",
   "name": "python",
   "nbconvert_exporter": "python",
   "pygments_lexer": "ipython3",
   "version": "3.9.12"
  }
 },
 "nbformat": 4,
 "nbformat_minor": 5
}
