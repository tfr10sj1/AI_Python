{
 "cells": [
  {
   "cell_type": "code",
   "execution_count": 1,
   "id": "ab907606-ea78-40f7-81df-bb3c54af9f7b",
   "metadata": {},
   "outputs": [],
   "source": [
    "from Bank import Bank as ba"
   ]
  },
  {
   "cell_type": "code",
   "execution_count": 2,
   "id": "8d8ffffe-6505-48fc-8892-7815b55783d5",
   "metadata": {},
   "outputs": [],
   "source": [
    "from Customer import Customer as ca"
   ]
  },
  {
   "cell_type": "code",
   "execution_count": 3,
   "id": "3dc29e9d-1505-4c7a-aa5e-3bcb64b896ca",
   "metadata": {},
   "outputs": [],
   "source": [
    "from Account import Account as ac"
   ]
  },
  {
   "cell_type": "code",
   "execution_count": 4,
   "id": "bd8788fb-1f17-4140-be38-68582e184cb2",
   "metadata": {},
   "outputs": [],
   "source": [
    "bank = ba()"
   ]
  },
  {
   "cell_type": "code",
   "execution_count": 5,
   "id": "3358b6eb-60b0-4e4a-85e4-b39ea43d5179",
   "metadata": {},
   "outputs": [
    {
     "data": {
      "text/plain": [
       "['111111:Sam:19911111:1001:debit account:5000.0#1005:debit account:50.0#',\n",
       " '111112:NeLEe:19860107:1002:debit account:0.0#',\n",
       " '111113:Manuel:19911216:1003:debit account:200.0#',\n",
       " '111114:SOSO:19911131:1004:debit account:0#']"
      ]
     },
     "execution_count": 5,
     "metadata": {},
     "output_type": "execute_result"
    }
   ],
   "source": [
    "ba()._load()"
   ]
  },
  {
   "cell_type": "code",
   "execution_count": 6,
   "id": "c879eb46-2794-4b73-b59e-bc521015dd94",
   "metadata": {},
   "outputs": [
    {
     "name": "stdout",
     "output_type": "stream",
     "text": [
      "111111 Sam\n",
      "111112 NeLEe\n",
      "111113 Manuel\n",
      "111114 SOSO\n"
     ]
    }
   ],
   "source": [
    "ba().get_customers()"
   ]
  },
  {
   "cell_type": "code",
   "execution_count": 7,
   "id": "f1f852d7-a395-4337-8b0f-1dd651eb608a",
   "metadata": {},
   "outputs": [
    {
     "name": "stdout",
     "output_type": "stream",
     "text": [
      "['111111:Sam:19911111:1001:debit account:5000.0#1005:debit account:50.0#', '111112:NeLEe:19860107:1002:debit account:0.0#', '111113:Manuel:19911216:1003:debit account:200.0#', '111114:SOSO:19911131:1004:debit account:0#', '11115:Diana:20161109:']\n"
     ]
    },
    {
     "data": {
      "text/plain": [
       "True"
      ]
     },
     "execution_count": 7,
     "metadata": {},
     "output_type": "execute_result"
    }
   ],
   "source": [
    "bank.add_customer(11115, \"Diana\", 20161109)"
   ]
  },
  {
   "cell_type": "code",
   "execution_count": 8,
   "id": "acf4d756-5cab-4214-9688-6a67f686b84b",
   "metadata": {},
   "outputs": [
    {
     "name": "stdout",
     "output_type": "stream",
     "text": [
      "111111 Sam\n",
      "111112 NeLEe\n",
      "111113 Manuel\n",
      "111114 SOSO\n",
      "11115 Diana\n"
     ]
    }
   ],
   "source": [
    "ba().get_customers()"
   ]
  },
  {
   "cell_type": "code",
   "execution_count": 9,
   "id": "d8af7ea0-30f2-4e63-a28d-4db5c27d2f77",
   "metadata": {},
   "outputs": [],
   "source": [
    "ba().get_customer(19911111)"
   ]
  },
  {
   "cell_type": "code",
   "execution_count": 10,
   "id": "8c3d306c-7ed5-435d-8667-5f17bf7b96c4",
   "metadata": {},
   "outputs": [
    {
     "name": "stdout",
     "output_type": "stream",
     "text": [
      "['111111:Sam:19911111:1001:debit account:5000.0#1005:debit account:50.0#', '111112:NeLEe:19860107:1002:debit account:0.0#', '111113:Manuel:19911216:1003:debit account:200.0#', '111114:SOSO:19911131:1004:debit account:0#', '11115:Diana:20161109:1022:debit account:500#']\n"
     ]
    }
   ],
   "source": [
    "ba().add_account(20161109,1022,500)"
   ]
  },
  {
   "cell_type": "code",
   "execution_count": 11,
   "id": "7c6ab69b-66c2-4417-a5d8-73aa1a1c2286",
   "metadata": {},
   "outputs": [],
   "source": [
    "ba().change_customer_name(\"Diana Jabbar\", 20161109)"
   ]
  },
  {
   "cell_type": "code",
   "execution_count": 12,
   "id": "75d6810d-ebf4-4bb7-a671-cc67a370128f",
   "metadata": {},
   "outputs": [
    {
     "data": {
      "text/plain": [
       "'Diana Jabbar:201611091022:debit account:500#'"
      ]
     },
     "execution_count": 12,
     "metadata": {},
     "output_type": "execute_result"
    }
   ],
   "source": [
    "ba().get_customer(20161109)"
   ]
  },
  {
   "cell_type": "code",
   "execution_count": 13,
   "id": "f3a00b41-ff56-4025-a090-e8d2aa2ccbf7",
   "metadata": {},
   "outputs": [],
   "source": [
    "ba().deposit(20161109, 1021, 10000)"
   ]
  },
  {
   "cell_type": "code",
   "execution_count": 14,
   "id": "96377092-be07-4c9a-ac98-732b8104ea46",
   "metadata": {},
   "outputs": [],
   "source": [
    "#ba().remove_customer(19911111)"
   ]
  },
  {
   "cell_type": "code",
   "execution_count": 15,
   "id": "89199cd5-2fc8-480a-b2ed-a13f2afed329",
   "metadata": {},
   "outputs": [
    {
     "data": {
      "text/plain": [
       "\"'1001', 'debit account', '5000.0\""
      ]
     },
     "execution_count": 15,
     "metadata": {},
     "output_type": "execute_result"
    }
   ],
   "source": [
    "ba().get_account(19911111, 1001)"
   ]
  },
  {
   "cell_type": "code",
   "execution_count": 16,
   "id": "549d898d-25f6-4646-b3c0-3445d73ae101",
   "metadata": {},
   "outputs": [],
   "source": [
    "from collections import namedtuple as nt"
   ]
  },
  {
   "cell_type": "code",
   "execution_count": 19,
   "id": "1da2904b-aab2-42d8-852d-fcb566860495",
   "metadata": {},
   "outputs": [
    {
     "ename": "AttributeError",
     "evalue": "type object 'Customer' has no attribute 'add_customer'",
     "output_type": "error",
     "traceback": [
      "\u001b[1;31m---------------------------------------------------------------------------\u001b[0m",
      "\u001b[1;31mAttributeError\u001b[0m                            Traceback (most recent call last)",
      "Input \u001b[1;32mIn [19]\u001b[0m, in \u001b[0;36m<cell line: 1>\u001b[1;34m()\u001b[0m\n\u001b[1;32m----> 1\u001b[0m kunder \u001b[38;5;241m=\u001b[39m [\u001b[43mca\u001b[49m\u001b[38;5;241;43m.\u001b[39;49m\u001b[43madd_customer\u001b[49m(\u001b[38;5;241m11111\u001b[39m, \u001b[38;5;124m\"\u001b[39m\u001b[38;5;124mDiana\u001b[39m\u001b[38;5;124m\"\u001b[39m, \u001b[38;5;241m20161109\u001b[39m),ca\u001b[38;5;241m.\u001b[39madd_customer(\u001b[38;5;241m11112\u001b[39m, \u001b[38;5;124m\"\u001b[39m\u001b[38;5;124mSam\u001b[39m\u001b[38;5;124m\"\u001b[39m, \u001b[38;5;241m19870606\u001b[39m), ca\u001b[38;5;241m.\u001b[39madd_customer(\u001b[38;5;241m11113\u001b[39m, \u001b[38;5;124m\"\u001b[39m\u001b[38;5;124mIsak\u001b[39m\u001b[38;5;124m\"\u001b[39m, \u001b[38;5;241m20200629\u001b[39m), ca\u001b[38;5;241m.\u001b[39madd_customer(\u001b[38;5;241m11115\u001b[39m, \u001b[38;5;124m\"\u001b[39m\u001b[38;5;124mRina\u001b[39m\u001b[38;5;124m\"\u001b[39m, \u001b[38;5;241m19910415\u001b[39m)]\n",
      "\u001b[1;31mAttributeError\u001b[0m: type object 'Customer' has no attribute 'add_customer'"
     ]
    }
   ],
   "source": [
    "kunder = [ca(11111, \"Diana\", 20161109),ca(11112, \"Sam\", 19870606), ca(11113, \"Isak\", 20200629), ca(11114, \"Rina\", 19910415)]"
   ]
  },
  {
   "cell_type": "code",
   "execution_count": null,
   "id": "d81b1556-8204-476a-8330-0ac1f1eecd18",
   "metadata": {},
   "outputs": [],
   "source": []
  }
 ],
 "metadata": {
  "kernelspec": {
   "display_name": "Python 3 (ipykernel)",
   "language": "python",
   "name": "python3"
  },
  "language_info": {
   "codemirror_mode": {
    "name": "ipython",
    "version": 3
   },
   "file_extension": ".py",
   "mimetype": "text/x-python",
   "name": "python",
   "nbconvert_exporter": "python",
   "pygments_lexer": "ipython3",
   "version": "3.9.12"
  }
 },
 "nbformat": 4,
 "nbformat_minor": 5
}
