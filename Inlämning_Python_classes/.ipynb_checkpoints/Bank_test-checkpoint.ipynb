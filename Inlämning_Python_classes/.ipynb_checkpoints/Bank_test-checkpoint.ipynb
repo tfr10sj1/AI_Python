{
 "cells": [
  {
   "cell_type": "code",
   "execution_count": 1,
   "id": "ab907606-ea78-40f7-81df-bb3c54af9f7b",
   "metadata": {},
   "outputs": [],
   "source": [
    "from Bank import Bank as ba"
   ]
  },
  {
   "cell_type": "code",
   "execution_count": 2,
   "id": "bd8788fb-1f17-4140-be38-68582e184cb2",
   "metadata": {},
   "outputs": [],
   "source": [
    "bank = ba()"
   ]
  },
  {
   "cell_type": "code",
   "execution_count": 3,
   "id": "c879eb46-2794-4b73-b59e-bc521015dd94",
   "metadata": {},
   "outputs": [
    {
     "name": "stdout",
     "output_type": "stream",
     "text": [
      "Sam 19911111\n",
      "NeLEe 19860107\n",
      "Manuel 19911216\n",
      "SOSO 19911131\n"
     ]
    }
   ],
   "source": [
    "ba().get_customers()"
   ]
  },
  {
   "cell_type": "code",
   "execution_count": 7,
   "id": "481153dc-32b2-46c6-a8b6-846c1303f4fc",
   "metadata": {},
   "outputs": [
    {
     "name": "stdout",
     "output_type": "stream",
     "text": [
      "Sam : 19911111 :1001:debit account:5000.0#\n"
     ]
    }
   ],
   "source": [
    "ba().get_customer(19911111)"
   ]
  },
  {
   "cell_type": "code",
   "execution_count": 12,
   "id": "6cb3f85b-b0b0-42be-a3f1-ed80ba17daac",
   "metadata": {},
   "outputs": [
    {
     "data": {
      "text/plain": [
       "False"
      ]
     },
     "execution_count": 12,
     "metadata": {},
     "output_type": "execute_result"
    }
   ],
   "source": [
    "ba().get_account(19911216,1003)"
   ]
  },
  {
   "cell_type": "code",
   "execution_count": 5,
   "id": "fb8ef96a-1299-411e-ab71-d904507865ed",
   "metadata": {},
   "outputs": [
    {
     "name": "stdout",
     "output_type": "stream",
     "text": [
      "replace_text 111112:NeLEe:19860107:1002:debit account:0.0#\n",
      "search_text 111112:NewLEe:19860107:1002:debit account:0.0#\n"
     ]
    },
    {
     "data": {
      "text/plain": [
       "False"
      ]
     },
     "execution_count": 5,
     "metadata": {},
     "output_type": "execute_result"
    }
   ],
   "source": [
    "ba().change_customer_name(\"NeLEe\",19860107)"
   ]
  },
  {
   "cell_type": "code",
   "execution_count": 7,
   "id": "ef80a3cc-d33a-489d-8bc7-4a6f89b1d757",
   "metadata": {},
   "outputs": [
    {
     "name": "stdout",
     "output_type": "stream",
     "text": [
      "Customer_id: 111119 is new customer_id!\n",
      "new customer added\n",
      "111119 7754037 Haron\n"
     ]
    },
    {
     "data": {
      "text/plain": [
       "True"
      ]
     },
     "execution_count": 7,
     "metadata": {},
     "output_type": "execute_result"
    }
   ],
   "source": [
    "ba().add_customer(111119,\"Haron\", 7754037)"
   ]
  },
  {
   "cell_type": "code",
   "execution_count": 8,
   "id": "a7b20dac-1f69-4828-aec2-2ee32190d661",
   "metadata": {},
   "outputs": [
    {
     "data": {
      "text/plain": [
       "False"
      ]
     },
     "execution_count": 8,
     "metadata": {},
     "output_type": "execute_result"
    }
   ],
   "source": [
    "ba().get_customer(111119)"
   ]
  },
  {
   "cell_type": "code",
   "execution_count": 9,
   "id": "810dd534-2404-4b82-b751-c4aa4e686db3",
   "metadata": {},
   "outputs": [
    {
     "name": "stdout",
     "output_type": "stream",
     "text": [
      "You are already a customer!\n"
     ]
    },
    {
     "data": {
      "text/plain": [
       "False"
      ]
     },
     "execution_count": 9,
     "metadata": {},
     "output_type": "execute_result"
    }
   ],
   "source": [
    "ba().add_account(12312345,1020,200)"
   ]
  },
  {
   "cell_type": "code",
   "execution_count": 12,
   "id": "b9e54195-0cb8-4ea9-8b5e-6b87db8fbe78",
   "metadata": {},
   "outputs": [
    {
     "data": {
      "text/plain": [
       "False"
      ]
     },
     "execution_count": 12,
     "metadata": {},
     "output_type": "execute_result"
    }
   ],
   "source": [
    "ba().get_customer(12312345)"
   ]
  },
  {
   "cell_type": "code",
   "execution_count": 13,
   "id": "42e5b011-596a-4571-bd94-45a7f1970c3e",
   "metadata": {},
   "outputs": [
    {
     "data": {
      "text/plain": [
       "False"
      ]
     },
     "execution_count": 13,
     "metadata": {},
     "output_type": "execute_result"
    }
   ],
   "source": [
    "ba().deposit(12312345,1011, 80000)"
   ]
  },
  {
   "cell_type": "code",
   "execution_count": 14,
   "id": "672314f7-7765-420f-8561-b2d83a0f6e46",
   "metadata": {},
   "outputs": [
    {
     "data": {
      "text/plain": [
       "False"
      ]
     },
     "execution_count": 14,
     "metadata": {},
     "output_type": "execute_result"
    }
   ],
   "source": [
    "ba().get_customer(12312345)"
   ]
  },
  {
   "cell_type": "code",
   "execution_count": 13,
   "id": "2ec6d5c0-b9f0-45b5-8bae-a5f330deff48",
   "metadata": {},
   "outputs": [
    {
     "data": {
      "text/plain": [
       "['element1', 'element2', 'element3']"
      ]
     },
     "execution_count": 13,
     "metadata": {},
     "output_type": "execute_result"
    }
   ],
   "source": [
    "l = ['element1\\t0238.94', 'element2\\t2.3904', 'element3\\t0139847'] \n",
    "n = ['element1', 'element2', 'element3'] \n",
    "[i.split('\\t', 1)[x for x in len(n)] for i in l]"
   ]
  },
  {
   "cell_type": "code",
   "execution_count": 15,
   "id": "19a876a0-6f73-4b96-86d8-89d1996e3298",
   "metadata": {},
   "outputs": [
    {
     "ename": "NameError",
     "evalue": "name 'Bank' is not defined",
     "output_type": "error",
     "traceback": [
      "\u001b[1;31m---------------------------------------------------------------------------\u001b[0m",
      "\u001b[1;31mNameError\u001b[0m                                 Traceback (most recent call last)",
      "Input \u001b[1;32mIn [15]\u001b[0m, in \u001b[0;36m<cell line: 1>\u001b[1;34m()\u001b[0m\n\u001b[1;32m----> 1\u001b[0m help(\u001b[43mBank\u001b[49m)\n",
      "\u001b[1;31mNameError\u001b[0m: name 'Bank' is not defined"
     ]
    }
   ],
   "source": [
    "help(Bank)"
   ]
  },
  {
   "cell_type": "code",
   "execution_count": null,
   "id": "780e1f67-f08e-45ec-ae9e-ac1355a56db8",
   "metadata": {},
   "outputs": [],
   "source": []
  }
 ],
 "metadata": {
  "kernelspec": {
   "display_name": "Python 3 (ipykernel)",
   "language": "python",
   "name": "python3"
  },
  "language_info": {
   "codemirror_mode": {
    "name": "ipython",
    "version": 3
   },
   "file_extension": ".py",
   "mimetype": "text/x-python",
   "name": "python",
   "nbconvert_exporter": "python",
   "pygments_lexer": "ipython3",
   "version": "3.9.12"
  }
 },
 "nbformat": 4,
 "nbformat_minor": 5
}
