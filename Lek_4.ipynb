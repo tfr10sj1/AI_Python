{
 "cells": [
  {
   "cell_type": "markdown",
   "id": "b7961909-8ed7-427b-bcee-8f47eebf1570",
   "metadata": {
    "tags": []
   },
   "source": [
    "### Inheritance (2)"
   ]
  },
  {
   "cell_type": "code",
   "execution_count": 1,
   "id": "42143dd3-89c7-4a28-a1c6-f7ad70edae25",
   "metadata": {},
   "outputs": [],
   "source": [
    "class Parent:\n",
    "    def __init__(self, name, surname):\n",
    "        self.firstname = name\n",
    "        self.lastname = surname\n",
    "    \n",
    "    def morning(self):\n",
    "        return f\"Good Morning!\"\n",
    "    \n",
    "    def test(self):\n",
    "        return \"test\""
   ]
  },
  {
   "cell_type": "code",
   "execution_count": 2,
   "id": "f434916f-aba3-49ca-b4e7-f0d5a2e328ac",
   "metadata": {},
   "outputs": [],
   "source": [
    "class Child(Parent):\n",
    "    def __init__(self, a_name):\n",
    "        first, last = a_name.split()\n",
    "        print(first)\n",
    "        print(last)\n",
    "        super().__init__(first, last)\n",
    "    def __del__(self):\n",
    "        print(\"All done!\")\n",
    "    \n",
    "    def morning(self):\n",
    "        return f\"Yo!\""
   ]
  },
  {
   "cell_type": "code",
   "execution_count": 1,
   "id": "76a95f4d-5dae-4b05-ba1b-b45296c8d4d1",
   "metadata": {},
   "outputs": [
    {
     "ename": "NameError",
     "evalue": "name 'child' is not defined",
     "output_type": "error",
     "traceback": [
      "\u001b[1;31m---------------------------------------------------------------------------\u001b[0m",
      "\u001b[1;31mNameError\u001b[0m                                 Traceback (most recent call last)",
      "Input \u001b[1;32mIn [1]\u001b[0m, in \u001b[0;36m<cell line: 1>\u001b[1;34m()\u001b[0m\n\u001b[1;32m----> 1\u001b[0m \u001b[43mchild\u001b[49m\u001b[38;5;241m.\u001b[39mtest()\n\u001b[0;32m      2\u001b[0m parent \u001b[38;5;241m=\u001b[39m Parent(\u001b[38;5;124m\"\u001b[39m\u001b[38;5;124m7emdie\u001b[39m\u001b[38;5;124m\"\u001b[39m, \u001b[38;5;124m\"\u001b[39m\u001b[38;5;124mOm-eleben\u001b[39m\u001b[38;5;124m\"\u001b[39m)\n\u001b[0;32m      4\u001b[0m parent\u001b[38;5;241m.\u001b[39mmorning()\n",
      "\u001b[1;31mNameError\u001b[0m: name 'child' is not defined"
     ]
    }
   ],
   "source": [
    "child.test()\n",
    "parent = Parent(\"7emdie\", \"Om-eleben\")\n",
    "\n",
    "parent.morning()"
   ]
  },
  {
   "cell_type": "code",
   "execution_count": null,
   "id": "85f5743f-e9b1-46ad-a4b3-635f6a7e25a3",
   "metadata": {},
   "outputs": [],
   "source": [
    "child = Child(\"Mary Robertson\")\n",
    "#child = Child(\"Mary Anne Robertson\")\n",
    "child.firstname\n"
   ]
  },
  {
   "cell_type": "code",
   "execution_count": null,
   "id": "3e6d6923-e757-4ce1-b60b-a441cca2aea9",
   "metadata": {},
   "outputs": [],
   "source": [
    "child.morning()"
   ]
  },
  {
   "cell_type": "code",
   "execution_count": null,
   "id": "5013fffb-d3c7-4481-ac9b-30f5ecbf43e3",
   "metadata": {},
   "outputs": [],
   "source": [
    "super(Child, child).morning()"
   ]
  },
  {
   "cell_type": "code",
   "execution_count": null,
   "id": "6c404716-fe17-4faa-8c1e-fa4429fe0c04",
   "metadata": {},
   "outputs": [],
   "source": [
    "del child"
   ]
  },
  {
   "cell_type": "markdown",
   "id": "819cfe16-8651-4ebb-a4cc-63c4dda839dd",
   "metadata": {
    "tags": []
   },
   "source": [
    "### \\__init\\__\n",
    "#### default values"
   ]
  },
  {
   "cell_type": "code",
   "execution_count": null,
   "id": "9f1c08ed-6743-477b-8bb6-aa2ac6d22ade",
   "metadata": {},
   "outputs": [],
   "source": [
    "class Parent:\n",
    "    def __init__(self, name, surname, maiden_name=None, b_year=None):\n",
    "        self.firstname = name\n",
    "        self.lastname = surname\n",
    "        self.maiden_name = maiden_name\n",
    "        self.birth_year = b_year\n",
    "    \n",
    "    def morning(self):\n",
    "        return f\"Good Morning!\""
   ]
  },
  {
   "cell_type": "code",
   "execution_count": null,
   "id": "e1ceb7f8-aaa1-4b55-a2a1-40a130b93385",
   "metadata": {},
   "outputs": [],
   "source": [
    "p = Parent(\"Sue\", \"Watson\", maiden_name=\"Watson\")\n",
    "p.maiden_name"
   ]
  },
  {
   "cell_type": "markdown",
   "id": "dc7047a5-373d-464d-a900-1d3a55e52943",
   "metadata": {},
   "source": [
    "#### args & kwargs"
   ]
  },
  {
   "cell_type": "code",
   "execution_count": 1,
   "id": "66e8c091-b780-47b7-a4d4-fa707a2a41d9",
   "metadata": {},
   "outputs": [],
   "source": [
    "class Parent:\n",
    "    def __init__(self, *args, **kwargs):\n",
    "        self.firstname = args[0]\n",
    "        self.lastname = args[1]\n",
    "        self.maiden_name = kwargs.get(\"maiden_name\", None)\n",
    "        self.birth_year = kwargs.get(\"birth_year\", None)"
   ]
  },
  {
   "cell_type": "code",
   "execution_count": 2,
   "id": "07a70cfb-6842-4248-aa45-42ba691b1ad2",
   "metadata": {},
   "outputs": [],
   "source": [
    "p = Parent(\"Susan\", \"Bell\", maiden_name=\"Watson\")"
   ]
  },
  {
   "cell_type": "code",
   "execution_count": 3,
   "id": "62b3253c-4dd3-4641-9a03-24c2db9c0cab",
   "metadata": {},
   "outputs": [
    {
     "name": "stdout",
     "output_type": "stream",
     "text": [
      "None\n"
     ]
    }
   ],
   "source": [
    "print(p.birth_year)"
   ]
  },
  {
   "cell_type": "markdown",
   "id": "d5836146-3fd0-4405-bce6-41acc71aab73",
   "metadata": {},
   "source": [
    "#### Multiple inheritance"
   ]
  },
  {
   "cell_type": "code",
   "execution_count": 1,
   "id": "b3d0999d-d349-4ef7-9d9c-cb9ad8619114",
   "metadata": {},
   "outputs": [],
   "source": [
    "class Parent:\n",
    "    def __init__(self, name, surname, b_year=None):\n",
    "        self.firstname = name\n",
    "        self.lastname = surname\n",
    "        self.birth_year = b_year\n",
    "    \n",
    "    def morning(self):\n",
    "        return f\"Good Morning!\""
   ]
  },
  {
   "cell_type": "code",
   "execution_count": 2,
   "id": "1790e48a-f7df-4d8b-b034-ee8cadc2a23d",
   "metadata": {},
   "outputs": [],
   "source": [
    "class MomParent(Parent):\n",
    "    def __init__(self, name, surname, maiden_name=None, b_year=None):\n",
    "        super().__init__(name, surname, b_year=b_year)\n",
    "        self.maiden_name = maiden_name\n",
    "    \n",
    "    def morning(self):\n",
    "        return f\"Good Morning darling!\""
   ]
  },
  {
   "cell_type": "code",
   "execution_count": 6,
   "id": "cab953c7-2ff3-4c2c-a53a-cd61965e8f9a",
   "metadata": {},
   "outputs": [],
   "source": [
    "class DadParent(Parent):\n",
    "    def __init__(self, name, surname, is_jr=False, b_year=None):\n",
    "        super().__init__(name, surname, b_year=b_year)\n",
    "        self.is_jr = is_jr\n",
    "    \n",
    "    def morning(self):\n",
    "        return f\"Good Day Sir!\""
   ]
  },
  {
   "cell_type": "code",
   "execution_count": 4,
   "id": "f5480cd7-dadd-4c04-91de-7a09ee7e7b1b",
   "metadata": {},
   "outputs": [],
   "source": [
    "class NonGenderedParent(DadParent, MomParent):\n",
    "    def __init__(self, name, surname, maiden_name=None, \n",
    "                 is_jr=False, b_year=None, pronoun_list=None):\n",
    "        MomParent.__init__(self, name, surname, maiden_name=maiden_name, b_year=None)\n",
    "        DadParent.__init__(self, name, surname, is_jr=False, b_year=None)\n",
    "        self.pronouns = pronoun_list\n",
    "    def returnpronoun(self):\n",
    "        return self.pronouns"
   ]
  },
  {
   "cell_type": "code",
   "execution_count": 5,
   "id": "536b75ae-f144-41b9-8157-f9c9423bf65f",
   "metadata": {},
   "outputs": [
    {
     "data": {
      "text/plain": [
       "['they']"
      ]
     },
     "execution_count": 5,
     "metadata": {},
     "output_type": "execute_result"
    }
   ],
   "source": [
    "np = NonGenderedParent(\"Kim\", \"Andersson\", pronoun_list=['they'])\n",
    "np.returnpronoun()"
   ]
  },
  {
   "cell_type": "markdown",
   "id": "12cde6dc-ca63-4041-8d8e-34cc0f4a1675",
   "metadata": {},
   "source": [
    "#### Swapped the parents"
   ]
  },
  {
   "cell_type": "code",
   "execution_count": 7,
   "id": "e605900e-bec6-49b5-ab89-895dbc34b12e",
   "metadata": {},
   "outputs": [],
   "source": [
    "# Swapped the parents\n",
    "class NonGenderedParent(DadParent, MomParent):\n",
    "    def __init__(self, name, surname, maiden_name=None, \n",
    "                 is_jr=False, b_year=None, pronoun_list=None):\n",
    "        DadParent.__init__(self, name, surname, is_jr=False, b_year=None)\n",
    "        MomParent.__init__(self, name, surname, maiden_name=maiden_name, b_year=None)\n",
    "        self.pronouns = pronoun_list"
   ]
  },
  {
   "cell_type": "code",
   "execution_count": 8,
   "id": "cdf29182-1901-4b42-82a4-d7e7ff8bf777",
   "metadata": {},
   "outputs": [
    {
     "name": "stdout",
     "output_type": "stream",
     "text": [
      "Good Day Sir!\n",
      "\n",
      "\n",
      "\n",
      "\n",
      "\n",
      "\n"
     ]
    }
   ],
   "source": [
    "np = NonGenderedParent(\"Kim\", \"Andersson\", pronoun_list=['they', 'them'])\n",
    "print(np.morning())\n",
    "print(\"\\n\\n\\n\\n\\n\")"
   ]
  },
  {
   "cell_type": "markdown",
   "id": "e40fb4b0-a658-4576-abec-42293108e5ad",
   "metadata": {},
   "source": [
    "Det som påverkar vilken förälders parameter eller metoder som kallas beror på vilken ordning de  kompilerades."
   ]
  },
  {
   "cell_type": "markdown",
   "id": "0748c9cf-4063-4f02-92e5-a3b8473139af",
   "metadata": {
    "tags": []
   },
   "source": [
    "### Privacy\n",
    "#### Weakly private (Protected)\n",
    "Single underscore"
   ]
  },
  {
   "cell_type": "code",
   "execution_count": null,
   "id": "da7f8797-2544-4c38-a782-01add4cec643",
   "metadata": {},
   "outputs": [],
   "source": [
    "class Parent:\n",
    "    def __init__(self, name, surname, b_year=0):\n",
    "        self.firstname = name\n",
    "        self.lastname = surname\n",
    "        self._birth_year = b_year"
   ]
  },
  {
   "cell_type": "code",
   "execution_count": null,
   "id": "b20f95e5-9fab-4221-a1c2-95e19e2ead82",
   "metadata": {},
   "outputs": [],
   "source": [
    "p = Parent(\"Tom\", \"Jackson\", b_year=1999)\n",
    "p._birth_year"
   ]
  },
  {
   "cell_type": "code",
   "execution_count": null,
   "id": "e4987a55-fba6-4edb-832f-eb018b1e175e",
   "metadata": {},
   "outputs": [],
   "source": [
    "class Child(Parent):\n",
    "    def __init__(self, a_name):\n",
    "        first, last = a_name.split()\n",
    "        super().__init__(first, last)"
   ]
  },
  {
   "cell_type": "code",
   "execution_count": null,
   "id": "48ada4c3-1d2d-4d37-a816-595a577fadb6",
   "metadata": {},
   "outputs": [],
   "source": [
    "c = Child(\"Sawyer Jackson\") \n",
    "c._birth_year"
   ]
  },
  {
   "cell_type": "markdown",
   "id": "55ffecf9-76e2-4d7e-bc46-476dfa739312",
   "metadata": {},
   "source": [
    "#### double underscore - a little stronger"
   ]
  },
  {
   "cell_type": "code",
   "execution_count": 9,
   "id": "4f3b7d23-172b-440a-b9a3-9e9296827602",
   "metadata": {},
   "outputs": [],
   "source": [
    "class Parent:\n",
    "    def __init__(self, name, b_year=0):\n",
    "        self.name = name\n",
    "        self.__birth_year = b_year\n",
    "    \n",
    "    def access_birth(self):\n",
    "        return self.__birth_year"
   ]
  },
  {
   "cell_type": "code",
   "execution_count": 10,
   "id": "5c69e9da-291e-44a0-9077-8f574b3c528f",
   "metadata": {},
   "outputs": [
    {
     "name": "stdout",
     "output_type": "stream",
     "text": [
      "ERROR\n",
      "1999\n",
      "1999\n"
     ]
    }
   ],
   "source": [
    "p = Parent(\"Tom Jackson\", b_year=1999)\n",
    "try:\n",
    "    print(p.__birth_year)\n",
    "except:\n",
    "    print('ERROR')\n",
    "print(p._Parent__birth_year)\n",
    "print(p.access_birth())  "
   ]
  },
  {
   "cell_type": "code",
   "execution_count": 11,
   "id": "2f447428-e917-4260-84f0-1852b6c226c6",
   "metadata": {},
   "outputs": [],
   "source": [
    "class Child(Parent):\n",
    "    def __init__(self, a_name):\n",
    "        super().__init__(a_name)\n",
    "    \n",
    "    def access_bday(self):\n",
    "        return super().access_birth()"
   ]
  },
  {
   "cell_type": "code",
   "execution_count": 8,
   "id": "66602278-b459-4cc5-a67c-5bbec427dec8",
   "metadata": {},
   "outputs": [
    {
     "ename": "TypeError",
     "evalue": "__init__() missing 1 required positional argument: 'surname'",
     "output_type": "error",
     "traceback": [
      "\u001b[1;31m---------------------------------------------------------------------------\u001b[0m",
      "\u001b[1;31mTypeError\u001b[0m                                 Traceback (most recent call last)",
      "\u001b[1;32mc:\\Users\\adm221552\\Documents\\Python_AI_kurs\\övningar\\Lek_4.ipynb Cell 35\u001b[0m in \u001b[0;36m<cell line: 1>\u001b[1;34m()\u001b[0m\n\u001b[1;32m----> <a href='vscode-notebook-cell:/c%3A/Users/adm221552/Documents/Python_AI_kurs/%C3%B6vningar/Lek_4.ipynb#X46sZmlsZQ%3D%3D?line=0'>1</a>\u001b[0m c \u001b[39m=\u001b[39m Child(\u001b[39m\"\u001b[39;49m\u001b[39mSawyer Jackson\u001b[39;49m\u001b[39m\"\u001b[39;49m) \n\u001b[0;32m      <a href='vscode-notebook-cell:/c%3A/Users/adm221552/Documents/Python_AI_kurs/%C3%B6vningar/Lek_4.ipynb#X46sZmlsZQ%3D%3D?line=1'>2</a>\u001b[0m c\u001b[39m.\u001b[39m__birth_year\n",
      "\u001b[1;32mc:\\Users\\adm221552\\Documents\\Python_AI_kurs\\övningar\\Lek_4.ipynb Cell 35\u001b[0m in \u001b[0;36mChild.__init__\u001b[1;34m(self, a_name)\u001b[0m\n\u001b[0;32m      <a href='vscode-notebook-cell:/c%3A/Users/adm221552/Documents/Python_AI_kurs/%C3%B6vningar/Lek_4.ipynb#X46sZmlsZQ%3D%3D?line=1'>2</a>\u001b[0m \u001b[39mdef\u001b[39;00m \u001b[39m__init__\u001b[39m(\u001b[39mself\u001b[39m, a_name):\n\u001b[1;32m----> <a href='vscode-notebook-cell:/c%3A/Users/adm221552/Documents/Python_AI_kurs/%C3%B6vningar/Lek_4.ipynb#X46sZmlsZQ%3D%3D?line=2'>3</a>\u001b[0m     \u001b[39msuper\u001b[39;49m()\u001b[39m.\u001b[39;49m\u001b[39m__init__\u001b[39;49m(a_name)\n",
      "\u001b[1;31mTypeError\u001b[0m: __init__() missing 1 required positional argument: 'surname'"
     ]
    }
   ],
   "source": [
    "c = Child(\"Sawyer Jackson\") \n",
    "c.__birth_year"
   ]
  },
  {
   "cell_type": "code",
   "execution_count": null,
   "id": "9a56a62a-b6b8-4c43-b37c-db3564760c6a",
   "metadata": {},
   "outputs": [],
   "source": [
    "c.access_bday()"
   ]
  },
  {
   "cell_type": "code",
   "execution_count": null,
   "id": "4fdcf572-7bd5-446a-9296-3d09aab851a4",
   "metadata": {},
   "outputs": [],
   "source": [
    "c._Child__birth_year\n"
   ]
  },
  {
   "cell_type": "markdown",
   "id": "d8198428-5e93-4184-a2e2-cc0c84264d2c",
   "metadata": {
    "tags": []
   },
   "source": [
    "### String"
   ]
  },
  {
   "cell_type": "code",
   "execution_count": null,
   "id": "e8970a09-5d19-4bfb-aa3b-cb1241a39286",
   "metadata": {},
   "outputs": [],
   "source": [
    "str1 = 'abc'\n",
    "str2 = 'GEF'\n",
    "\n",
    "print(str1 + str2)\n",
    "print(str1)\n",
    "print(str2)"
   ]
  },
  {
   "cell_type": "markdown",
   "id": "b9bc8fb5-a373-4cd8-ad68-7432a6dab39f",
   "metadata": {},
   "source": [
    "#### join"
   ]
  },
  {
   "cell_type": "code",
   "execution_count": null,
   "id": "2a17a432-0d9b-4f8e-9919-e2ad44b7989a",
   "metadata": {},
   "outputs": [],
   "source": [
    "print(str1.join(str2))\n",
    "print(str1)\n",
    "print(str2)"
   ]
  },
  {
   "cell_type": "code",
   "execution_count": null,
   "id": "cdd9de66-9847-41b0-a62c-3582e885d1c1",
   "metadata": {},
   "outputs": [],
   "source": [
    "print(''.join((str1, str2)))"
   ]
  },
  {
   "cell_type": "code",
   "execution_count": null,
   "id": "8dca10f6-f208-40f0-b3ac-5d42b59118b0",
   "metadata": {},
   "outputs": [],
   "source": [
    "print(''.join((str1, str2)))\n",
    "print(str1)\n",
    "print(str2)"
   ]
  },
  {
   "cell_type": "markdown",
   "id": "bf4205ab-43d9-4f54-8b8d-96340ee0e633",
   "metadata": {},
   "source": [
    "#### Manipulation"
   ]
  },
  {
   "cell_type": "code",
   "execution_count": null,
   "id": "d8c1da14-ad7a-4881-8f87-0cc5103b7a89",
   "metadata": {},
   "outputs": [],
   "source": [
    "# How to access the last letter?\n",
    "str1[2]"
   ]
  },
  {
   "cell_type": "code",
   "execution_count": null,
   "id": "ca6230eb-f979-476a-9039-df4927c90156",
   "metadata": {},
   "outputs": [],
   "source": [
    "print(str1 * 10)\n",
    "print(len(str1 * 10))\n",
    "print(len(str1))"
   ]
  },
  {
   "cell_type": "code",
   "execution_count": null,
   "id": "cef34260-bc0f-44f3-98a1-45e3767e8216",
   "metadata": {},
   "outputs": [],
   "source": [
    "al = ['abc']\n",
    "al * 10"
   ]
  },
  {
   "cell_type": "code",
   "execution_count": null,
   "id": "04676656-674c-48ca-9577-4704e81d2814",
   "metadata": {},
   "outputs": [],
   "source": [
    "print('%s is a string.' %str1 )\n",
    "print(f\"{str1} is a string. \" )"
   ]
  },
  {
   "cell_type": "code",
   "execution_count": null,
   "id": "f2c5b2a2-502e-4851-aa04-1e7315724e53",
   "metadata": {},
   "outputs": [],
   "source": [
    "a = str1.upper()\n",
    "b = str1.capitalize()\n",
    "c = str1.lower()\n",
    "print(a, b, c)\n",
    "\n",
    "string ='hej jag heter sam'\n",
    "string.capitalize()\n",
    "#print(string.split())"
   ]
  },
  {
   "cell_type": "code",
   "execution_count": null,
   "id": "60f40b63-80d9-451b-8d33-99ea9da922bf",
   "metadata": {},
   "outputs": [],
   "source": [
    "print(str2)\n",
    "\n",
    "str2.index('F')"
   ]
  },
  {
   "cell_type": "code",
   "execution_count": null,
   "id": "caff297d-f007-4d31-90e7-ff3225293661",
   "metadata": {},
   "outputs": [],
   "source": [
    "# Slicing\n",
    "str2 = 'AchangeIsGood'\n",
    "print(str2[2])\n",
    "print(str2[:2])\n",
    "print(str2[2:])\n",
    "print(str2[:])\n",
    "print(str2[-1])"
   ]
  },
  {
   "cell_type": "code",
   "execution_count": null,
   "id": "4f124b02-d8ae-4da4-aff7-e5de5265b0d8",
   "metadata": {},
   "outputs": [],
   "source": [
    "str3 = 'A change is good'\n",
    "print(str3.split())"
   ]
  },
  {
   "cell_type": "markdown",
   "id": "ef96a902-ad0e-4022-94e5-9bb6af2408b3",
   "metadata": {},
   "source": [
    "#### Formatting"
   ]
  },
  {
   "cell_type": "code",
   "execution_count": null,
   "id": "38fc3519-32a7-4835-a965-7276054953f2",
   "metadata": {},
   "outputs": [],
   "source": [
    "# escape characters\n",
    "print('\\n'.join(('Good Morning', 'world')))\n",
    "\n",
    "print(\"Good Morning \\t world\")\n",
    "\n",
    "print(\"\"\"Good Morning \n",
    "      world\"\"\")"
   ]
  },
  {
   "cell_type": "code",
   "execution_count": null,
   "id": "a2641673-5592-4a49-a6ad-5bb6bb23e947",
   "metadata": {},
   "outputs": [],
   "source": [
    "a_f = 0.464244657\n",
    "print(f\"{a_f:.5004}\")"
   ]
  },
  {
   "cell_type": "code",
   "execution_count": null,
   "id": "ee0bbc45-aa70-4ca2-85ab-0b648610f93c",
   "metadata": {},
   "outputs": [],
   "source": [
    "print(\"Four dec. {:.4} and 2 dec. {:.2}\".format(a_f, a_f))"
   ]
  },
  {
   "cell_type": "code",
   "execution_count": null,
   "id": "e31f743b-256b-464d-86b1-b993579ce2bb",
   "metadata": {},
   "outputs": [],
   "source": [
    "print(\"All the dec. {}\".format(a_f))"
   ]
  },
  {
   "cell_type": "code",
   "execution_count": null,
   "id": "80758372-0fcf-44d2-948b-d096bcf5eecc",
   "metadata": {},
   "outputs": [],
   "source": [
    "pop = 'pop'\n",
    "boom = 'BOOM'\n",
    "print(\"A balloon goes {0} and a bomb goes {1}\".format(pop, boom))"
   ]
  },
  {
   "cell_type": "code",
   "execution_count": null,
   "id": "da2275e8-01c9-44ea-b133-de67b1aae265",
   "metadata": {},
   "outputs": [],
   "source": [
    "# raw: ignorerar speciella tecken\n",
    "print(r\"Good Morning \\t\\'world\\'\")"
   ]
  },
  {
   "cell_type": "code",
   "execution_count": null,
   "id": "602b02a5-1969-4166-9339-0831cb962254",
   "metadata": {},
   "outputs": [],
   "source": []
  }
 ],
 "metadata": {
  "kernelspec": {
   "display_name": "Python 3.9.12 ('base')",
   "language": "python",
   "name": "python3"
  },
  "language_info": {
   "codemirror_mode": {
    "name": "ipython",
    "version": 3
   },
   "file_extension": ".py",
   "mimetype": "text/x-python",
   "name": "python",
   "nbconvert_exporter": "python",
   "pygments_lexer": "ipython3",
   "version": "3.9.12"
  },
  "vscode": {
   "interpreter": {
    "hash": "ad2bdc8ecc057115af97d19610ffacc2b4e99fae6737bb82f5d7fb13d2f2c186"
   }
  }
 },
 "nbformat": 4,
 "nbformat_minor": 5
}
