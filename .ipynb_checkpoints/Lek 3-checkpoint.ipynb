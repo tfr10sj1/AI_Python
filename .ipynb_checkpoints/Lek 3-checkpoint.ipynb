{
 "cells": [
  {
   "cell_type": "markdown",
   "id": "3439626d-fdf0-46e4-ac82-0e8573ba245d",
   "metadata": {
    "tags": []
   },
   "source": [
    "# Stack & Queue"
   ]
  },
  {
   "cell_type": "code",
   "execution_count": 1,
   "id": "8aaff379-523d-42a2-ac51-177771a0c7c1",
   "metadata": {},
   "outputs": [
    {
     "name": "stdout",
     "output_type": "stream",
     "text": [
      "['titelsida', 'utgivare', 'innehåll', 'kapitel 1']\n"
     ]
    },
    {
     "data": {
      "text/plain": [
       "list"
      ]
     },
     "execution_count": 1,
     "metadata": {},
     "output_type": "execute_result"
    }
   ],
   "source": [
    "papper = []\n",
    "papper.append('titelsida')\n",
    "papper.append('utgivare')\n",
    "papper.append('innehåll')\n",
    "papper.append('kapitel 1')\n",
    "print(papper)\n",
    "type(papper)"
   ]
  },
  {
   "cell_type": "code",
   "execution_count": 2,
   "id": "b5290557-85e2-4350-99a3-3d32171eea32",
   "metadata": {},
   "outputs": [
    {
     "data": {
      "text/plain": [
       "['titelsida', 'utgivare', 'innehåll', 'kapitel 1', 'kapitel 2']"
      ]
     },
     "execution_count": 2,
     "metadata": {},
     "output_type": "execute_result"
    }
   ],
   "source": [
    "papper.append('kapitel 2')\n",
    "papper"
   ]
  },
  {
   "cell_type": "code",
   "execution_count": 4,
   "id": "9473e9d1-febf-4089-b2c4-14656e21cdf7",
   "metadata": {},
   "outputs": [
    {
     "data": {
      "text/plain": [
       "'kapitel 2'"
      ]
     },
     "execution_count": 4,
     "metadata": {},
     "output_type": "execute_result"
    }
   ],
   "source": [
    "papper.pop()"
   ]
  },
  {
   "cell_type": "code",
   "execution_count": 7,
   "id": "7e9733b9-2174-45bb-bfc8-bf43e3bf1459",
   "metadata": {},
   "outputs": [
    {
     "data": {
      "text/plain": [
       "['innehåll', 'kapitel 1', 'titelsida', 'utgivare']"
      ]
     },
     "execution_count": 7,
     "metadata": {},
     "output_type": "execute_result"
    }
   ],
   "source": [
    "pap2 = papper.sort()\n",
    "papper"
   ]
  },
  {
   "cell_type": "code",
   "execution_count": 9,
   "id": "515a47cc-8a5f-4f3d-9d96-8a5020979fe2",
   "metadata": {},
   "outputs": [],
   "source": [
    "from collections import deque\n"
   ]
  },
  {
   "cell_type": "code",
   "execution_count": 5,
   "id": "09498a79-b2a0-47b6-89a0-e75e8e7a1af0",
   "metadata": {},
   "outputs": [
    {
     "name": "stdout",
     "output_type": "stream",
     "text": [
      "['titel', 'utgivare', 'innehåll']\n"
     ]
    }
   ],
   "source": [
    "bok2 = []\n",
    "bok2.append('titel')\n",
    "bok2.append('utgivare')\n",
    "bok2.append('innehåll')\n",
    "print(bok2)"
   ]
  },
  {
   "cell_type": "code",
   "execution_count": 6,
   "id": "8151cd0a-e8ec-48a7-824d-8ce867a8ebf3",
   "metadata": {},
   "outputs": [],
   "source": [
    "bok2.reverse()\n"
   ]
  },
  {
   "cell_type": "code",
   "execution_count": 7,
   "id": "f3fe5444-d827-4705-b4ee-8ca3621d4b97",
   "metadata": {},
   "outputs": [
    {
     "data": {
      "text/plain": [
       "['innehåll', 'utgivare', 'titel']"
      ]
     },
     "execution_count": 7,
     "metadata": {},
     "output_type": "execute_result"
    }
   ],
   "source": [
    "bok2"
   ]
  },
  {
   "cell_type": "code",
   "execution_count": 11,
   "id": "05b1d70f-b90e-4805-ba33-db014b67b132",
   "metadata": {},
   "outputs": [
    {
     "name": "stdout",
     "output_type": "stream",
     "text": [
      "<class 'collections.deque'>\n",
      "deque(['innehåll', 'utgivare', 'titel'])\n"
     ]
    },
    {
     "data": {
      "text/plain": [
       "deque(['titel', 'utgivare', 'innehåll'])"
      ]
     },
     "execution_count": 11,
     "metadata": {},
     "output_type": "execute_result"
    }
   ],
   "source": [
    "bok_q = deque(bok2)\n",
    "print(type(bok_q))\n",
    "print(bok_q)\n",
    "bok_q.reverse()\n",
    "bok_q"
   ]
  },
  {
   "cell_type": "code",
   "execution_count": 36,
   "id": "99b34fc3-bda5-4494-b39d-45250d8e55d3",
   "metadata": {},
   "outputs": [
    {
     "name": "stdout",
     "output_type": "stream",
     "text": [
      "innehåll\n",
      "utgivare\n",
      "titel\n",
      "deque(['innehåll', 'utgivare', 'titel'])\n"
     ]
    }
   ],
   "source": [
    "for element in bok_q:\n",
    "    print(element)\n",
    "\n",
    "\n",
    "print(bok_q)"
   ]
  },
  {
   "cell_type": "code",
   "execution_count": 13,
   "id": "e3b7f000-62d6-4347-95e4-acd47c1f559c",
   "metadata": {},
   "outputs": [
    {
     "name": "stdout",
     "output_type": "stream",
     "text": [
      "deque(['titel', 'utgivare', 'innehåll'])\n"
     ]
    },
    {
     "data": {
      "text/plain": [
       "['titel', 'utgivare', 'innehåll']"
      ]
     },
     "execution_count": 13,
     "metadata": {},
     "output_type": "execute_result"
    }
   ],
   "source": [
    "print(bok_q)\n",
    "bok2"
   ]
  },
  {
   "cell_type": "code",
   "execution_count": 14,
   "id": "1166b261-7309-460e-a58b-124004d5a976",
   "metadata": {},
   "outputs": [
    {
     "data": {
      "text/plain": [
       "deque(['utgivare', 'innehåll'])"
      ]
     },
     "execution_count": 14,
     "metadata": {},
     "output_type": "execute_result"
    }
   ],
   "source": [
    "bok_q.popleft()\n",
    "bok_q"
   ]
  },
  {
   "cell_type": "code",
   "execution_count": 15,
   "id": "a41e25aa-06bc-4015-8596-35c34fe765c1",
   "metadata": {},
   "outputs": [
    {
     "data": {
      "text/plain": [
       "deque(['utgivare'])"
      ]
     },
     "execution_count": 15,
     "metadata": {},
     "output_type": "execute_result"
    }
   ],
   "source": [
    "bok_q.pop()\n",
    "bok_q"
   ]
  },
  {
   "cell_type": "markdown",
   "id": "3cdeacc9-2f22-47d7-a87c-1ab0730a5021",
   "metadata": {
    "tags": []
   },
   "source": [
    "# Set"
   ]
  },
  {
   "cell_type": "code",
   "execution_count": 41,
   "id": "f8813fc9-922f-492f-8615-5dce2d924941",
   "metadata": {},
   "outputs": [],
   "source": [
    "gfg = \"Geeks for geeks\""
   ]
  },
  {
   "cell_type": "code",
   "execution_count": 42,
   "id": "9f24ce33-1fd5-44af-878d-5a98a6225e22",
   "metadata": {},
   "outputs": [
    {
     "data": {
      "text/plain": [
       "{' ', 'G', 'e', 'f', 'g', 'k', 'o', 'r', 's'}"
      ]
     },
     "execution_count": 42,
     "metadata": {},
     "output_type": "execute_result"
    }
   ],
   "source": [
    "g_set = set(gfg)\n",
    "g_set"
   ]
  },
  {
   "cell_type": "code",
   "execution_count": 44,
   "id": "863fb7b6-ca74-45f1-af05-11c9c91d30b5",
   "metadata": {},
   "outputs": [
    {
     "data": {
      "text/plain": [
       "{'Geeks', 'for'}"
      ]
     },
     "execution_count": 44,
     "metadata": {},
     "output_type": "execute_result"
    }
   ],
   "source": [
    "ord_set = set([\"Geeks\", \"for\", \"Geeks\"])\n",
    "ord_set"
   ]
  },
  {
   "cell_type": "code",
   "execution_count": 50,
   "id": "b556c8ab-b4d0-4d41-a904-01afb76db57f",
   "metadata": {},
   "outputs": [
    {
     "data": {
      "text/plain": [
       "False"
      ]
     },
     "execution_count": 50,
     "metadata": {},
     "output_type": "execute_result"
    }
   ],
   "source": [
    "\"Geeks\" in ord_set"
   ]
  },
  {
   "cell_type": "code",
   "execution_count": 46,
   "id": "a1abd587-d7a8-437d-bc20-40e636bf106e",
   "metadata": {},
   "outputs": [
    {
     "data": {
      "text/plain": [
       "True"
      ]
     },
     "execution_count": 46,
     "metadata": {},
     "output_type": "execute_result"
    }
   ],
   "source": [
    "\"Geeks\" in [\"Geeks\", \"for\", \"Geeks\"]"
   ]
  },
  {
   "cell_type": "code",
   "execution_count": 48,
   "id": "0751fb82-3cc3-4f7a-9016-572c2bae576b",
   "metadata": {},
   "outputs": [
    {
     "data": {
      "text/plain": [
       "True"
      ]
     },
     "execution_count": 48,
     "metadata": {},
     "output_type": "execute_result"
    }
   ],
   "source": [
    "\"geeks\" in gfg"
   ]
  },
  {
   "cell_type": "code",
   "execution_count": 57,
   "id": "e00a2222-40f8-4d62-be63-f6aadc9f463c",
   "metadata": {},
   "outputs": [],
   "source": [
    "a = {\"Kjell\", 'Jonas', 'Dagmara'}"
   ]
  },
  {
   "cell_type": "code",
   "execution_count": 58,
   "id": "4e88669b-6a4b-488d-b753-b556ae0c0601",
   "metadata": {},
   "outputs": [],
   "source": [
    "b = {'Kjell', 'Johannes', 'Diana'}\n",
    "c = {'Bob', 'Billy'}"
   ]
  },
  {
   "cell_type": "code",
   "execution_count": 59,
   "id": "a3a06f5a-2703-4222-be0f-00ba8807a3bc",
   "metadata": {},
   "outputs": [
    {
     "data": {
      "text/plain": [
       "{'Billy', 'Bob', 'Dagmara', 'Diana', 'Johannes', 'Jonas', 'Kjell'}"
      ]
     },
     "execution_count": 59,
     "metadata": {},
     "output_type": "execute_result"
    }
   ],
   "source": [
    "a.union(*[b, c])"
   ]
  },
  {
   "cell_type": "markdown",
   "id": "c12fa9fc-7507-436f-ad4b-8ca2e5902059",
   "metadata": {
    "tags": []
   },
   "source": [
    "# Named Tuple"
   ]
  },
  {
   "cell_type": "code",
   "execution_count": 60,
   "id": "a5106438-f8ff-49ab-b792-e2c3ff123a1e",
   "metadata": {},
   "outputs": [],
   "source": [
    "bil = ('CCCB01', 'Nissan', 'blue')"
   ]
  },
  {
   "cell_type": "code",
   "execution_count": 61,
   "id": "376d936a-2644-440a-9144-7d92e3370b2d",
   "metadata": {},
   "outputs": [
    {
     "data": {
      "text/plain": [
       "'blue'"
      ]
     },
     "execution_count": 61,
     "metadata": {},
     "output_type": "execute_result"
    }
   ],
   "source": [
    "bil[2]"
   ]
  },
  {
   "cell_type": "code",
   "execution_count": 15,
   "id": "db90dc25-730b-4afd-9a9c-c391173548bd",
   "metadata": {},
   "outputs": [],
   "source": [
    "from collections import namedtuple as nt"
   ]
  },
  {
   "cell_type": "code",
   "execution_count": 18,
   "id": "c40d2890-38d1-4740-b4a0-726b8538338b",
   "metadata": {},
   "outputs": [],
   "source": [
    "Bil = nt('Bil', 'reg_no, brand, color')"
   ]
  },
  {
   "cell_type": "code",
   "execution_count": 19,
   "id": "be0a7ec8-3932-4b90-bf9a-c48068c25f5a",
   "metadata": {},
   "outputs": [
    {
     "data": {
      "text/plain": [
       "'black'"
      ]
     },
     "execution_count": 19,
     "metadata": {},
     "output_type": "execute_result"
    }
   ],
   "source": [
    "b1 = Bil('XXZI12', 'Toyota', 'black')\n",
    "b1.color"
   ]
  },
  {
   "cell_type": "markdown",
   "id": "afc3b154-424d-45db-a214-c321e59b3492",
   "metadata": {},
   "source": [
    "# OOP in Python"
   ]
  },
  {
   "cell_type": "code",
   "execution_count": 20,
   "id": "06eb72d6-487d-4d8d-9bd0-14c82063bf9d",
   "metadata": {},
   "outputs": [],
   "source": [
    "class Wolf:\n",
    "    species = \"Canis Lupus\"\n",
    "    \n",
    "    def my_kind(self):\n",
    "        return f\"My kind is called {self.species} in Latin.\"\n",
    "\n",
    "    def speak(self):\n",
    "        return f\"{self.name} says 'Awoooo'!\""
   ]
  },
  {
   "cell_type": "code",
   "execution_count": 21,
   "id": "4df28750-50aa-4b2d-b06e-2ada310fe652",
   "metadata": {},
   "outputs": [],
   "source": [
    "w1 = Wolf()"
   ]
  },
  {
   "cell_type": "code",
   "execution_count": 22,
   "id": "bcc0dac0-97e9-4ab1-999e-09171fc7e1eb",
   "metadata": {},
   "outputs": [
    {
     "data": {
      "text/plain": [
       "'My kind is called Canis Lupus in Latin.'"
      ]
     },
     "execution_count": 22,
     "metadata": {},
     "output_type": "execute_result"
    }
   ],
   "source": [
    "w1.my_kind()"
   ]
  },
  {
   "cell_type": "code",
   "execution_count": 24,
   "id": "d05f49c2-1ed8-4ace-b6b2-6f756289d1f5",
   "metadata": {},
   "outputs": [],
   "source": [
    "class Dog(Wolf):\n",
    "    species = \"Canis Lupus Familiaris\"\n",
    "    \n",
    "    def __init__(self, name, age):\n",
    "        self.name = name\n",
    "        self.age = age\n",
    "        \n",
    "    def speak(self, sound=\"Woof\"):\n",
    "        return f\"{self.name} says {sound}.\""
   ]
  },
  {
   "cell_type": "code",
   "execution_count": 25,
   "id": "2ab92eb4-ef8b-4862-b8bf-bda482495d00",
   "metadata": {},
   "outputs": [],
   "source": [
    "fido = Dog(\"Fido\", 4)"
   ]
  },
  {
   "cell_type": "code",
   "execution_count": 26,
   "id": "1b0c6b7c-ab5a-4614-b741-96811eddc7f2",
   "metadata": {},
   "outputs": [
    {
     "data": {
      "text/plain": [
       "'Fido says Woof.'"
      ]
     },
     "execution_count": 26,
     "metadata": {},
     "output_type": "execute_result"
    }
   ],
   "source": [
    "fido.speak()"
   ]
  },
  {
   "cell_type": "code",
   "execution_count": 27,
   "id": "a598cefb-70bc-43ce-8378-6b602e9bb4e7",
   "metadata": {},
   "outputs": [
    {
     "data": {
      "text/plain": [
       "'My kind is called Canis Lupus Familiaris in Latin.'"
      ]
     },
     "execution_count": 27,
     "metadata": {},
     "output_type": "execute_result"
    }
   ],
   "source": [
    "fido.my_kind()"
   ]
  },
  {
   "cell_type": "code",
   "execution_count": 28,
   "id": "c9508726-4a1c-46ad-8cba-68b343fe279a",
   "metadata": {},
   "outputs": [],
   "source": [
    "class Husky(Dog):\n",
    "    def __init__(self, name, age, color='white'):\n",
    "        super().__init__(name, age)\n",
    "        self.color = color\n",
    "        \n",
    "    def speak(self):\n",
    "        return super(Dog, self).speak()"
   ]
  },
  {
   "cell_type": "code",
   "execution_count": 29,
   "id": "05026110-72b6-4129-915b-104c46f1d23d",
   "metadata": {},
   "outputs": [],
   "source": [
    "lurven = Husky(\"Lurven\", 2)"
   ]
  },
  {
   "cell_type": "code",
   "execution_count": 30,
   "id": "15b60cd5-aee4-437e-973c-d28852dfe946",
   "metadata": {},
   "outputs": [
    {
     "data": {
      "text/plain": [
       "\"Lurven says 'Awoooo'!\""
      ]
     },
     "execution_count": 30,
     "metadata": {},
     "output_type": "execute_result"
    }
   ],
   "source": [
    "lurven.speak()"
   ]
  },
  {
   "cell_type": "code",
   "execution_count": 32,
   "id": "f9f5c76c-dfdc-4c31-ad2c-6acfc1fbd44a",
   "metadata": {},
   "outputs": [
    {
     "data": {
      "text/plain": [
       "\"Lurven says 'Awoooo'!\""
      ]
     },
     "execution_count": 32,
     "metadata": {},
     "output_type": "execute_result"
    }
   ],
   "source": [
    "lurven.speak()"
   ]
  },
  {
   "cell_type": "code",
   "execution_count": 33,
   "id": "32529e7f-5f65-4aec-936e-476de096951a",
   "metadata": {},
   "outputs": [
    {
     "data": {
      "text/plain": [
       "'Lurven says Boo.'"
      ]
     },
     "execution_count": 33,
     "metadata": {},
     "output_type": "execute_result"
    }
   ],
   "source": [
    "super(Husky, lurven).speak(\"Boo\")"
   ]
  },
  {
   "cell_type": "code",
   "execution_count": 34,
   "id": "6e491b2d-55fe-4c90-9fb9-0a6ff8fe7bc4",
   "metadata": {},
   "outputs": [],
   "source": [
    "class Parent:\n",
    "    def __init__(self, *args):\n",
    "        self.firstname = args[0]\n",
    "        self.lastname = args[1]\n",
    "    \n",
    "    def morning(self):\n",
    "        return f\"Good Morning!\""
   ]
  },
  {
   "cell_type": "code",
   "execution_count": 108,
   "id": "5d754a72-fc52-44d1-a0fb-2e825cf7494f",
   "metadata": {},
   "outputs": [],
   "source": [
    "Henrik = Parent(\"Henrik\", \"Staaf\", 1999)"
   ]
  },
  {
   "cell_type": "code",
   "execution_count": 109,
   "id": "de8b3cd5-8585-4be4-b688-5978a8355df8",
   "metadata": {},
   "outputs": [
    {
     "data": {
      "text/plain": [
       "'Henrik'"
      ]
     },
     "execution_count": 109,
     "metadata": {},
     "output_type": "execute_result"
    }
   ],
   "source": [
    "Henrik.firstname\n"
   ]
  },
  {
   "cell_type": "markdown",
   "id": "b7ce12f7-d778-47d4-b4b5-37f489326b73",
   "metadata": {
    "tags": []
   },
   "source": [
    "# Multiple Inheritance"
   ]
  },
  {
   "cell_type": "code",
   "execution_count": 35,
   "id": "ca9c5678-bc5b-44ee-8cf8-fafdffcdf16d",
   "metadata": {},
   "outputs": [],
   "source": [
    "class Parent:\n",
    "    def __init__(self, name, surname, b_year=None):\n",
    "        self.firstname = name\n",
    "        self.lastname = surname\n",
    "        self.birth_year = b_year\n",
    "    \n",
    "    def morning(self):\n",
    "        return f\"Good Morning!\""
   ]
  },
  {
   "cell_type": "code",
   "execution_count": 36,
   "id": "d2f7ddc5-f2c7-4e5a-acd8-96e1f7f49e84",
   "metadata": {},
   "outputs": [],
   "source": [
    "class MomParent(Parent):\n",
    "    def __init__(self, name, surname, maiden_name=\"\", b_year=None):\n",
    "        super().__init__(name, surname,b_year)\n",
    "        self.maiden_name = maiden_name\n",
    "        \n",
    "    def morning(self):\n",
    "        return f\"Good morning Darling!\""
   ]
  },
  {
   "cell_type": "code",
   "execution_count": 37,
   "id": "ddcbd0d5-b325-4516-9496-1c59234ae527",
   "metadata": {},
   "outputs": [],
   "source": [
    "class DadParent(Parent):\n",
    "    def __init__(self, name, surname, b_year=None, is_jr = False):\n",
    "        super().__init__(name, surname,b_year)\n",
    "        self.is_jr = is_jr\n",
    "        \n",
    "    def morning(self):\n",
    "        return f\"Good Day!\""
   ]
  },
  {
   "cell_type": "code",
   "execution_count": 38,
   "id": "69a480bd-8516-49dd-8313-96e149d19e28",
   "metadata": {},
   "outputs": [],
   "source": [
    "class NonGenderedParent(MomParent, DadParent):\n",
    "    def __init__(self, name, surname, b_year=None, \n",
    "                 maiden_name=\"\", is_jr=False, pronoun_list=None):\n",
    "        MomParent.__init__(self, name, surname, maiden_name = maiden_name, b_year = b_year)\n",
    "        DadParent.__init__(self, name, surname, b_year = b_year, is_jr = is_jr)\n",
    "        self.pronouns = pronoun_list"
   ]
  },
  {
   "cell_type": "code",
   "execution_count": 39,
   "id": "63f89369-db69-4105-ba2b-0b9bc6042c2f",
   "metadata": {},
   "outputs": [
    {
     "data": {
      "text/plain": [
       "'Good morning Darling!'"
      ]
     },
     "execution_count": 39,
     "metadata": {},
     "output_type": "execute_result"
    }
   ],
   "source": [
    "np = NonGenderedParent(\"Kim\", \"Andersson\", maiden_name=\" Dandersson\", b_year=1998, \n",
    "                       pronoun_list = ['they'])\n",
    "np.morning()"
   ]
  },
  {
   "cell_type": "markdown",
   "id": "9431ba25-705d-4c2e-bfc2-360ba4d7b9a8",
   "metadata": {
    "jp-MarkdownHeadingCollapsed": true,
    "tags": []
   },
   "source": [
    "### Swapped the parents"
   ]
  },
  {
   "cell_type": "code",
   "execution_count": null,
   "id": "694a8fd2-8b9c-438d-82ed-24def9acc2d6",
   "metadata": {},
   "outputs": [],
   "source": [
    "# Swapped the parents\n",
    "class NonGenderedParent(DadParent, MomParent):\n",
    "    def __init__(self, name, surname, maiden_name=None, \n",
    "                 is_jr=False, b_year=None, pronoun_list=None):\n",
    "        DadParent.__init__(self, name, surname, is_jr=False, b_year=None)\n",
    "        MomParent.__init__(self, name, surname, maiden_name=maiden_name, b_year=None)\n",
    "        self.pronouns = pronoun_list"
   ]
  },
  {
   "cell_type": "code",
   "execution_count": null,
   "id": "c1140eed-5439-4898-b778-ed2edd00fe34",
   "metadata": {},
   "outputs": [],
   "source": [
    "np = NonGenderedParent(\"Kim\", \"Andersson\", pronoun_list=['they', 'them'])\n",
    "print(np.morning())\n",
    "print(\"\\n\\n\\n\\n\\n\")"
   ]
  },
  {
   "cell_type": "markdown",
   "id": "dd3f2f2c-70fc-494d-ad5d-c0e639b77ea4",
   "metadata": {},
   "source": [
    "Det som påverkar vilken förälders parameter eller metoder som kallas beror på vilken ordning de  kompilerades."
   ]
  },
  {
   "cell_type": "markdown",
   "id": "8c768b1a-8a2f-46dd-8a0d-bc0a5e1cf3d2",
   "metadata": {
    "tags": []
   },
   "source": [
    "# Public etc"
   ]
  },
  {
   "cell_type": "code",
   "execution_count": 150,
   "id": "5e0ff5b3-ac48-40b1-9f28-004b962e0fae",
   "metadata": {},
   "outputs": [],
   "source": [
    "class Parent:\n",
    "    def __init__(self, name, surname, b_year=0):\n",
    "        self.firstname = name\n",
    "        self.lastname = surname\n",
    "        self.__birth_year = b_year\n",
    "    \n",
    "    def born(self):\n",
    "        return self.__birth_year"
   ]
  },
  {
   "cell_type": "code",
   "execution_count": 151,
   "id": "e67f1238-0b2c-4be1-a240-0f0cdd005400",
   "metadata": {},
   "outputs": [],
   "source": [
    "class Child(Parent):\n",
    "    def __init__(self, a_name):\n",
    "        first, last = a_name.split()\n",
    "        super().__init__(first, last)"
   ]
  },
  {
   "cell_type": "code",
   "execution_count": 156,
   "id": "722a11b0-799e-4b48-9e77-5630af070092",
   "metadata": {},
   "outputs": [],
   "source": [
    "p1 = Parent(\"Tom\", \"Jackson\", 1998)"
   ]
  },
  {
   "cell_type": "code",
   "execution_count": 157,
   "id": "1930075d-2a7f-442f-bf74-28840633432a",
   "metadata": {},
   "outputs": [
    {
     "data": {
      "text/plain": [
       "'Tom'"
      ]
     },
     "execution_count": 157,
     "metadata": {},
     "output_type": "execute_result"
    }
   ],
   "source": [
    "p1.firstname"
   ]
  },
  {
   "cell_type": "code",
   "execution_count": 158,
   "id": "9b6bd337-b469-4974-8f45-ac6bd409ca6c",
   "metadata": {},
   "outputs": [
    {
     "ename": "AttributeError",
     "evalue": "'Parent' object has no attribute '__birth_year'",
     "output_type": "error",
     "traceback": [
      "\u001b[0;31m---------------------------------------------------------------------------\u001b[0m",
      "\u001b[0;31mAttributeError\u001b[0m                            Traceback (most recent call last)",
      "Input \u001b[0;32mIn [158]\u001b[0m, in \u001b[0;36m<cell line: 1>\u001b[0;34m()\u001b[0m\n\u001b[0;32m----> 1\u001b[0m \u001b[43mp1\u001b[49m\u001b[38;5;241;43m.\u001b[39;49m\u001b[43m__birth_year\u001b[49m\n",
      "\u001b[0;31mAttributeError\u001b[0m: 'Parent' object has no attribute '__birth_year'"
     ]
    }
   ],
   "source": [
    "p1.__birth_year"
   ]
  },
  {
   "cell_type": "code",
   "execution_count": 159,
   "id": "e1eb9081-7968-4b1d-b2e8-cfe54b7da4db",
   "metadata": {},
   "outputs": [
    {
     "data": {
      "text/plain": [
       "1998"
      ]
     },
     "execution_count": 159,
     "metadata": {},
     "output_type": "execute_result"
    }
   ],
   "source": [
    "p1.born()"
   ]
  },
  {
   "cell_type": "code",
   "execution_count": 126,
   "id": "be425864-5084-4bac-85c5-209741ebeab1",
   "metadata": {},
   "outputs": [],
   "source": [
    "p1._birth_year = 333"
   ]
  },
  {
   "cell_type": "code",
   "execution_count": 141,
   "id": "a70a2283-771f-404b-a11a-d92377508c81",
   "metadata": {},
   "outputs": [],
   "source": [
    "c1 = Child(\"Jack Tomson\")"
   ]
  },
  {
   "cell_type": "code",
   "execution_count": 142,
   "id": "70ebd039-102b-4569-9336-ae05cc25c577",
   "metadata": {},
   "outputs": [
    {
     "data": {
      "text/plain": [
       "'Jack'"
      ]
     },
     "execution_count": 142,
     "metadata": {},
     "output_type": "execute_result"
    }
   ],
   "source": [
    "c1.firstname"
   ]
  },
  {
   "cell_type": "code",
   "execution_count": 143,
   "id": "052766ee-cde3-4a08-aeab-b0c444c0b9ef",
   "metadata": {},
   "outputs": [
    {
     "data": {
      "text/plain": [
       "0"
      ]
     },
     "execution_count": 143,
     "metadata": {},
     "output_type": "execute_result"
    }
   ],
   "source": [
    "c1._birth_year"
   ]
  },
  {
   "cell_type": "code",
   "execution_count": null,
   "id": "16942816-595c-4e42-903b-c14119a49b09",
   "metadata": {},
   "outputs": [],
   "source": []
  },
  {
   "cell_type": "code",
   "execution_count": null,
   "id": "d9def32a-630f-42ca-9ca0-9cd63ddd667c",
   "metadata": {},
   "outputs": [],
   "source": []
  }
 ],
 "metadata": {
  "kernelspec": {
   "display_name": "Python 3 (ipykernel)",
   "language": "python",
   "name": "python3"
  },
  "language_info": {
   "codemirror_mode": {
    "name": "ipython",
    "version": 3
   },
   "file_extension": ".py",
   "mimetype": "text/x-python",
   "name": "python",
   "nbconvert_exporter": "python",
   "pygments_lexer": "ipython3",
   "version": "3.9.12"
  }
 },
 "nbformat": 4,
 "nbformat_minor": 5
}
