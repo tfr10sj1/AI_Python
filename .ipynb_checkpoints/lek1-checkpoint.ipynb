{
 "cells": [
  {
   "cell_type": "code",
   "execution_count": 25,
   "id": "f62c5214-8799-41cb-9252-4336eba3528f",
   "metadata": {},
   "outputs": [
    {
     "name": "stdout",
     "output_type": "stream",
     "text": [
      "Talet 59 är odda!\n"
     ]
    }
   ],
   "source": [
    "\"\"\"Skapa en variabel som är ett \\\"slumpmässigt\\\" reellt tal (använd antingen modulen *random* eller fyll i med en siffra du valt själv)\n",
    "mellan 0 och 100.\"\"\"\n",
    "import random as rand\n",
    "rand_int = rand.randint(0,100)\n",
    "\n",
    "\"\"\"a)   Skriv ut ett meddelande som anger om *heltalet* är jämt eller udda. Andvänd operatorn modulus *%* och *if else*.\n",
    "(Tips: Ändra typen om du alltid får jämna eller udda tal.) \"\"\"\n",
    "\n",
    "if(rand_int%2 == 0):\n",
    "    print(\"Talet \"+ str(rand_int)+\" är jämnt!\")\n",
    "else:\n",
    "    print(\"Talet \"+ str(rand_int)+\" är odda!\")"
   ]
  },
  {
   "cell_type": "code",
   "execution_count": null,
   "id": "f5ff7524-324c-4469-96ee-9a7e417627f0",
   "metadata": {},
   "outputs": [],
   "source": [
    "\"\"\"b)   Spara följande i varsin variabel (t.ex. a, b, c etc.): 10000, 0.06, 4.3000, 1400000000, 0.00899, 0.0000000184, 55.,\n",
    "Skriv om dem till exponentform och spara i nya variabler (t.ex. w, x, y, z etc.). Använd dig av if och relationsoperatorer \n",
    "för att dubbellkolla att de är samma. Se exempel.\"\"\"\n",
    "   "
   ]
  },
  {
   "cell_type": "code",
   "execution_count": 4,
   "id": "0f2a2b9b-79c4-4213-ae53-58c16edb8c82",
   "metadata": {},
   "outputs": [],
   "source": [
    "import math \n",
    "\n",
    "a = 10000\n",
    "b = 0.06\n",
    "c = 4.3000\n",
    "d = 1400000000\n",
    "e = 0.00899\n",
    "f = 0.0000000184\n",
    "g = 55\n",
    "\n",
    "A = 10e3\n",
    "B = 6e-2\n",
    "C = 0.43e1\n",
    "D = 14e8\n",
    "E = 899e-5\n",
    "F = 0.184e-7\n",
    "G = 55e0"
   ]
  },
  {
   "cell_type": "code",
   "execution_count": 5,
   "id": "43d0f7e7-0ca0-421b-b416-d4dac221f516",
   "metadata": {},
   "outputs": [],
   "source": [
    "variabler ={a : 10000,b : 0.06,c : 4.3000,d : 1400000000,e : 0.00899,f : 0.0000000184,g : 55}\n",
    "\n",
    "exponenciella_variabler = {A : 10e3,B : 6e-2,C : 0.43e1,D : 14e8,E : 899e-5,F : 0.184e-7,G : 55e0}\n"
   ]
  },
  {
   "cell_type": "code",
   "execution_count": 6,
   "id": "8141d227-559f-4b80-a789-6b016c7e6525",
   "metadata": {},
   "outputs": [
    {
     "name": "stdout",
     "output_type": "stream",
     "text": [
      "is 10000 == 10000.0\n",
      "Yes!\n",
      "is 0.06 == 0.06\n",
      "Yes!\n",
      "is 4.3 == 4.3\n",
      "Yes!\n",
      "is 1400000000 == 1400000000.0\n",
      "Yes!\n",
      "is 0.00899 == 0.00899\n",
      "Yes!\n",
      "is 1.84e-08 == 1.84e-08\n",
      "Yes!\n",
      "is 55 == 55.0\n",
      "Yes!\n"
     ]
    }
   ],
   "source": [
    "for key in variabler:\n",
    "    if(variabler[key] == exponenciella_variabler[key]):\n",
    "        print(\"is \"+ str(variabler[key])  + \" == \" + str(exponenciella_variabler[key]))\n",
    "        print(\"Yes!\")\n",
    "    else:\n",
    "        print(\"No!\")\n",
    "\n"
   ]
  },
  {
   "cell_type": "code",
   "execution_count": 12,
   "id": "624711e8-80f6-42ad-b036-03e152e00750",
   "metadata": {},
   "outputs": [
    {
     "data": {
      "text/plain": [
       "'c) Vad får du för resultat om du jämför talen med identitet operatorerna is och is not? Försök förklara varför.'"
      ]
     },
     "execution_count": 12,
     "metadata": {},
     "output_type": "execute_result"
    }
   ],
   "source": [
    "\"\"\"c) Vad får du för resultat om du jämför talen med identitet operatorerna is och is not? Försök förklara varför.\"\"\""
   ]
  },
  {
   "cell_type": "code",
   "execution_count": 8,
   "id": "4e37a46d-5c75-4300-b927-6e4eb4a37d7c",
   "metadata": {},
   "outputs": [
    {
     "name": "stdout",
     "output_type": "stream",
     "text": [
      "is 10000 == 10000.0\n",
      "No!\n",
      "is 0.06 == 0.06\n",
      "No!\n",
      "is 4.3 == 4.3\n",
      "No!\n",
      "is 1400000000 == 1400000000.0\n",
      "No!\n",
      "is 0.00899 == 0.00899\n",
      "No!\n",
      "is 1.84e-08 == 1.84e-08\n",
      "No!\n",
      "is 55 == 55.0\n",
      "No!\n"
     ]
    }
   ],
   "source": [
    "for key in variabler:\n",
    "    if(variabler[key] is exponenciella_variabler[key]):\n",
    "        print(\"is \"+ str(variabler[key])  + \" == \" + str(exponenciella_variabler[key]))\n",
    "        print(\"Yes!\")\n",
    "    else:\n",
    "        print(\"is \"+ str(variabler[key])  + \" == \" + str(exponenciella_variabler[key]))\n",
    "        print(\"No!\")\n"
   ]
  },
  {
   "cell_type": "code",
   "execution_count": 11,
   "id": "ea2a05ac-2925-4280-9458-d6a55febe58c",
   "metadata": {},
   "outputs": [
    {
     "data": {
      "text/plain": [
       "' is och is not operatörer används för att kontrollera om två objekt delar samma minnesplats medan och == och != operatörer används för att jämföra sina värden. '"
      ]
     },
     "execution_count": 11,
     "metadata": {},
     "output_type": "execute_result"
    }
   ],
   "source": [
    "\"\"\" is och is not operatörer används för att kontrollera om två objekt delar samma minnesplats medan och == och != operatörer används för att jämföra sina värden. \"\"\""
   ]
  },
  {
   "cell_type": "code",
   "execution_count": null,
   "id": "e9d93055-0305-4d0c-9501-53c33d76642c",
   "metadata": {},
   "outputs": [],
   "source": []
  },
  {
   "cell_type": "code",
   "execution_count": 29,
   "id": "8614bb2d-6a37-4fd8-8552-228425cd1446",
   "metadata": {},
   "outputs": [
    {
     "name": "stdout",
     "output_type": "stream",
     "text": [
      "13\n",
      "18\n",
      "1\n",
      "23\n",
      "1\n"
     ]
    },
    {
     "data": {
      "text/plain": [
       "'10 % 3 resten blir 1'"
      ]
     },
     "execution_count": 29,
     "metadata": {},
     "output_type": "execute_result"
    }
   ],
   "source": [
    "\"\"\"d) Nedanstående kod skriver ut en text i terminalfönstret. Försök först själv att fundera ut vad utskriften borde bli.\"\"\"\n",
    "\n",
    "\"\"\"Matematiska beräkningar\"\"\"\n",
    "print(10 + 3) \n",
    "\"addition = 13\"\n",
    "print(6 * 3)  \n",
    "\"multiplikation = 18\"\n",
    "print(7 % 2)         \n",
    "\"rest = 1\"\n",
    "print(3 + 4 * 5)      \n",
    "\"multiplikation prioteras först så blir det 20 + 3 = 21\"\n",
    "print((5 * 2) % 3)    \n",
    "\"10 % 3 resten blir 1\""
   ]
  },
  {
   "cell_type": "code",
   "execution_count": 34,
   "id": "bf1c1bcc-7877-486a-9273-b954e62fdd92",
   "metadata": {},
   "outputs": [
    {
     "name": "stdout",
     "output_type": "stream",
     "text": [
      "5 + 6\n",
      "812\n",
      "6 - 8\n"
     ]
    },
    {
     "ename": "TypeError",
     "evalue": "unsupported operand type(s) for -: 'str' and 'str'",
     "output_type": "error",
     "traceback": [
      "\u001b[1;31m---------------------------------------------------------------------------\u001b[0m",
      "\u001b[1;31mTypeError\u001b[0m                                 Traceback (most recent call last)",
      "Input \u001b[1;32mIn [34]\u001b[0m, in \u001b[0;36m<cell line: 8>\u001b[1;34m()\u001b[0m\n\u001b[0;32m      6\u001b[0m \u001b[38;5;28mprint\u001b[39m(\u001b[38;5;124m\"\u001b[39m\u001b[38;5;124m6 - 8\u001b[39m\u001b[38;5;124m\"\u001b[39m)\n\u001b[0;32m      7\u001b[0m \u001b[38;5;124m\"\u001b[39m\u001b[38;5;124mBlir 6 - 8 eftersom det är en sträng och det spelar ingen roll vad den innehåller\u001b[39m\u001b[38;5;124m\"\u001b[39m\n\u001b[1;32m----> 8\u001b[0m \u001b[38;5;28mprint\u001b[39m(\u001b[38;5;124;43m\"\u001b[39;49m\u001b[38;5;124;43m3\u001b[39;49m\u001b[38;5;124;43m\"\u001b[39;49m\u001b[43m \u001b[49m\u001b[38;5;241;43m-\u001b[39;49m\u001b[43m \u001b[49m\u001b[38;5;124;43m\"\u001b[39;49m\u001b[38;5;124;43m10\u001b[39;49m\u001b[38;5;124;43m\"\u001b[39;49m)\n\u001b[0;32m      9\u001b[0m \u001b[38;5;124m\"\u001b[39m\u001b[38;5;124mDet går inte att använda - opperator för att subtrahera strängar\u001b[39m\u001b[38;5;124m\"\u001b[39m\n",
      "\u001b[1;31mTypeError\u001b[0m: unsupported operand type(s) for -: 'str' and 'str'"
     ]
    }
   ],
   "source": [
    "\"Text\"\n",
    "print(\"5 + 6\")\n",
    "\"Blir 5 + 6 eftersom det är en sträng och et spelar ingen roll vad den innehåller\"\n",
    "print(\"8\" + \"12\")\n",
    "\"Blir 812 eftersom vi slår ihop två strängar\"\n",
    "print(\"6 - 8\")\n",
    "\"Blir 6 - 8 eftersom det är en sträng och det spelar ingen roll vad den innehåller\"\n",
    "print(\"3\" - \"10\")\n",
    "\"Det går inte att använda - opperator för att subtrahera strängar\""
   ]
  },
  {
   "cell_type": "code",
   "execution_count": 33,
   "id": "0a184b7c-8cb3-4111-ab2b-285dc97e3537",
   "metadata": {},
   "outputs": [
    {
     "name": "stdout",
     "output_type": "stream",
     "text": [
      "True\n",
      "False\n",
      "False\n",
      "True\n"
     ]
    },
    {
     "data": {
      "text/plain": [
       "\"Det är tre delpåstående första delpåståndet är falskt 'b==a', det tredje är rätt 'b==3', det andra vi jämför resultaten från första och tredje med logiska operatorn OR som betyder om en delpåstånde är sant så blir hela påståndet sant\""
      ]
     },
     "execution_count": 33,
     "metadata": {},
     "output_type": "execute_result"
    }
   ],
   "source": [
    "\"Jämförelse\"\n",
    "a = 5\n",
    "\"Till dela a värdet 5\"\n",
    "b = 3\n",
    "\"Till dela b värdet 3\"\n",
    "print(a > b)\n",
    "\"Logiska operatorn sörre än ger sant eller falskt reultat beroende på påståndet, resultatet blir sant eftersom a är sörre än b\"\n",
    "print(a * b < a)\n",
    "\"Falskt påstånde, 15 sörre än 5\"\n",
    "print(a == b)\n",
    "\"Falskt på stånde, a större än b  \"\n",
    "print(b == a or b == 3)\n",
    "\"Det är tre delpåstående första delpåståndet är falskt 'b==a', det tredje är rätt 'b==3', det andra vi jämför resultaten från första och tredje med logiska operatorn OR som betyder om en delpåstånde är sant så blir hela påståndet sant\""
   ]
  },
  {
   "cell_type": "code",
   "execution_count": 47,
   "id": "2e68a8b9-73c7-4c79-937d-16a2a7d8fb9e",
   "metadata": {},
   "outputs": [
    {
     "name": "stdout",
     "output_type": "stream",
     "text": [
      "Du får 20% rabbat, kostnaden på köpet är 952kr.\n",
      "Du får 10% rabbat, kostnaden på köpet är 545kr.\n",
      "Du får 0% rabbat, kostnaden på köpet är 10kr.\n"
     ]
    }
   ],
   "source": [
    "\"\"\"Ifs\n",
    "Anta att vi har en variabel som står för vad någonting kostar: cost = 100\n",
    "\n",
    "Skriv ett program som:\n",
    "\n",
    "Skriver ut kostnaden på en vara.\n",
    "Om kostnaden är över 500 ska 10% av priset dras av.\n",
    "Om kostnaden är över 1000 ska 20% av priset dras av.\n",
    "Exempelvis, utskriften ska vara enligt formatet:\n",
    "\n",
    "Kostnaden på köpet är 250.0 kr.\n",
    "\n",
    "Kostnaden på köpet är 1430.0 kr.\n",
    "\n",
    "Testa att byta värde på variabeln cost för att se om du har gjort rätt. \"\"\"\n",
    "\n",
    "\n",
    "def disacount (cost):\n",
    "    if cost > 500 and cost <= 1000:\n",
    "        print(\"Du får 10% rabbat, kostnaden på köpet är \"+ str(round(cost/1.10)) + \"kr.\")\n",
    "    elif cost > 1000:\n",
    "        print(\"Du får 20% rabbat, kostnaden på köpet är \"+ str(round(cost/2.10)) + \"kr.\")\n",
    "    else:\n",
    "        print(\"Du får 0% rabbat, kostnaden på köpet är \"+ str(cost) + \"kr.\")\n",
    "    \n",
    "\n",
    "disacount(2000)\n",
    "disacount(600)\n",
    "disacount(10)"
   ]
  },
  {
   "cell_type": "code",
   "execution_count": null,
   "id": "33748ea1-0a3e-4613-955f-36d1db136a82",
   "metadata": {},
   "outputs": [],
   "source": []
  },
  {
   "cell_type": "code",
   "execution_count": 78,
   "id": "6c37da59-ab8f-48af-9c07-688c76878e32",
   "metadata": {},
   "outputs": [],
   "source": [
    "\"\"\"Nästlad if\n",
    "I denna uppgift ska vi testa att skapa en nästlad if-sats. Skapa ett program enligt dessa instruktioner:\n",
    "\n",
    "En biosalong har ett system där barn är tillåtna att kolla på filmen om:\n",
    "\n",
    "Personen är över 15 år\n",
    "Eller om personer är över 11 år och är med målsman sällskap.\n",
    "Lös uppgiften genom att skapa två nya variabler:\n",
    "\n",
    "age: av typen int som håller åldern på en person\n",
    "withParent: av typen boolean som avgör om personen är med eller utan målsman\n",
    "Avgör sedan med hjälp av en nästlad if-sats om personen tillåts att kolla på filmen eller ej.\"\"\"\n",
    "\n",
    "\n",
    "def bioregler(age, withParent):\n",
    "    if age > 15:\n",
    "        print(\"Du är tillåten att kolla på film! Välkommen in!\")\n",
    "    elif age > 11 and withParent == True:\n",
    "        print(\"Du och din förälder är tillåtna att kolla på film! Välkommna in!\")\n",
    "    else:\n",
    "        print(\"Tyvärr du är inte tillåtna att komma in!\")"
   ]
  },
  {
   "cell_type": "code",
   "execution_count": 80,
   "id": "ff98ba93-f355-4b83-b33d-469e55e4553f",
   "metadata": {},
   "outputs": [
    {
     "name": "stdout",
     "output_type": "stream",
     "text": [
      "Tyvärr du är inte tillåtna att komma in!\n"
     ]
    }
   ],
   "source": [
    "withParent = False\n",
    "age = 15\n",
    "\n",
    "bioregler(age, withParent)"
   ]
  },
  {
   "cell_type": "code",
   "execution_count": null,
   "id": "4ef6573b-bc17-4990-a634-e90cc15fc6af",
   "metadata": {},
   "outputs": [],
   "source": []
  },
  {
   "cell_type": "code",
   "execution_count": 109,
   "id": "8686264f-ddb0-49ec-9b8e-4360ba98164a",
   "metadata": {},
   "outputs": [],
   "source": [
    "\"\"\" Casting\n",
    "Skriv ett program som har en ålder (siffra) som en variabel. Räkna ut hur många årtionden och år det blir. Skriv ut ett meddelande (se nedan) där du använder dig av resultaten av beräkningarna (dvs. siffrorna i exemplet).\n",
    "\n",
    "“Du är 2 årtionden och 9 år gammal.”\n",
    "\n",
    "Använd dig av variabelnamn och sätt ihop dem med text med hjälp av + (plustecknet).\n",
    "\n",
    "Casting 2\n",
    "Använd casting för att omvandla följande variabler till sin \"korrekta\" typ:\n",
    "\n",
    "a = \"4.5\"\n",
    "b = 'three'\n",
    "c = 55\n",
    "d = 1679.0\n",
    "Lägg ihop talen. Vad får du? Fann du ett problem?\"\"\"\n",
    "\n",
    "def agecounter(age):\n",
    "    print(\"Du är \" + str(int(age / 10)) + \" årtionde och \" + str(age % 10) + \" år gammal.\")\n",
    " \n",
    "    "
   ]
  },
  {
   "cell_type": "code",
   "execution_count": 127,
   "id": "23c081d9-30fc-4d7e-9533-a7cba93add0e",
   "metadata": {},
   "outputs": [
    {
     "name": "stdout",
     "output_type": "stream",
     "text": [
      "Du är 1 årtionde och 0 år gammal.\n"
     ]
    }
   ],
   "source": [
    "agecounter(10)"
   ]
  },
  {
   "cell_type": "code",
   "execution_count": 158,
   "id": "4916d766-3a80-41d9-8bc9-7fc75802923e",
   "metadata": {},
   "outputs": [
    {
     "name": "stdout",
     "output_type": "stream",
     "text": [
      "4.5\n",
      "three\n",
      "55\n",
      "1679.0\n"
     ]
    },
    {
     "ename": "TypeError",
     "evalue": "unsupported operand type(s) for +: 'float' and 'str'",
     "output_type": "error",
     "traceback": [
      "\u001b[1;31m---------------------------------------------------------------------------\u001b[0m",
      "\u001b[1;31mTypeError\u001b[0m                                 Traceback (most recent call last)",
      "Input \u001b[1;32mIn [158]\u001b[0m, in \u001b[0;36m<cell line: 20>\u001b[1;34m()\u001b[0m\n\u001b[0;32m     17\u001b[0m \u001b[38;5;28mprint\u001b[39m(c)\n\u001b[0;32m     18\u001b[0m \u001b[38;5;28mprint\u001b[39m(d)\n\u001b[1;32m---> 20\u001b[0m tot1 \u001b[38;5;241m=\u001b[39m \u001b[43ma\u001b[49m\u001b[43m \u001b[49m\u001b[38;5;241;43m+\u001b[39;49m\u001b[43m \u001b[49m\u001b[43mb\u001b[49m \u001b[38;5;241m+\u001b[39m c \u001b[38;5;241m+\u001b[39m d\n\u001b[0;32m     23\u001b[0m \u001b[38;5;124;03m\"\"\"print(\"tot1: \"+str(tot1))\"\"\"\u001b[39;00m\n\u001b[0;32m     25\u001b[0m \u001b[38;5;28mtype\u001b[39m(tot1)\n",
      "\u001b[1;31mTypeError\u001b[0m: unsupported operand type(s) for +: 'float' and 'str'"
     ]
    }
   ],
   "source": [
    "\"\"\"Casting 2\n",
    "Använd casting för att omvandla följande variabler till sin \"korrekta\" typ:\n",
    "\n",
    "a = \"4.5\"\n",
    "b = 'three'\n",
    "c = 55\n",
    "d = 1679.0\n",
    "Lägg ihop talen. Vad får du? Fann du ett problem?\n",
    " \"\"\"\n",
    "a = float(\"4.5\")\n",
    "b = str('three')\n",
    "c = int(55)\n",
    "d = float(1679.0)\n",
    "\n",
    "print(a)\n",
    "print(b)\n",
    "print(c)\n",
    "print(d)\n",
    "\n",
    "tot1 = a + b + c + d \"det går ej att addera med andra tal för att den är av typen sträng!\"\n",
    "\n",
    "\n",
    "\"\"\"print(\"tot1: \"+str(tot1))\"\"\"\n",
    "\n",
    "type(tot1)\n"
   ]
  },
  {
   "cell_type": "code",
   "execution_count": null,
   "id": "058e91c9-29db-4d7b-8835-c5005ae095b2",
   "metadata": {},
   "outputs": [],
   "source": []
  },
  {
   "cell_type": "code",
   "execution_count": null,
   "id": "e63ae75d-0552-424b-842d-66936b8da282",
   "metadata": {},
   "outputs": [],
   "source": []
  },
  {
   "cell_type": "code",
   "execution_count": null,
   "id": "6e1ae234-e84d-4770-8d1d-b8f03cdb2b53",
   "metadata": {},
   "outputs": [],
   "source": []
  },
  {
   "cell_type": "code",
   "execution_count": null,
   "id": "e33f5ce6-e107-4442-a703-c9f14a09c193",
   "metadata": {},
   "outputs": [],
   "source": []
  },
  {
   "cell_type": "code",
   "execution_count": null,
   "id": "8d7e3de6-179c-45f5-942a-b491ba88ef44",
   "metadata": {},
   "outputs": [],
   "source": []
  }
 ],
 "metadata": {
  "kernelspec": {
   "display_name": "Python 3 (ipykernel)",
   "language": "python",
   "name": "python3"
  },
  "language_info": {
   "codemirror_mode": {
    "name": "ipython",
    "version": 3
   },
   "file_extension": ".py",
   "mimetype": "text/x-python",
   "name": "python",
   "nbconvert_exporter": "python",
   "pygments_lexer": "ipython3",
   "version": "3.9.12"
  },
  "toc-autonumbering": false,
  "toc-showcode": false,
  "toc-showmarkdowntxt": true,
  "toc-showtags": false
 },
 "nbformat": 4,
 "nbformat_minor": 5
}
