{
 "cells": [
  {
   "cell_type": "code",
   "execution_count": null,
   "id": "d64c40ef-ab5d-4b29-a6fb-5cf5022ffd61",
   "metadata": {},
   "outputs": [],
   "source": [
    "\"Iterationer\"\n"
   ]
  },
  {
   "cell_type": "code",
   "execution_count": null,
   "id": "0e714dfe-b27a-4804-a84d-a53947447a20",
   "metadata": {},
   "outputs": [],
   "source": [
    "\"\"\"a)\n",
    "Skriv ut alla udda nummer mellan 0 och 26. Använd en for-loop och modulus oparatorn.\"\"\"\n",
    "\n",
    "for i in range(26):\n",
    "    if i % 2 != 0:\n",
    "        print(i)"
   ]
  },
  {
   "cell_type": "code",
   "execution_count": null,
   "id": "87926f13-aefa-4a66-b19a-b9ecff8eb043",
   "metadata": {},
   "outputs": [],
   "source": [
    "\"\"\"b)\n",
    "Skriv ett program som kollar om givet tal är ett primtal eller ej och ger feedback på detta. T.ex. \"9 är inte ett primtal.\n",
    "\" Tips: Primtal är tal som är delbara endast med 1 och sig själva. Använd dig av if...else och for-loop.\"\"\"\n",
    "n = int(input(\"Skriv ett tal!: \"))\n",
    "def primtal(tal):\n",
    "    for i in range(2, tal-1):\n",
    "        if (tal%i == 0):\n",
    "            print(str(tal) + \" är inte ett primtal!\")\n",
    "            break\n",
    "    else:\n",
    "        print (tal, \"är ett primtal!\")\n",
    "\n",
    "primtal(n)"
   ]
  },
  {
   "cell_type": "code",
   "execution_count": null,
   "id": "2220b6c4-640c-4951-9d37-078996b89ba2",
   "metadata": {},
   "outputs": [],
   "source": [
    "\"\"\"c)¶\n",
    "Modifiera ovanstående program för att även ge information på varför det inte är ett primtal.\n",
    "\n",
    "T.ex \"9 är inte ett primtal\"\n",
    "\n",
    "\"Produkten av 3 x 3 blir 9\"\n",
    "\n",
    "Tips\n",
    "Primtal är tal som är delbara endast med 1 och sig själva.\n",
    "Använd dig av en flagga, if...else och/eller for-loop.\n",
    "for-loopen kan även vara en for...else\"\"\""
   ]
  },
  {
   "cell_type": "code",
   "execution_count": null,
   "id": "0d62c811-e597-4480-ad5b-f5980f9d0006",
   "metadata": {},
   "outputs": [],
   "source": [
    "n = int(input(\"Skriv ett tal!: \"))\n",
    "def primtal(tal):\n",
    "    for i in range(2, tal-1):\n",
    "        if (tal%i == 0):\n",
    "            print(str(tal) + \" är inte ett primtal! Eftersom \" + str(tal) + \" är delbar med \" + str(i))\n",
    "            break\n",
    "    else:\n",
    "        print (tal, \"är ett primtal!\")\n",
    "\n",
    "primtal(n)"
   ]
  },
  {
   "cell_type": "code",
   "execution_count": null,
   "id": "cbe32147-1d08-41db-b2d0-eb4ca5299a6b",
   "metadata": {},
   "outputs": [],
   "source": [
    "\"\"\"\n",
    "d)\n",
    "Skriv en funktion som tar in ett tal som argument och skriver ut Fibonacci sekvensen i den längd som argumentet anger. T.ex. tal = 4 skulle ge [0, 1, 1, 2]\n",
    "\n",
    "Om fibonacci sekvensen: De första termerna är 0 och 1, följande får man genom att lägga ihop de två föregående siffrorna. Dvs. termen n är summan av termerna (n-1) och (n-2).\n",
    "\"\"\""
   ]
  },
  {
   "cell_type": "code",
   "execution_count": null,
   "id": "6a924d35-6388-4fe8-b645-acbec4008fd9",
   "metadata": {},
   "outputs": [],
   "source": [
    "\n",
    "n = int(input(\"Skriv ett tal!: \"))\n",
    "def fibonacci(l):\n",
    "    tal1 = 0\n",
    "    tal2 = 1\n",
    "    tot = 0\n",
    "    fibonaccilist =[]\n",
    "    for i in range(l-1):\n",
    "        if i == 0:\n",
    "            fibonaccilist.append(tal1)\n",
    "            fibonaccilist.append(tal2)\n",
    "        else:\n",
    "            tot =  tal1+tal2\n",
    "            fibonaccilist.append(tot)\n",
    "            tal1 = tal2\n",
    "            tal2 = tot\n",
    "            \n",
    "    return fibonaccilist       \n",
    "            \n",
    "fibonacci(n)"
   ]
  },
  {
   "cell_type": "code",
   "execution_count": null,
   "id": "56b697e2-9a6d-4b01-83dc-2ae4e2f59a91",
   "metadata": {},
   "outputs": [],
   "source": [
    "\"\"\"e)\n",
    "Skapa en lista med frukter, minst 10 st. Skriv ut all frukter, använd dig av print() och for loop. Se till att det blir snyggt\n",
    "\n",
    "Lägg till en eller flera frukter. Skriv ut alla frukter med print och for loop så att det skrivs ut som exemplet nedan (med siffrorna).\n",
    "\n",
    "Äpple\n",
    "Annanas\n",
    "Persika\n",
    "\"\"\""
   ]
  },
  {
   "cell_type": "code",
   "execution_count": null,
   "id": "d01dabd7-33da-474f-b54e-2ea462f03617",
   "metadata": {},
   "outputs": [],
   "source": [
    "def frukt_list():\n",
    "    frukter = []\n",
    "    for i in range(10):\n",
    "        n = str(input(\"skriv in en frukt i taget!\"))\n",
    "        frukter.append(n)\n",
    "    for frukt in frukter:\n",
    "        print(frukt)\n",
    "        \n",
    "frukt_list()"
   ]
  },
  {
   "cell_type": "code",
   "execution_count": null,
   "id": "7415279b-e844-486c-ac2f-1be2e8e18c0b",
   "metadata": {},
   "outputs": [],
   "source": [
    "\"\"\"While\n",
    "Skriv om uppgifterna a-e med en while loop istället. Går det, tycker du?\n",
    "\n",
    "Funktioner\n",
    "a) Miniräknare\n",
    "Skriv ett miniprogram som tar emot en siffra, en matematisk operation och en siffra till. Dubbelkolla att operatorn är giltig, \n",
    "skriv ett meddelande om den inte är det. Skriv ut meddelanden och resultatet på ett fint sätt. T.ex.\n",
    "\n",
    "Enter a first number:\n",
    "Enter a operation:\n",
    "Enter a second number:\n",
    "num1 operation num2 = answer\n",
    "Tips:\n",
    "\n",
    "Skriv enskilda funktioner för varje operation\n",
    "\"\"\""
   ]
  },
  {
   "cell_type": "code",
   "execution_count": null,
   "id": "d98a8bb4-668f-4ea1-9e85-2d0b3cf45bfc",
   "metadata": {},
   "outputs": [],
   "source": [
    "def addition(tal1, tal2):\n",
    "    print(str(tal1)+ \" + \" + str(tal2) + \" = \"+ str(tal1+tal2))\n",
    "def subtraktion(tal1, tal2):\n",
    "    print(str(tal1)+ \" - \" + str(tal2) + \" = \"+ str(tal1-tal2))\n",
    "def multiplikation(tal1, tal2):\n",
    "    print(str(tal1)+ \" * \" + str(tal2) + \" = \"+ str(tal1*tal2))\n",
    "def divition(tal1,tal2):\n",
    "    if tal1 != 0:\n",
    "        print(str(tal1)+ \" / \" + str(tal2) + \" = \"+ str(tal1/tal2))\n",
    "    else:\n",
    "        print(\"Du försöker dividera med noll!\")\n",
    "def modolus(tal1,tal2):\n",
    "    print(str(tal1)+ \" % \" + str(tal2) + \" = \"+ str(tal1%tal2))\n",
    "\n",
    "operatorlist = {\"+\", \"-\", \"*\", \"/\", \"%\"}\n",
    "\n",
    "def check_if_ok_op(operator):\n",
    "    if operator in operatorlist:\n",
    "        return True\n",
    "    else:\n",
    "        return False\n",
    "    \n",
    "def calculator(num1,operator, num2):\n",
    "    num1 = int(input(\"Enter a first number:\"))\n",
    "    operator = str(input(\"Enter a operation:\"))\n",
    "    num2 = int(input(\"Enter a second number:\"))\n",
    "    \n",
    "    if check_if_ok_op(operator) == True:\n",
    "        if operator == \"+\":\n",
    "             addition(num1,num2)\n",
    "        elif operator == \"-\":\n",
    "             subtraktion(num1,num2)\n",
    "        elif operator == \"*\":\n",
    "             multiplikation(num1,num2)\n",
    "        elif operator == \"/\":\n",
    "             divition(num1,num2)\n",
    "        elif operator == \"%\":\n",
    "             modolus(num1,num2)\n",
    "    else:\n",
    "        print(\"Operatorn \" + operator + \" är inte giltig\")\n",
    "calculator(num1,operator, num2)"
   ]
  },
  {
   "cell_type": "code",
   "execution_count": null,
   "id": "f2c90bd3-bb0c-44a0-a6cb-797d4eb53eca",
   "metadata": {},
   "outputs": [],
   "source": [
    "#b)\n",
    "#Modifiera Miniräknaren så att efter att resultatet visas frågar du om användaren vill räkna ut något annat och tillåter ett \"yes\", \"no\" svar som antingen fortsätter eller avslutar."
   ]
  },
  {
   "cell_type": "code",
   "execution_count": 1,
   "id": "14e27431-3efd-47ca-b855-d523ac751472",
   "metadata": {},
   "outputs": [
    {
     "name": "stdin",
     "output_type": "stream",
     "text": [
      "Skriv in första talet: 7\n",
      "Skriv in operationstecken: -\n",
      "Skriv in andra talet: 7\n"
     ]
    },
    {
     "name": "stdout",
     "output_type": "stream",
     "text": [
      "7 - 7 = 0\n"
     ]
    },
    {
     "name": "stdin",
     "output_type": "stream",
     "text": [
      "vill räkna ut något annat? Svara Ja eller Nej nej\n"
     ]
    },
    {
     "name": "stdout",
     "output_type": "stream",
     "text": [
      "Välkommen åter!\n"
     ]
    }
   ],
   "source": [
    "def addition(tal1, tal2):\n",
    "    print(str(tal1)+ \" + \" + str(tal2) + \" = \"+ str(tal1+tal2))\n",
    "def subtraktion(tal1, tal2):\n",
    "    print(str(tal1)+ \" - \" + str(tal2) + \" = \"+ str(tal1-tal2))\n",
    "def multiplikation(tal1, tal2):\n",
    "    print(str(tal1)+ \" * \" + str(tal2) + \" = \"+ str(tal1*tal2))\n",
    "def divition(tal1,tal2):\n",
    "    if tal1 != 0:\n",
    "        print(str(tal1)+ \" / \" + str(tal2) + \" = \"+ str(tal1/tal2))\n",
    "    else:\n",
    "        print(\"Du försöker dividera med noll!\")\n",
    "def modolus(tal1,tal2):\n",
    "    print(str(tal1)+ \" % \" + str(tal2) + \" = \"+ str(tal1%tal2))\n",
    "\n",
    "operatorlist = {\"+\", \"-\", \"*\", \"/\", \"%\"}\n",
    "\n",
    "def check_if_ok_op(operator):\n",
    "    if operator in operatorlist:\n",
    "        return True\n",
    "    else:\n",
    "        return False\n",
    "\n",
    "num1 = int(input(\"Skriv in första talet:\"))\n",
    "operator = str(input(\"Skriv in operationstecken:\"))\n",
    "num2 = int(input(\"Skriv in andra talet:\"))\n",
    "\n",
    "def calculator(num1,operator, num2): \n",
    "    more = \"Ja\"\n",
    "    while more == \"Ja\" or more == \"ja\":\n",
    "        if check_if_ok_op(operator) == True:\n",
    "            if operator == \"+\":\n",
    "                addition(num1,num2)    \n",
    "            elif operator == \"-\":\n",
    "                subtraktion(num1,num2)  \n",
    "            elif operator == \"*\":\n",
    "                multiplikation(num1,num2)      \n",
    "            elif operator == \"/\":\n",
    "                divition(num1,num2)\n",
    "            elif operator == \"%\":\n",
    "                modolus(num1,num2)\n",
    "        else:\n",
    "            print(\"Operatorn \" + operator + \" är inte giltig\") \n",
    "        more = str(input(\"vill räkna ut något annat? Svara Ja eller Nej\"))\n",
    "        if more == \"Ja\" or more == \"ja\":\n",
    "            num1 = int(input(\"Skriv in första talet:\"))\n",
    "            operator = str(input(\"Skriv in operationstecken:\"))\n",
    "            num2 = int(input(\"Skriv in andra talet:\"))\n",
    "    else:\n",
    "        print(\"Välkommen åter!\")\n",
    "        \n",
    "calculator(num1,operator, num2)"
   ]
  },
  {
   "cell_type": "code",
   "execution_count": 4,
   "id": "efad5ff0-a5ea-40b0-bc24-7b03ebc448aa",
   "metadata": {},
   "outputs": [
    {
     "name": "stdout",
     "output_type": "stream",
     "text": [
      "{1: {1: 'Äpple', 2: 'Citron', 3: 'Kiwi'}, 2: {1: 'Kristianstad', 2: 'Hässleholm', 3: 'Lund'}}\n",
      "{1: {1: 'Äpple', 2: 'Citron', 3: 'Kiwi'}, 2: {3: 'Kristianstad', 2: 'Hässleholm', 1: 'Lund'}}\n",
      "1 {1: 'Äpple', 2: 'Citron', 3: 'Kiwi'}\n",
      "1 Äpple\n",
      "2 Citron\n",
      "3 Kiwi\n",
      "2 {3: 'Kristianstad', 2: 'Hässleholm', 1: 'Lund'}\n",
      "3 Kristianstad\n",
      "2 Hässleholm\n",
      "1 Lund\n"
     ]
    },
    {
     "data": {
      "text/plain": [
       "{1: {1: 'Äpple', 2: 'Citron', 3: 'Kiwi'},\n",
       " 2: {3: 'Kristianstad', 2: 'Hässleholm', 1: 'Lund'},\n",
       " 3: 'totati'}"
      ]
     },
     "execution_count": 4,
     "metadata": {},
     "output_type": "execute_result"
    }
   ],
   "source": [
    "### Collections¶\n",
    "#Dictionaries\n",
    "#Skapa två dictionaries, en med frukter (str) och en med platser (str), bägge med siffror som nycklar (keys) som börjar med 1.\n",
    "\n",
    "frukter = {1:\"Äpple\", 2:\"Citron\", 3:\"Kiwi\"}\n",
    "platser = {1:\"Kristianstad\", 2:\"Hässleholm\", 3:\"Lund\"}\n",
    "\n",
    "#a)\n",
    "#Skapa en ny dictionary och lägg innehållet av dicts ovan däri. Skriv ut resultatet. Vad hände med nycklarna?\n",
    "tot = {1:frukter, 2:platser}\n",
    "\n",
    "print(tot)\n",
    "\n",
    "#b)\n",
    "#Ändra nycklarna i dict med platser och upprepa a).\n",
    "platser = {3:\"Kristianstad\", 2:\"Hässleholm\", 1:\"Lund\"}\n",
    "tot = {1:frukter, 2:platser}\n",
    "print(tot)\n",
    "#c)\n",
    "#Kan du upprepa a men lägga samman dem på något annat sätt? Titta på de inbyggda metoderna i dictionary.\n",
    "\n",
    "#d)\n",
    "#Skriv ut elementen (values) och nyklar (keys) för sig.\n",
    "for key, value in tot.items():\n",
    "    print(key, value)\n",
    "    for k, v in value.items():\n",
    "        print(k, v)\n",
    "#T.ex. Element: Päron Plommon Physilys Philladelphia Paris Puerto Rico\n",
    "\n",
    "#Nycklar: 1 2 3 4 5 5\n",
    "\n",
    "#e)\n",
    "#Ändra ett element i en av de dict. du skapade tidigare.\n",
    "#Lägg till ett nytt key-value par.\n",
    "tot[3]= \"totati\"\n",
    "\n",
    "tot"
   ]
  },
  {
   "cell_type": "code",
   "execution_count": null,
   "id": "f3885510-fa80-4c4a-9428-ae35e371e7c2",
   "metadata": {},
   "outputs": [
    {
     "data": {
      "text/plain": [
       "\"a)\\nSkapa en lista med minst 10 element. T.ex: 10 länder eller siffor. Skriv ut resultatet.\\n\\nb)\\nAnvänd notationen med : (kolon) för att få fram de tre första elementen.\\nAnvänd samma notation som i b för att få fram det näst sista elementet.\\nc)\\nLägg till ett nytt element till listan. Skriv ut resultatet.\\nSkapa en ny lista med 3 nya element och lägg till den till den första listan. Skriv ut.\\nd)\\nDela listan på mitten och lägg elementen i två nya listor. Använd dig av len() och en (eller flera) loopar.\\n\\ne)\\nSkapa en funktion som tar emot en lista av heltal som ett argument och sedan skriver ut innehållet med ett index:\\n\\n343\\n8954\\n532\\n78953\\nf)\\nUpprepa e men ta emot en lista med en blanding av datatyper.\\nUpprepa e men ta emot ett heltal x och skapa sedan en lista med värden från 0 till x genom att använda dig av funktionen range().\\nUpprepa e men använd dig av enumerate. Observera att enumerate returnerar en tuple med position i listan och värdet.\\ng)\\nsaker = ['kudde', 'lampa', 'cykel', 'banan', 'vatten']\\n\\nLägg till elementet 'karusell' mellan cykel och banan.\""
      ]
     },
     "execution_count": 5,
     "metadata": {},
     "output_type": "execute_result"
    }
   ],
   "source": [
    "\"\"\"Lists\n",
    "a)\n",
    "Skapa en lista med minst 10 element. T.ex: 10 länder eller siffor. Skriv ut resultatet.\n",
    "\n",
    "b)\n",
    "Använd notationen med : (kolon) för att få fram de tre första elementen.\n",
    "Använd samma notation som i b för att få fram det näst sista elementet.\n",
    "c)\n",
    "Lägg till ett nytt element till listan. Skriv ut resultatet.\n",
    "Skapa en ny lista med 3 nya element och lägg till den till den första listan. Skriv ut.\n",
    "d)\n",
    "Dela listan på mitten och lägg elementen i två nya listor. Använd dig av len() och en (eller flera) loopar.\n",
    "\n",
    "e)\n",
    "Skapa en funktion som tar emot en lista av heltal som ett argument och sedan skriver ut innehållet med ett index:\n",
    "\n",
    "343\n",
    "8954\n",
    "532\n",
    "78953\n",
    "f)\n",
    "Upprepa e men ta emot en lista med en blanding av datatyper.\n",
    "Upprepa e men ta emot ett heltal x och skapa sedan en lista med värden från 0 till x genom att använda dig av funktionen range().\n",
    "Upprepa e men använd dig av enumerate. Observera att enumerate returnerar en tuple med position i listan och värdet.\n",
    "g)\n",
    "saker = ['kudde', 'lampa', 'cykel', 'banan', 'vatten']\n",
    "\n",
    "Lägg till elementet 'karusell' mellan cykel och banan.\"\"\""
   ]
  },
  {
   "cell_type": "code",
   "execution_count": 43,
   "id": "9c583da1-35e4-42c3-8737-2c5d9de9fcd5",
   "metadata": {},
   "outputs": [],
   "source": [
    "###a)Skapa en lista med minst 10 element. T.ex: 10 länder eller siffor. Skriv ut resultatet.\n",
    "\n",
    "\n",
    "lista = [1, 2, 3, 4, 5, 6, 7, 8, 9, 10]"
   ]
  },
  {
   "cell_type": "code",
   "execution_count": 2,
   "id": "2a25bc2e-307b-47c6-8c03-52256d0cd8b0",
   "metadata": {},
   "outputs": [
    {
     "data": {
      "text/plain": [
       "list"
      ]
     },
     "execution_count": 2,
     "metadata": {},
     "output_type": "execute_result"
    }
   ],
   "source": [
    "type(lista)"
   ]
  },
  {
   "cell_type": "code",
   "execution_count": 44,
   "id": "e3d70268-cdc2-49bb-aa7c-6e27412912ac",
   "metadata": {},
   "outputs": [
    {
     "data": {
      "text/plain": [
       "[9]"
      ]
     },
     "execution_count": 44,
     "metadata": {},
     "output_type": "execute_result"
    }
   ],
   "source": [
    "###b)Använd notationen med : (kolon) för att få fram de tre första elementen. Använd samma notation som i b för att få fram det näst sista elementet.\n",
    "\n",
    "lista[0:3]\n",
    "\n",
    "lista[8:9]"
   ]
  },
  {
   "cell_type": "code",
   "execution_count": 31,
   "id": "97ecb80d-affe-422d-9924-d7c12f89dfa4",
   "metadata": {},
   "outputs": [
    {
     "data": {
      "text/plain": [
       "[1, 2, 3, 4, 5, 6, 7, 8, 9, 10, 11, 12, 13, 14]"
      ]
     },
     "execution_count": 31,
     "metadata": {},
     "output_type": "execute_result"
    }
   ],
   "source": [
    "###c) Lägg till ett nytt element till listan. Skriv ut resultatet. Skapa en ny lista med 3 nya element och lägg till den till den första listan. Skriv ut.\n",
    "\n",
    "lista.append(11)\n",
    "lista\n",
    "\n",
    "lista2 = [12, 13 ,14]\n",
    "\n",
    "lista + lista2"
   ]
  },
  {
   "cell_type": "code",
   "execution_count": 45,
   "id": "c72c0f52-bbe1-4cec-ba7c-2ca60dae4d0d",
   "metadata": {},
   "outputs": [],
   "source": [
    "#d)Dela listan på mitten och lägg elementen i två nya listor. Använd dig av len() och en (eller flera) loopar.\n",
    "\n",
    "lista3 = lista[0:5]"
   ]
  },
  {
   "cell_type": "code",
   "execution_count": 46,
   "id": "1ec33cc3-418c-47d0-9fae-9a8d3bbb82d1",
   "metadata": {},
   "outputs": [
    {
     "data": {
      "text/plain": [
       "[1, 2, 3, 4, 5]"
      ]
     },
     "execution_count": 46,
     "metadata": {},
     "output_type": "execute_result"
    }
   ],
   "source": [
    "lista3"
   ]
  },
  {
   "cell_type": "code",
   "execution_count": 47,
   "id": "cc1570d2-3128-42fd-a808-64c6eb693c7f",
   "metadata": {},
   "outputs": [],
   "source": [
    "lista4 = lista[5:10]"
   ]
  },
  {
   "cell_type": "code",
   "execution_count": 48,
   "id": "ed6f924e-76da-40c9-8d4f-4a395d47bb80",
   "metadata": {},
   "outputs": [
    {
     "data": {
      "text/plain": [
       "[6, 7, 8, 9, 10]"
      ]
     },
     "execution_count": 48,
     "metadata": {},
     "output_type": "execute_result"
    }
   ],
   "source": [
    "lista4"
   ]
  },
  {
   "cell_type": "code",
   "execution_count": 8,
   "id": "061294ea-78bf-49b3-bd1b-2d0633bc1b9e",
   "metadata": {},
   "outputs": [],
   "source": [
    "lista3.append(44)\n",
    "lista3.append(55)\n",
    "lista = lista3+lista4"
   ]
  },
  {
   "cell_type": "code",
   "execution_count": 57,
   "id": "cd3be1c0-f53a-4598-a28a-23ab00328235",
   "metadata": {},
   "outputs": [
    {
     "data": {
      "text/plain": [
       "[1, 2, 3, 4, 5, 6, 7, 8, 9, 10]"
      ]
     },
     "execution_count": 57,
     "metadata": {},
     "output_type": "execute_result"
    }
   ],
   "source": [
    "lista"
   ]
  },
  {
   "cell_type": "code",
   "execution_count": 49,
   "id": "9223ecf5-bab6-4d6b-aa57-21c95fa61f38",
   "metadata": {},
   "outputs": [
    {
     "name": "stdout",
     "output_type": "stream",
     "text": [
      "0\n",
      "1\n",
      "2\n",
      "3\n",
      "4\n"
     ]
    }
   ],
   "source": [
    "for element in range(len(lista3)):\n",
    "    print(element)\n",
    "    if element == 4:\n",
    "        lista3.append(88)\n",
    "        lista3.append(99)"
   ]
  },
  {
   "cell_type": "code",
   "execution_count": 50,
   "id": "5589b30f-cc5c-41e9-ab2e-39ce349e46b8",
   "metadata": {},
   "outputs": [
    {
     "data": {
      "text/plain": [
       "[1, 2, 3, 4, 5, 88, 99]"
      ]
     },
     "execution_count": 50,
     "metadata": {},
     "output_type": "execute_result"
    }
   ],
   "source": [
    "lista3"
   ]
  },
  {
   "cell_type": "code",
   "execution_count": 53,
   "id": "894f37dd-8684-419c-b6c3-8d93fd9c9397",
   "metadata": {},
   "outputs": [
    {
     "name": "stdout",
     "output_type": "stream",
     "text": [
      "0\n",
      "1\n",
      "2\n",
      "3\n",
      "4\n"
     ]
    }
   ],
   "source": [
    "for element in range(len(lista4)):\n",
    "    print(element)\n",
    "    if element == 4:\n",
    "        lista4.append(888)\n",
    "        lista4.append(999)"
   ]
  },
  {
   "cell_type": "code",
   "execution_count": 54,
   "id": "c53518ca-fdb0-482f-8da7-be7286073b1e",
   "metadata": {},
   "outputs": [
    {
     "data": {
      "text/plain": [
       "[6, 7, 8, 9, 10, 888, 999]"
      ]
     },
     "execution_count": 54,
     "metadata": {},
     "output_type": "execute_result"
    }
   ],
   "source": [
    "lista4"
   ]
  },
  {
   "cell_type": "code",
   "execution_count": 9,
   "id": "8fdf3d84-3d0a-423c-9ebc-8d6a64e6040d",
   "metadata": {},
   "outputs": [
    {
     "name": "stdout",
     "output_type": "stream",
     "text": [
      "1\n",
      "2\n",
      "3\n",
      "4\n",
      "5\n",
      "6\n",
      "7\n",
      "8\n",
      "9\n",
      "10\n"
     ]
    }
   ],
   "source": [
    "\"\"\"e)\n",
    "Skapa en funktion som tar emot en lista av heltal som ett argument och sedan skriver ut innehållet med ett index:\n",
    "\n",
    "343\n",
    "8954\n",
    "532\n",
    "78953\"\"\"\n",
    "\n",
    "\n",
    "lista = [1, 2, 3, 4, 5, 6, 7, 8, 9, 10]\n",
    "def foo(arg):\n",
    "    for a in arg:\n",
    "        print(a)\n",
    "    \n",
    "foo(lista)"
   ]
  },
  {
   "cell_type": "code",
   "execution_count": 17,
   "id": "3ae0c6c7-226e-4392-8ef4-e4274f5ba291",
   "metadata": {},
   "outputs": [
    {
     "ename": "SyntaxError",
     "evalue": "invalid syntax (408354624.py, line 8)",
     "output_type": "error",
     "traceback": [
      "\u001b[1;36m  Input \u001b[1;32mIn [17]\u001b[1;36m\u001b[0m\n\u001b[1;33m    di.append([count:a])\u001b[0m\n\u001b[1;37m                    ^\u001b[0m\n\u001b[1;31mSyntaxError\u001b[0m\u001b[1;31m:\u001b[0m invalid syntax\n"
     ]
    }
   ],
   "source": [
    "\"\"\" f)\n",
    "Upprepa e men ta emot en lista med en blanding av datatyper.\n",
    "Upprepa e men ta emot ett heltal x och skapa sedan en lista med värden från 0 till x genom att använda dig av funktionen range().\n",
    "Upprepa e men använd dig av enumerate. Observera att enumerate returnerar en tuple med position i listan och värdet.\"\"\"\n",
    "lista = [1, 2, 3, 4, 5, 6, 7, 8, 9, 10]\n",
    "def foo(arg):\n",
    "    for count, a in enumerate(arg):\n",
    "        di.append([count:a])\n",
    "foo(lista)"
   ]
  },
  {
   "cell_type": "code",
   "execution_count": null,
   "id": "00e11c03-cd6e-42d3-a238-9c5dc328e3df",
   "metadata": {},
   "outputs": [],
   "source": []
  }
 ],
 "metadata": {
  "kernelspec": {
   "display_name": "Python 3 (ipykernel)",
   "language": "python",
   "name": "python3"
  },
  "language_info": {
   "codemirror_mode": {
    "name": "ipython",
    "version": 3
   },
   "file_extension": ".py",
   "mimetype": "text/x-python",
   "name": "python",
   "nbconvert_exporter": "python",
   "pygments_lexer": "ipython3",
   "version": "3.9.12"
  }
 },
 "nbformat": 4,
 "nbformat_minor": 5
}
