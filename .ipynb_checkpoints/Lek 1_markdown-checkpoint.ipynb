{
 "cells": [
  {
   "cell_type": "markdown",
   "id": "bb005bf8-96d3-4ede-b1f4-f9e63d75d61e",
   "metadata": {},
   "source": [
    "# Övningar\n",
    "I dagens övningar kommer vi använda:\n",
    "- Jupyter notebook\n",
    "- Inbyggda funktionen print()\n",
    "- Casting\n",
    "- Matematiska beräkningar\n"
   ]
  },
  {
   "cell_type": "markdown",
   "id": "823bc268-564b-4e9d-9cf6-e11a414954be",
   "metadata": {
    "tags": []
   },
   "source": [
    "## Jupyter notebook\n",
    "\n",
    "* Öppna jupyter notebook genom anaconda eller genom att skriva **jupyter notebook** i terminalfönstret\n",
    "* Navigera till \"Övningar\" mappen \n",
    "\n",
    "### Alternativ 1\n",
    "* Skapa en ny python3 fil och gör övningarna däri.\n",
    "* Klicka på **+** uppe i vänstra hörnet av jupyter menyn för att lägga till nya celler.\n",
    "\n",
    "Du kommer att skapa en fil med endast kod.\n",
    "\n",
    "### Alternativ 2\n",
    "* Ladda ned den här filen till din egen dator och spara den i \"Övningar\" mappen\n",
    "* Öppna denna fil i jupyter \n",
    "* Klicka på en övning och sedan på **+** uppe i vänstra hörnet av jupyter menyn \n",
    "* Nu kommer en ny **kod cell** att skapas nedanför texten\n",
    "\n",
    "Du kommer att ha en fil med en blandning av pythonkod och markdown text.\n",
    "\n",
    "**Se till att spara filen!**"
   ]
  },
  {
   "cell_type": "markdown",
   "id": "8ccbc32e-25be-4ba6-b1db-3479c256a2f1",
   "metadata": {
    "tags": []
   },
   "source": [
    "## Conditionals\n",
    "Skapa en variabel som är ett \"slumpmässigt\" reellt tal (använd antingen modulen **random** eller fyll i med en siffra du valt själv) mellan 0 och 100. "
   ]
  },
  {
   "cell_type": "markdown",
   "id": "b12e241e-ab80-40ef-aec7-5456f4e4eda3",
   "metadata": {},
   "source": [
    "- a)   Skriv ut ett meddelande som anger om **heltalet** är jämt eller udda. Andvänd operatorn modulus **%** och **if else**. (Tips: Ändra typen om du alltid får jämna eller udda tal.)"
   ]
  },
  {
   "cell_type": "markdown",
   "id": "0c4739e0-1550-4a50-b972-65982b91868f",
   "metadata": {},
   "source": [
    "- b)   Spara följande i varsin variabel (t.ex. a, b, c etc.): 10000, 0.06, 4.3000, 1400000000, 0.00899, 0.0000000184, 55.\n",
    "\n",
    "Skriv om dem till exponentform och spara i nya variabler (t.ex. w, x, y, z etc.). Använd dig av if och relationsoperatorer för att dubbellkolla att de är samma. Se exempel."
   ]
  },
  {
   "cell_type": "code",
   "execution_count": 7,
   "id": "a87d0559-1237-494b-9925-f3f13fb70456",
   "metadata": {},
   "outputs": [
    {
     "name": "stdout",
     "output_type": "stream",
     "text": [
      "yass\n"
     ]
    }
   ],
   "source": [
    "a = 9000\n",
    "j = 9.0e3\n",
    "if a == j:\n",
    "    print('yass')\n",
    "else:\n",
    "    print('nopes')"
   ]
  },
  {
   "cell_type": "markdown",
   "id": "92384593-e071-4a79-852d-b388b9ca3d52",
   "metadata": {},
   "source": [
    "- c) Vad får du för resultat om du jämför talen med identitet operatorerna **is** och **is not**? Försök förklara varför."
   ]
  },
  {
   "cell_type": "markdown",
   "id": "af4285fe-ae9a-4692-9962-3307bc184869",
   "metadata": {},
   "source": [
    "- d) Nedanstående kod skriver ut en text i terminalfönstret. Försök först själv att fundera ut vad utskriften borde bli. "
   ]
  },
  {
   "cell_type": "raw",
   "id": "9ba524ec-6ba0-441a-8029-dbb1669f7e4d",
   "metadata": {},
   "source": [
    "Matematiska beräkningar\n",
    "print(10 + 3)\n",
    "print(6 * 3)\n",
    "print(7 % 2)\n",
    "print(3 + 4 * 5)\n",
    "print((5 * 2) % 3)"
   ]
  },
  {
   "cell_type": "raw",
   "id": "9a567692-98d7-4d38-9ba7-6c8bf68c08af",
   "metadata": {},
   "source": [
    "Text\n",
    "print(\"5 + 6\")\n",
    "print(\"8\" + \"12\")\n",
    "print(\"6 - 8\")\n",
    "print(\"3\" - \"10\")"
   ]
  },
  {
   "cell_type": "raw",
   "id": "8a0b0f59-b159-4136-9650-adc706bbc7cb",
   "metadata": {},
   "source": [
    "Jämförelse\n",
    "a = 5\n",
    "b = 3\n",
    "print(a > b)\n",
    "print(a * b < a)\n",
    "print(a == b)\n",
    "print(b == a or b == 3)"
   ]
  },
  {
   "cell_type": "markdown",
   "id": "8c37c538-8b24-4659-8b69-c636243a9ff5",
   "metadata": {
    "tags": []
   },
   "source": [
    "## Ifs\n",
    "Anta att vi har en variabel som står för vad någonting kostar: cost = 100\n",
    "\n",
    "Skriv ett program som:\n",
    "\n",
    "- Skriver ut kostnaden på en vara.\n",
    "- Om kostnaden är över 500 ska 10% av priset dras av.\n",
    "- Om kostnaden är över 1000 ska 20% av priset dras av.\n",
    "\n",
    "Exempelvis, utskriften ska vara enligt formatet:\n",
    "\n",
    "*Kostnaden på köpet är 250.0 kr.*\n",
    "\n",
    "*Kostnaden på köpet är 1430.0 kr.*\n",
    "\n",
    "Testa att byta värde på variabeln cost för att se om du har gjort rätt."
   ]
  },
  {
   "cell_type": "markdown",
   "id": "2a5f5a6f-a999-4d25-af56-aaabeef79dca",
   "metadata": {},
   "source": [
    "## Nästlad if\n",
    "I denna uppgift ska vi testa att skapa en nästlad if-sats. Skapa ett program enligt dessa instruktioner:\n",
    "\n",
    "En biosalong har ett system där barn är tillåtna att kolla på filmen om:\n",
    "\n",
    "- Personen är över 15 år\n",
    "- Eller om personer är över 11 år och är med målsman sällskap.\n",
    "\n",
    "Lös uppgiften genom att skapa två nya variabler:\n",
    "- **age**: av typen int som håller åldern på en person\n",
    "- **withParent**: av typen boolean som avgör om personen är med eller utan målsman\n",
    "\n",
    "Avgör sedan med hjälp av en nästlad if-sats om personen tillåts att kolla på filmen eller ej."
   ]
  },
  {
   "cell_type": "markdown",
   "id": "5dd206d4-4938-488f-aa9d-5295bdcb6e5e",
   "metadata": {},
   "source": [
    "## Casting\n",
    "Skriv ett program som har en ålder (siffra) som en variabel.\n",
    "Räkna ut hur många årtionden och år det blir. \n",
    "Skriv ut ett meddelande (se nedan) där du använder dig av resultaten av beräkningarna (dvs. siffrorna i exemplet).\n",
    "\n",
    "**“Du är 2 årtionden och 9 år gammal.”**\n",
    "\n",
    "Använd dig av variabelnamn och sätt ihop dem med text med hjälp av + (plustecknet).\n"
   ]
  },
  {
   "cell_type": "markdown",
   "id": "17802405-171c-4fa0-88c7-ec3bc7efd804",
   "metadata": {},
   "source": [
    "### Casting 2\n",
    "Använd casting för att omvandla följande variabler till sin \"korrekta\" typ: \n",
    "- a = \"4.5\"\n",
    "- b = 'three'\n",
    "- c = 55\n",
    "- d = 1679.0\n",
    "\n",
    "Lägg ihop talen. Vad får du? Fann du ett problem?\n"
   ]
  }
 ],
 "metadata": {
  "kernelspec": {
   "display_name": "Python 3 (ipykernel)",
   "language": "python",
   "name": "python3"
  },
  "language_info": {
   "codemirror_mode": {
    "name": "ipython",
    "version": 3
   },
   "file_extension": ".py",
   "mimetype": "text/x-python",
   "name": "python",
   "nbconvert_exporter": "python",
   "pygments_lexer": "ipython3",
   "version": "3.9.12"
  }
 },
 "nbformat": 4,
 "nbformat_minor": 5
}
